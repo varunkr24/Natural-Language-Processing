{
  "nbformat": 4,
  "nbformat_minor": 0,
  "metadata": {
    "colab": {
      "name": "NLP Classifier.ipynb",
      "provenance": [],
      "authorship_tag": "ABX9TyMMc7VSTJXNnxHGf4TJ8M01",
      "include_colab_link": true
    },
    "kernelspec": {
      "name": "python3",
      "display_name": "Python 3"
    },
    "language_info": {
      "name": "python"
    }
  },
  "cells": [
    {
      "cell_type": "markdown",
      "metadata": {
        "id": "view-in-github",
        "colab_type": "text"
      },
      "source": [
        "<a href=\"https://colab.research.google.com/github/varunkr24/Natural-Language-Processing/blob/Python/NLP_Classifier.ipynb\" target=\"_parent\"><img src=\"https://colab.research.google.com/assets/colab-badge.svg\" alt=\"Open In Colab\"/></a>"
      ]
    },
    {
      "cell_type": "markdown",
      "metadata": {
        "id": "PNKVY95Os5Ji"
      },
      "source": [
        "Blog Authorship Corpus\n",
        "Classification is probably the most popular task that you would deal with in real life. Text in the form of blogs, posts, articles, etc. is written every second. It is a challenge to predict the information about the writer without knowing about him/her. We are going to create a classifier that predicts multiple features of the author of a given text. We have designed it as a Multilabel classification problem. Dataset Blog Authorship Corpus\n",
        "\n",
        "Over 600,000 posts from more than 19 thousand bloggers The Blog Authorship Corpus consists of the collected posts of 19,320 bloggers gathered from blogger.com in August 2004. The corpus incorporates a total of 681,288 posts and over 140 million words - or approximately 35 posts and 7250 words per person. Each blog is presented as a separate file, the name of which indicates a blogger id# and the blogger’s self-provided gender, age, industry, and astrological sign. (All are labeled for gender and age but for many, industry and/or sign is marked as unknown.)\n",
        "\n",
        "All bloggers included in the corpus fall into one of three age groups: 8240 \"10s\" blogs (ages 13-17), 8086 \"20s\" blogs(ages 23-27) 2994 \"30s\" blogs (ages 33-47)\n",
        "\n",
        "For each age group, there is an equal number of male and female bloggers. Each blog in the corpus includes at least 200 occurrences of common English words. All formatting has been stripped with two exceptions. Individual posts within a single blogger are separated by the date of the following post and links within a post are denoted by the label urllink"
      ]
    },
    {
      "cell_type": "markdown",
      "metadata": {
        "id": "WT_T_bEGtKiN"
      },
      "source": [
        "Link to dataset: https://www.kaggle.com/rtatman/blog-authorship-corpus"
      ]
    },
    {
      "cell_type": "markdown",
      "metadata": {
        "id": "7cm2hVHitR0y"
      },
      "source": [
        "OBJECTIVE: The need is to build a NLP classifier which can use input text parameters to determine the label/s of the blog."
      ]
    },
    {
      "cell_type": "code",
      "metadata": {
        "colab": {
          "base_uri": "https://localhost:8080/",
          "height": 129
        },
        "id": "Az7kNC1-sdY5",
        "outputId": "e59eb208-4e4a-4864-9115-c244c8399901"
      },
      "source": [
        ""
      ],
      "execution_count": 1,
      "outputs": [
        {
          "output_type": "error",
          "ename": "SyntaxError",
          "evalue": "ignored",
          "traceback": [
            "\u001b[0;36m  File \u001b[0;32m\"<ipython-input-1-6cd8a8773757>\"\u001b[0;36m, line \u001b[0;32m1\u001b[0m\n\u001b[0;31m    Blog Authorship Corpus\u001b[0m\n\u001b[0m                  ^\u001b[0m\n\u001b[0;31mSyntaxError\u001b[0m\u001b[0;31m:\u001b[0m invalid syntax\n"
          ]
        }
      ]
    }
  ]
}