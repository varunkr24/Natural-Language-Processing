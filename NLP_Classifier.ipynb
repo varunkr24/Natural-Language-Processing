{
  "nbformat": 4,
  "nbformat_minor": 0,
  "metadata": {
    "colab": {
      "name": "NLP Classifier.ipynb",
      "provenance": [],
      "authorship_tag": "ABX9TyMlyspzZkvT7FwlrBcYwNt2",
      "include_colab_link": true
    },
    "kernelspec": {
      "name": "python3",
      "display_name": "Python 3"
    },
    "language_info": {
      "name": "python"
    }
  },
  "cells": [
    {
      "cell_type": "markdown",
      "metadata": {
        "id": "view-in-github",
        "colab_type": "text"
      },
      "source": [
        "<a href=\"https://colab.research.google.com/github/varunkr24/Natural-Language-Processing/blob/Python/NLP_Classifier.ipynb\" target=\"_parent\"><img src=\"https://colab.research.google.com/assets/colab-badge.svg\" alt=\"Open In Colab\"/></a>"
      ]
    },
    {
      "cell_type": "markdown",
      "metadata": {
        "id": "PNKVY95Os5Ji"
      },
      "source": [
        "Blog Authorship Corpus\n",
        "Classification is probably the most popular task that you would deal with in real life. Text in the form of blogs, posts, articles, etc. is written every second. It is a challenge to predict the information about the writer without knowing about him/her. We are going to create a classifier that predicts multiple features of the author of a given text. We have designed it as a Multilabel classification problem. Dataset Blog Authorship Corpus\n",
        "\n",
        "Over 600,000 posts from more than 19 thousand bloggers The Blog Authorship Corpus consists of the collected posts of 19,320 bloggers gathered from blogger.com in August 2004. The corpus incorporates a total of 681,288 posts and over 140 million words - or approximately 35 posts and 7250 words per person. Each blog is presented as a separate file, the name of which indicates a blogger id# and the blogger’s self-provided gender, age, industry, and astrological sign. (All are labeled for gender and age but for many, industry and/or sign is marked as unknown.)\n",
        "\n",
        "All bloggers included in the corpus fall into one of three age groups: 8240 \"10s\" blogs (ages 13-17), 8086 \"20s\" blogs(ages 23-27) 2994 \"30s\" blogs (ages 33-47)\n",
        "\n",
        "For each age group, there is an equal number of male and female bloggers. Each blog in the corpus includes at least 200 occurrences of common English words. All formatting has been stripped with two exceptions. Individual posts within a single blogger are separated by the date of the following post and links within a post are denoted by the label urllink"
      ]
    },
    {
      "cell_type": "markdown",
      "metadata": {
        "id": "WT_T_bEGtKiN"
      },
      "source": [
        "Link to dataset: https://www.kaggle.com/rtatman/blog-authorship-corpus"
      ]
    },
    {
      "cell_type": "markdown",
      "metadata": {
        "id": "7cm2hVHitR0y"
      },
      "source": [
        "OBJECTIVE: The need is to build a NLP classifier which can use input text parameters to determine the label/s of the blog."
      ]
    },
    {
      "cell_type": "markdown",
      "metadata": {
        "id": "V7adm3UYeXdk"
      },
      "source": [
        "STEPS:    \n",
        "1.Import and analyse the data set.   \n",
        "2.Perform data pre-processing on the data:   \n",
        "•Data cleansing by removing unwanted characters, spaces, stop words etc. Convert text to lowercase.   \n",
        "•Target/label merger and transformation   \n",
        "•Train and test split   \n",
        "•Vectorisation, etc.   \n",
        "3.Design, train, tune and test the best text classifier.   \n",
        "4.Display and explain detail the classification report   \n",
        "5.Print the true vs predicted labels for any 5 entries from the dataset."
      ]
    },
    {
      "cell_type": "code",
      "metadata": {
        "id": "Az7kNC1-sdY5"
      },
      "source": [
        "import pandas as pd\n",
        "import numpy as np \n",
        "import re\n",
        "from nltk.corpus import stopwords\n",
        "from sklearn.feature_extraction.text import CountVectorizer\n",
        "from sklearn.model_selection import train_test_split\n",
        "from nltk.stem.snowball import SnowballStemmer\n",
        "import warnings\n",
        "warnings.filterwarnings('ignore')\n",
        "import pandas_profiling as pp\n",
        "import seaborn as sns\n",
        "import matplotlib as plt\n",
        "%matplotlib inline"
      ],
      "execution_count": 1,
      "outputs": []
    },
    {
      "cell_type": "code",
      "metadata": {
        "colab": {
          "base_uri": "https://localhost:8080/"
        },
        "id": "hXREFx5t6ir7",
        "outputId": "f2d108fe-29be-4017-9b0f-f84b9f7311c7"
      },
      "source": [
        "from google.colab import drive\n",
        "drive.mount('/content/drive')"
      ],
      "execution_count": 2,
      "outputs": [
        {
          "output_type": "stream",
          "text": [
            "Mounted at /content/drive\n"
          ],
          "name": "stdout"
        }
      ]
    },
    {
      "cell_type": "markdown",
      "metadata": {
        "id": "BdfM1cyowbCq"
      },
      "source": [
        "https://www.kaggle.com/durgaprasadk10/blog-authorship-corpus-solution"
      ]
    },
    {
      "cell_type": "code",
      "metadata": {
        "id": "2dnUoNrkgddr"
      },
      "source": [
        "df = pd.read_csv('/content/drive/My Drive/AIML/Projects/blogtext.csv')"
      ],
      "execution_count": 3,
      "outputs": []
    },
    {
      "cell_type": "code",
      "metadata": {
        "colab": {
          "base_uri": "https://localhost:8080/",
          "height": 205
        },
        "id": "79DWHFQ-fE-P",
        "outputId": "d7ad78ad-774c-4ca2-c1f3-e6c3d32220ff"
      },
      "source": [
        "df.head()"
      ],
      "execution_count": 4,
      "outputs": [
        {
          "output_type": "execute_result",
          "data": {
            "text/html": [
              "<div>\n",
              "<style scoped>\n",
              "    .dataframe tbody tr th:only-of-type {\n",
              "        vertical-align: middle;\n",
              "    }\n",
              "\n",
              "    .dataframe tbody tr th {\n",
              "        vertical-align: top;\n",
              "    }\n",
              "\n",
              "    .dataframe thead th {\n",
              "        text-align: right;\n",
              "    }\n",
              "</style>\n",
              "<table border=\"1\" class=\"dataframe\">\n",
              "  <thead>\n",
              "    <tr style=\"text-align: right;\">\n",
              "      <th></th>\n",
              "      <th>id</th>\n",
              "      <th>gender</th>\n",
              "      <th>age</th>\n",
              "      <th>topic</th>\n",
              "      <th>sign</th>\n",
              "      <th>date</th>\n",
              "      <th>text</th>\n",
              "    </tr>\n",
              "  </thead>\n",
              "  <tbody>\n",
              "    <tr>\n",
              "      <th>0</th>\n",
              "      <td>2059027</td>\n",
              "      <td>male</td>\n",
              "      <td>15</td>\n",
              "      <td>Student</td>\n",
              "      <td>Leo</td>\n",
              "      <td>14,May,2004</td>\n",
              "      <td>Info has been found (+/- 100 pages,...</td>\n",
              "    </tr>\n",
              "    <tr>\n",
              "      <th>1</th>\n",
              "      <td>2059027</td>\n",
              "      <td>male</td>\n",
              "      <td>15</td>\n",
              "      <td>Student</td>\n",
              "      <td>Leo</td>\n",
              "      <td>13,May,2004</td>\n",
              "      <td>These are the team members:   Drewe...</td>\n",
              "    </tr>\n",
              "    <tr>\n",
              "      <th>2</th>\n",
              "      <td>2059027</td>\n",
              "      <td>male</td>\n",
              "      <td>15</td>\n",
              "      <td>Student</td>\n",
              "      <td>Leo</td>\n",
              "      <td>12,May,2004</td>\n",
              "      <td>In het kader van kernfusie op aarde...</td>\n",
              "    </tr>\n",
              "    <tr>\n",
              "      <th>3</th>\n",
              "      <td>2059027</td>\n",
              "      <td>male</td>\n",
              "      <td>15</td>\n",
              "      <td>Student</td>\n",
              "      <td>Leo</td>\n",
              "      <td>12,May,2004</td>\n",
              "      <td>testing!!!  testing!!!</td>\n",
              "    </tr>\n",
              "    <tr>\n",
              "      <th>4</th>\n",
              "      <td>3581210</td>\n",
              "      <td>male</td>\n",
              "      <td>33</td>\n",
              "      <td>InvestmentBanking</td>\n",
              "      <td>Aquarius</td>\n",
              "      <td>11,June,2004</td>\n",
              "      <td>Thanks to Yahoo!'s Toolbar I can ...</td>\n",
              "    </tr>\n",
              "  </tbody>\n",
              "</table>\n",
              "</div>"
            ],
            "text/plain": [
              "        id  ...                                               text\n",
              "0  2059027  ...             Info has been found (+/- 100 pages,...\n",
              "1  2059027  ...             These are the team members:   Drewe...\n",
              "2  2059027  ...             In het kader van kernfusie op aarde...\n",
              "3  2059027  ...                   testing!!!  testing!!!          \n",
              "4  3581210  ...               Thanks to Yahoo!'s Toolbar I can ...\n",
              "\n",
              "[5 rows x 7 columns]"
            ]
          },
          "metadata": {
            "tags": []
          },
          "execution_count": 4
        }
      ]
    },
    {
      "cell_type": "code",
      "metadata": {
        "colab": {
          "base_uri": "https://localhost:8080/"
        },
        "id": "NFzfaV7OqXHL",
        "outputId": "cb214421-c0cd-4fd5-f5e6-8169ee938e62"
      },
      "source": [
        "df.shape"
      ],
      "execution_count": 5,
      "outputs": [
        {
          "output_type": "execute_result",
          "data": {
            "text/plain": [
              "(681284, 7)"
            ]
          },
          "metadata": {
            "tags": []
          },
          "execution_count": 5
        }
      ]
    },
    {
      "cell_type": "code",
      "metadata": {
        "colab": {
          "base_uri": "https://localhost:8080/",
          "height": 205
        },
        "id": "c_7zGmJIqqhz",
        "outputId": "e3227ae1-9402-4d73-9c86-272dfb868b87"
      },
      "source": [
        "df.sample(5)"
      ],
      "execution_count": 6,
      "outputs": [
        {
          "output_type": "execute_result",
          "data": {
            "text/html": [
              "<div>\n",
              "<style scoped>\n",
              "    .dataframe tbody tr th:only-of-type {\n",
              "        vertical-align: middle;\n",
              "    }\n",
              "\n",
              "    .dataframe tbody tr th {\n",
              "        vertical-align: top;\n",
              "    }\n",
              "\n",
              "    .dataframe thead th {\n",
              "        text-align: right;\n",
              "    }\n",
              "</style>\n",
              "<table border=\"1\" class=\"dataframe\">\n",
              "  <thead>\n",
              "    <tr style=\"text-align: right;\">\n",
              "      <th></th>\n",
              "      <th>id</th>\n",
              "      <th>gender</th>\n",
              "      <th>age</th>\n",
              "      <th>topic</th>\n",
              "      <th>sign</th>\n",
              "      <th>date</th>\n",
              "      <th>text</th>\n",
              "    </tr>\n",
              "  </thead>\n",
              "  <tbody>\n",
              "    <tr>\n",
              "      <th>114375</th>\n",
              "      <td>3765746</td>\n",
              "      <td>female</td>\n",
              "      <td>16</td>\n",
              "      <td>indUnk</td>\n",
              "      <td>Aquarius</td>\n",
              "      <td>30,June,2004</td>\n",
              "      <td>Well today was just interesting.  A...</td>\n",
              "    </tr>\n",
              "    <tr>\n",
              "      <th>48954</th>\n",
              "      <td>3824594</td>\n",
              "      <td>male</td>\n",
              "      <td>27</td>\n",
              "      <td>Advertising</td>\n",
              "      <td>Virgo</td>\n",
              "      <td>01,August,2004</td>\n",
              "      <td>I was in traffic school last night....</td>\n",
              "    </tr>\n",
              "    <tr>\n",
              "      <th>126386</th>\n",
              "      <td>3667467</td>\n",
              "      <td>male</td>\n",
              "      <td>24</td>\n",
              "      <td>Student</td>\n",
              "      <td>Taurus</td>\n",
              "      <td>18,June,2004</td>\n",
              "      <td>From now on my weblog posts will be her...</td>\n",
              "    </tr>\n",
              "    <tr>\n",
              "      <th>415707</th>\n",
              "      <td>3572706</td>\n",
              "      <td>male</td>\n",
              "      <td>17</td>\n",
              "      <td>indUnk</td>\n",
              "      <td>Gemini</td>\n",
              "      <td>21,June,2004</td>\n",
              "      <td>there is a pic of the flyer at www....</td>\n",
              "    </tr>\n",
              "    <tr>\n",
              "      <th>312850</th>\n",
              "      <td>581839</td>\n",
              "      <td>female</td>\n",
              "      <td>16</td>\n",
              "      <td>Student</td>\n",
              "      <td>Taurus</td>\n",
              "      <td>02,August,2004</td>\n",
              "      <td>Now homework is really bad. but i s...</td>\n",
              "    </tr>\n",
              "  </tbody>\n",
              "</table>\n",
              "</div>"
            ],
            "text/plain": [
              "             id  ...                                               text\n",
              "114375  3765746  ...             Well today was just interesting.  A...\n",
              "48954   3824594  ...             I was in traffic school last night....\n",
              "126386  3667467  ...         From now on my weblog posts will be her...\n",
              "415707  3572706  ...             there is a pic of the flyer at www....\n",
              "312850   581839  ...             Now homework is really bad. but i s...\n",
              "\n",
              "[5 rows x 7 columns]"
            ]
          },
          "metadata": {
            "tags": []
          },
          "execution_count": 6
        }
      ]
    },
    {
      "cell_type": "code",
      "metadata": {
        "colab": {
          "base_uri": "https://localhost:8080/"
        },
        "id": "YZUjJxTBxcMu",
        "outputId": "114a73aa-8a2f-4615-81d4-fc855b727cb6"
      },
      "source": [
        "df.info()"
      ],
      "execution_count": 7,
      "outputs": [
        {
          "output_type": "stream",
          "text": [
            "<class 'pandas.core.frame.DataFrame'>\n",
            "RangeIndex: 681284 entries, 0 to 681283\n",
            "Data columns (total 7 columns):\n",
            " #   Column  Non-Null Count   Dtype \n",
            "---  ------  --------------   ----- \n",
            " 0   id      681284 non-null  int64 \n",
            " 1   gender  681284 non-null  object\n",
            " 2   age     681284 non-null  int64 \n",
            " 3   topic   681284 non-null  object\n",
            " 4   sign    681284 non-null  object\n",
            " 5   date    681284 non-null  object\n",
            " 6   text    681284 non-null  object\n",
            "dtypes: int64(2), object(5)\n",
            "memory usage: 36.4+ MB\n"
          ],
          "name": "stdout"
        }
      ]
    },
    {
      "cell_type": "code",
      "metadata": {
        "colab": {
          "base_uri": "https://localhost:8080/"
        },
        "id": "eiMyWnb_yvpC",
        "outputId": "5565e1a4-b32b-4a8b-b255-8c45f7e323c0"
      },
      "source": [
        "df.gender.value_counts()"
      ],
      "execution_count": 8,
      "outputs": [
        {
          "output_type": "execute_result",
          "data": {
            "text/plain": [
              "male      345193\n",
              "female    336091\n",
              "Name: gender, dtype: int64"
            ]
          },
          "metadata": {
            "tags": []
          },
          "execution_count": 8
        }
      ]
    },
    {
      "cell_type": "code",
      "metadata": {
        "id": "noFb2YyoPF9H",
        "outputId": "f25c8f0e-8443-4f1e-a02a-6a1191a328f3",
        "colab": {
          "base_uri": "https://localhost:8080/"
        }
      },
      "source": [
        "df.gender.value_counts(normalize=True)"
      ],
      "execution_count": 11,
      "outputs": [
        {
          "output_type": "execute_result",
          "data": {
            "text/plain": [
              "male      0.50668\n",
              "female    0.49332\n",
              "Name: gender, dtype: float64"
            ]
          },
          "metadata": {
            "tags": []
          },
          "execution_count": 11
        }
      ]
    },
    {
      "cell_type": "code",
      "metadata": {
        "colab": {
          "base_uri": "https://localhost:8080/"
        },
        "id": "0Qfx0n7czGYj",
        "outputId": "6c812f32-f007-4722-a0b6-9cd0f73d0685"
      },
      "source": [
        "df.isna().sum()"
      ],
      "execution_count": 12,
      "outputs": [
        {
          "output_type": "execute_result",
          "data": {
            "text/plain": [
              "id        0\n",
              "gender    0\n",
              "age       0\n",
              "topic     0\n",
              "sign      0\n",
              "date      0\n",
              "text      0\n",
              "dtype: int64"
            ]
          },
          "metadata": {
            "tags": []
          },
          "execution_count": 12
        }
      ]
    },
    {
      "cell_type": "code",
      "metadata": {
        "colab": {
          "base_uri": "https://localhost:8080/",
          "height": 296
        },
        "id": "_NaY194vzlBP",
        "outputId": "cf37580a-76a3-4d7e-a5ef-f351f653f457"
      },
      "source": [
        "sns.countplot(x='sign',data=df)"
      ],
      "execution_count": 13,
      "outputs": [
        {
          "output_type": "execute_result",
          "data": {
            "text/plain": [
              "<matplotlib.axes._subplots.AxesSubplot at 0x7f734d5608d0>"
            ]
          },
          "metadata": {
            "tags": []
          },
          "execution_count": 13
        },
        {
          "output_type": "display_data",
          "data": {
            "image/png": "[encoded data removed]",
            "text/plain": [
              "<Figure size 432x288 with 1 Axes>"
            ]
          },
          "metadata": {
            "tags": [],
            "needs_background": "light"
          }
        }
      ]
    },
    {
      "cell_type": "markdown",
      "metadata": {
        "id": "gHFoYsN4CmYk"
      },
      "source": [
        "As the dataset is large and it is unable run on machine so limiting the data and using fewer rows."
      ]
    },
    {
      "cell_type": "code",
      "metadata": {
        "id": "aQrE9KEICidI"
      },
      "source": [
        "  df = df.sample(100000)"
      ],
      "execution_count": 14,
      "outputs": []
    },
    {
      "cell_type": "code",
      "metadata": {
        "colab": {
          "base_uri": "https://localhost:8080/"
        },
        "id": "V61lLBcgDWQf",
        "outputId": "f298bad7-dbb0-4825-d54d-8c6995ed0792"
      },
      "source": [
        "df.gender.value_counts()"
      ],
      "execution_count": 15,
      "outputs": [
        {
          "output_type": "execute_result",
          "data": {
            "text/plain": [
              "male      50570\n",
              "female    49430\n",
              "Name: gender, dtype: int64"
            ]
          },
          "metadata": {
            "tags": []
          },
          "execution_count": 15
        }
      ]
    },
    {
      "cell_type": "code",
      "metadata": {
        "colab": {
          "base_uri": "https://localhost:8080/",
          "height": 205
        },
        "id": "Nuof8bsMDNCC",
        "outputId": "e4613bb0-1f99-4573-9160-801c985c0970"
      },
      "source": [
        "df.head(5)"
      ],
      "execution_count": 16,
      "outputs": [
        {
          "output_type": "execute_result",
          "data": {
            "text/html": [
              "<div>\n",
              "<style scoped>\n",
              "    .dataframe tbody tr th:only-of-type {\n",
              "        vertical-align: middle;\n",
              "    }\n",
              "\n",
              "    .dataframe tbody tr th {\n",
              "        vertical-align: top;\n",
              "    }\n",
              "\n",
              "    .dataframe thead th {\n",
              "        text-align: right;\n",
              "    }\n",
              "</style>\n",
              "<table border=\"1\" class=\"dataframe\">\n",
              "  <thead>\n",
              "    <tr style=\"text-align: right;\">\n",
              "      <th></th>\n",
              "      <th>id</th>\n",
              "      <th>gender</th>\n",
              "      <th>age</th>\n",
              "      <th>topic</th>\n",
              "      <th>sign</th>\n",
              "      <th>date</th>\n",
              "      <th>text</th>\n",
              "    </tr>\n",
              "  </thead>\n",
              "  <tbody>\n",
              "    <tr>\n",
              "      <th>142238</th>\n",
              "      <td>3898853</td>\n",
              "      <td>male</td>\n",
              "      <td>16</td>\n",
              "      <td>indUnk</td>\n",
              "      <td>Scorpio</td>\n",
              "      <td>12,July,2004</td>\n",
              "      <td>I found this on andother blog and i thi...</td>\n",
              "    </tr>\n",
              "    <tr>\n",
              "      <th>218859</th>\n",
              "      <td>303162</td>\n",
              "      <td>female</td>\n",
              "      <td>38</td>\n",
              "      <td>indUnk</td>\n",
              "      <td>Virgo</td>\n",
              "      <td>30,May,2004</td>\n",
              "      <td>The  urlLink Friday Five :   1. How are...</td>\n",
              "    </tr>\n",
              "    <tr>\n",
              "      <th>8999</th>\n",
              "      <td>3477296</td>\n",
              "      <td>male</td>\n",
              "      <td>15</td>\n",
              "      <td>Student</td>\n",
              "      <td>Virgo</td>\n",
              "      <td>16,July,2004</td>\n",
              "      <td>Seems like everyone these day...</td>\n",
              "    </tr>\n",
              "    <tr>\n",
              "      <th>378837</th>\n",
              "      <td>2268074</td>\n",
              "      <td>male</td>\n",
              "      <td>47</td>\n",
              "      <td>BusinessServices</td>\n",
              "      <td>Leo</td>\n",
              "      <td>12,April,2004</td>\n",
              "      <td>I really liked the article I link to bel...</td>\n",
              "    </tr>\n",
              "    <tr>\n",
              "      <th>465064</th>\n",
              "      <td>1524664</td>\n",
              "      <td>female</td>\n",
              "      <td>23</td>\n",
              "      <td>Law</td>\n",
              "      <td>Capricorn</td>\n",
              "      <td>01,February,2004</td>\n",
              "      <td>I  never  want to see Justin Timberlake...</td>\n",
              "    </tr>\n",
              "  </tbody>\n",
              "</table>\n",
              "</div>"
            ],
            "text/plain": [
              "             id  ...                                               text\n",
              "142238  3898853  ...         I found this on andother blog and i thi...\n",
              "218859   303162  ...         The  urlLink Friday Five :   1. How are...\n",
              "8999    3477296  ...                   Seems like everyone these day...\n",
              "378837  2268074  ...        I really liked the article I link to bel...\n",
              "465064  1524664  ...         I  never  want to see Justin Timberlake...\n",
              "\n",
              "[5 rows x 7 columns]"
            ]
          },
          "metadata": {
            "tags": []
          },
          "execution_count": 16
        }
      ]
    },
    {
      "cell_type": "markdown",
      "metadata": {
        "id": "fU0elf6Kz3U_"
      },
      "source": [
        "**Preprocess rows of the “text” column**  \n",
        "a. Remove unwanted characters\n",
        "\n",
        "b. Convert text to lowercase\n",
        "\n",
        "c. Remove unwanted spaces\n",
        "\n",
        "d. Remove stopwords"
      ]
    },
    {
      "cell_type": "code",
      "metadata": {
        "id": "tOiTDwimzvcH"
      },
      "source": [
        "pattern = \"[^\\w ]\"\n",
        "df.text = df.text.apply(lambda s : re.sub(pattern,\"\",s))"
      ],
      "execution_count": 17,
      "outputs": []
    },
    {
      "cell_type": "code",
      "metadata": {
        "colab": {
          "base_uri": "https://localhost:8080/",
          "height": 205
        },
        "id": "prnb1Peq0L4y",
        "outputId": "f84f0cd3-751e-4ab7-be43-8e2f6d77f69e"
      },
      "source": [
        "df.head()"
      ],
      "execution_count": 18,
      "outputs": [
        {
          "output_type": "execute_result",
          "data": {
            "text/html": [
              "<div>\n",
              "<style scoped>\n",
              "    .dataframe tbody tr th:only-of-type {\n",
              "        vertical-align: middle;\n",
              "    }\n",
              "\n",
              "    .dataframe tbody tr th {\n",
              "        vertical-align: top;\n",
              "    }\n",
              "\n",
              "    .dataframe thead th {\n",
              "        text-align: right;\n",
              "    }\n",
              "</style>\n",
              "<table border=\"1\" class=\"dataframe\">\n",
              "  <thead>\n",
              "    <tr style=\"text-align: right;\">\n",
              "      <th></th>\n",
              "      <th>id</th>\n",
              "      <th>gender</th>\n",
              "      <th>age</th>\n",
              "      <th>topic</th>\n",
              "      <th>sign</th>\n",
              "      <th>date</th>\n",
              "      <th>text</th>\n",
              "    </tr>\n",
              "  </thead>\n",
              "  <tbody>\n",
              "    <tr>\n",
              "      <th>142238</th>\n",
              "      <td>3898853</td>\n",
              "      <td>male</td>\n",
              "      <td>16</td>\n",
              "      <td>indUnk</td>\n",
              "      <td>Scorpio</td>\n",
              "      <td>12,July,2004</td>\n",
              "      <td>I found this on andother blog and i thi...</td>\n",
              "    </tr>\n",
              "    <tr>\n",
              "      <th>218859</th>\n",
              "      <td>303162</td>\n",
              "      <td>female</td>\n",
              "      <td>38</td>\n",
              "      <td>indUnk</td>\n",
              "      <td>Virgo</td>\n",
              "      <td>30,May,2004</td>\n",
              "      <td>The  urlLink Friday Five    1 How are y...</td>\n",
              "    </tr>\n",
              "    <tr>\n",
              "      <th>8999</th>\n",
              "      <td>3477296</td>\n",
              "      <td>male</td>\n",
              "      <td>15</td>\n",
              "      <td>Student</td>\n",
              "      <td>Virgo</td>\n",
              "      <td>16,July,2004</td>\n",
              "      <td>Seems like everyone these day...</td>\n",
              "    </tr>\n",
              "    <tr>\n",
              "      <th>378837</th>\n",
              "      <td>2268074</td>\n",
              "      <td>male</td>\n",
              "      <td>47</td>\n",
              "      <td>BusinessServices</td>\n",
              "      <td>Leo</td>\n",
              "      <td>12,April,2004</td>\n",
              "      <td>I really liked the article I link to bel...</td>\n",
              "    </tr>\n",
              "    <tr>\n",
              "      <th>465064</th>\n",
              "      <td>1524664</td>\n",
              "      <td>female</td>\n",
              "      <td>23</td>\n",
              "      <td>Law</td>\n",
              "      <td>Capricorn</td>\n",
              "      <td>01,February,2004</td>\n",
              "      <td>I  never  want to see Justin Timberlake...</td>\n",
              "    </tr>\n",
              "  </tbody>\n",
              "</table>\n",
              "</div>"
            ],
            "text/plain": [
              "             id  ...                                               text\n",
              "142238  3898853  ...         I found this on andother blog and i thi...\n",
              "218859   303162  ...         The  urlLink Friday Five    1 How are y...\n",
              "8999    3477296  ...                   Seems like everyone these day...\n",
              "378837  2268074  ...        I really liked the article I link to bel...\n",
              "465064  1524664  ...         I  never  want to see Justin Timberlake...\n",
              "\n",
              "[5 rows x 7 columns]"
            ]
          },
          "metadata": {
            "tags": []
          },
          "execution_count": 18
        }
      ]
    },
    {
      "cell_type": "markdown",
      "metadata": {
        "id": "m_kCFMjZDkfa"
      },
      "source": [
        "**Convert text to lower case**"
      ]
    },
    {
      "cell_type": "code",
      "metadata": {
        "id": "yFRv5Upm0y8O"
      },
      "source": [
        "df.text = df.text.apply(lambda s: s.lower())  "
      ],
      "execution_count": 19,
      "outputs": []
    },
    {
      "cell_type": "markdown",
      "metadata": {
        "id": "cxCxWsYuDu9J"
      },
      "source": [
        "**Remove unwanted spaces**"
      ]
    },
    {
      "cell_type": "code",
      "metadata": {
        "id": "KgfpJ3Ca0_tz"
      },
      "source": [
        "df.text = df.text.apply(lambda s: s.strip())"
      ],
      "execution_count": 20,
      "outputs": []
    },
    {
      "cell_type": "markdown",
      "metadata": {
        "id": "RuwxYDpFD6zu"
      },
      "source": [
        "**Remove stopwords**"
      ]
    },
    {
      "cell_type": "code",
      "metadata": {
        "colab": {
          "base_uri": "https://localhost:8080/"
        },
        "id": "KY8MXifp1KAI",
        "outputId": "6cee96ee-0a8b-44b5-a00e-97cf748097dd"
      },
      "source": [
        "import nltk\n",
        "nltk.download('stopwords')"
      ],
      "execution_count": 21,
      "outputs": [
        {
          "output_type": "stream",
          "text": [
            "[nltk_data] Downloading package stopwords to /root/nltk_data...\n",
            "[nltk_data]   Unzipping corpora/stopwords.zip.\n"
          ],
          "name": "stdout"
        },
        {
          "output_type": "execute_result",
          "data": {
            "text/plain": [
              "True"
            ]
          },
          "metadata": {
            "tags": []
          },
          "execution_count": 21
        }
      ]
    },
    {
      "cell_type": "code",
      "metadata": {
        "id": "9pHU5rnf1v8s"
      },
      "source": [
        "stopwords= set(stopwords.words('english'))"
      ],
      "execution_count": 22,
      "outputs": []
    },
    {
      "cell_type": "code",
      "metadata": {
        "id": "C0W3fWw_d1ic"
      },
      "source": [
        "df.text = df.text.apply(lambda t: ' '.join([words for words in t.split() if words not in stopwords]) )"
      ],
      "execution_count": 23,
      "outputs": []
    },
    {
      "cell_type": "code",
      "metadata": {
        "colab": {
          "base_uri": "https://localhost:8080/",
          "height": 205
        },
        "id": "AOMK3aklixXR",
        "outputId": "dfe80b06-b80a-4413-e228-f557da9dbea1"
      },
      "source": [
        "df.head()"
      ],
      "execution_count": 24,
      "outputs": [
        {
          "output_type": "execute_result",
          "data": {
            "text/html": [
              "<div>\n",
              "<style scoped>\n",
              "    .dataframe tbody tr th:only-of-type {\n",
              "        vertical-align: middle;\n",
              "    }\n",
              "\n",
              "    .dataframe tbody tr th {\n",
              "        vertical-align: top;\n",
              "    }\n",
              "\n",
              "    .dataframe thead th {\n",
              "        text-align: right;\n",
              "    }\n",
              "</style>\n",
              "<table border=\"1\" class=\"dataframe\">\n",
              "  <thead>\n",
              "    <tr style=\"text-align: right;\">\n",
              "      <th></th>\n",
              "      <th>id</th>\n",
              "      <th>gender</th>\n",
              "      <th>age</th>\n",
              "      <th>topic</th>\n",
              "      <th>sign</th>\n",
              "      <th>date</th>\n",
              "      <th>text</th>\n",
              "    </tr>\n",
              "  </thead>\n",
              "  <tbody>\n",
              "    <tr>\n",
              "      <th>142238</th>\n",
              "      <td>3898853</td>\n",
              "      <td>male</td>\n",
              "      <td>16</td>\n",
              "      <td>indUnk</td>\n",
              "      <td>Scorpio</td>\n",
              "      <td>12,July,2004</td>\n",
              "      <td>found andother blog think quite good good idea...</td>\n",
              "    </tr>\n",
              "    <tr>\n",
              "      <th>218859</th>\n",
              "      <td>303162</td>\n",
              "      <td>female</td>\n",
              "      <td>38</td>\n",
              "      <td>indUnk</td>\n",
              "      <td>Virgo</td>\n",
              "      <td>30,May,2004</td>\n",
              "      <td>urllink friday five 1 planning spend summer li...</td>\n",
              "    </tr>\n",
              "    <tr>\n",
              "      <th>8999</th>\n",
              "      <td>3477296</td>\n",
              "      <td>male</td>\n",
              "      <td>15</td>\n",
              "      <td>Student</td>\n",
              "      <td>Virgo</td>\n",
              "      <td>16,July,2004</td>\n",
              "      <td>seems like everyone days turning religion time...</td>\n",
              "    </tr>\n",
              "    <tr>\n",
              "      <th>378837</th>\n",
              "      <td>2268074</td>\n",
              "      <td>male</td>\n",
              "      <td>47</td>\n",
              "      <td>BusinessServices</td>\n",
              "      <td>Leo</td>\n",
              "      <td>12,April,2004</td>\n",
              "      <td>really liked article link written journalist a...</td>\n",
              "    </tr>\n",
              "    <tr>\n",
              "      <th>465064</th>\n",
              "      <td>1524664</td>\n",
              "      <td>female</td>\n",
              "      <td>23</td>\n",
              "      <td>Law</td>\n",
              "      <td>Capricorn</td>\n",
              "      <td>01,February,2004</td>\n",
              "      <td>never want see justin timberlake dryhumping ja...</td>\n",
              "    </tr>\n",
              "  </tbody>\n",
              "</table>\n",
              "</div>"
            ],
            "text/plain": [
              "             id  ...                                               text\n",
              "142238  3898853  ...  found andother blog think quite good good idea...\n",
              "218859   303162  ...  urllink friday five 1 planning spend summer li...\n",
              "8999    3477296  ...  seems like everyone days turning religion time...\n",
              "378837  2268074  ...  really liked article link written journalist a...\n",
              "465064  1524664  ...  never want see justin timberlake dryhumping ja...\n",
              "\n",
              "[5 rows x 7 columns]"
            ]
          },
          "metadata": {
            "tags": []
          },
          "execution_count": 24
        }
      ]
    },
    {
      "cell_type": "markdown",
      "metadata": {
        "id": "oCGYkKv6EQGM"
      },
      "source": [
        "**Drop id and date columns**"
      ]
    },
    {
      "cell_type": "code",
      "metadata": {
        "id": "V_B_txTIi7SI"
      },
      "source": [
        "df.drop(labels=['id','date'], axis=1, inplace = True)"
      ],
      "execution_count": 25,
      "outputs": []
    },
    {
      "cell_type": "markdown",
      "metadata": {
        "id": "hzPcpWZY3Xh-"
      },
      "source": [
        "As we want to make this into a multi-label classification problem, it is required to merge all the label columns together, so that we have all the labels together for a particular sentence"
      ]
    },
    {
      "cell_type": "code",
      "metadata": {
        "id": "6QH8_-6N3P8O"
      },
      "source": [
        "df['labels'] = df.apply(lambda col : [col['gender'],col['age'],col['topic'],col['sign']], axis=1)"
      ],
      "execution_count": 26,
      "outputs": []
    },
    {
      "cell_type": "code",
      "metadata": {
        "colab": {
          "base_uri": "https://localhost:8080/",
          "height": 205
        },
        "id": "RdQ2kbsG3rA7",
        "outputId": "4eeb64c9-d47b-4959-baeb-2983a35cf931"
      },
      "source": [
        "df.head()\n"
      ],
      "execution_count": 27,
      "outputs": [
        {
          "output_type": "execute_result",
          "data": {
            "text/html": [
              "<div>\n",
              "<style scoped>\n",
              "    .dataframe tbody tr th:only-of-type {\n",
              "        vertical-align: middle;\n",
              "    }\n",
              "\n",
              "    .dataframe tbody tr th {\n",
              "        vertical-align: top;\n",
              "    }\n",
              "\n",
              "    .dataframe thead th {\n",
              "        text-align: right;\n",
              "    }\n",
              "</style>\n",
              "<table border=\"1\" class=\"dataframe\">\n",
              "  <thead>\n",
              "    <tr style=\"text-align: right;\">\n",
              "      <th></th>\n",
              "      <th>gender</th>\n",
              "      <th>age</th>\n",
              "      <th>topic</th>\n",
              "      <th>sign</th>\n",
              "      <th>text</th>\n",
              "      <th>labels</th>\n",
              "    </tr>\n",
              "  </thead>\n",
              "  <tbody>\n",
              "    <tr>\n",
              "      <th>142238</th>\n",
              "      <td>male</td>\n",
              "      <td>16</td>\n",
              "      <td>indUnk</td>\n",
              "      <td>Scorpio</td>\n",
              "      <td>found andother blog think quite good good idea...</td>\n",
              "      <td>[male, 16, indUnk, Scorpio]</td>\n",
              "    </tr>\n",
              "    <tr>\n",
              "      <th>218859</th>\n",
              "      <td>female</td>\n",
              "      <td>38</td>\n",
              "      <td>indUnk</td>\n",
              "      <td>Virgo</td>\n",
              "      <td>urllink friday five 1 planning spend summer li...</td>\n",
              "      <td>[female, 38, indUnk, Virgo]</td>\n",
              "    </tr>\n",
              "    <tr>\n",
              "      <th>8999</th>\n",
              "      <td>male</td>\n",
              "      <td>15</td>\n",
              "      <td>Student</td>\n",
              "      <td>Virgo</td>\n",
              "      <td>seems like everyone days turning religion time...</td>\n",
              "      <td>[male, 15, Student, Virgo]</td>\n",
              "    </tr>\n",
              "    <tr>\n",
              "      <th>378837</th>\n",
              "      <td>male</td>\n",
              "      <td>47</td>\n",
              "      <td>BusinessServices</td>\n",
              "      <td>Leo</td>\n",
              "      <td>really liked article link written journalist a...</td>\n",
              "      <td>[male, 47, BusinessServices, Leo]</td>\n",
              "    </tr>\n",
              "    <tr>\n",
              "      <th>465064</th>\n",
              "      <td>female</td>\n",
              "      <td>23</td>\n",
              "      <td>Law</td>\n",
              "      <td>Capricorn</td>\n",
              "      <td>never want see justin timberlake dryhumping ja...</td>\n",
              "      <td>[female, 23, Law, Capricorn]</td>\n",
              "    </tr>\n",
              "  </tbody>\n",
              "</table>\n",
              "</div>"
            ],
            "text/plain": [
              "        gender  ...                             labels\n",
              "142238    male  ...        [male, 16, indUnk, Scorpio]\n",
              "218859  female  ...        [female, 38, indUnk, Virgo]\n",
              "8999      male  ...         [male, 15, Student, Virgo]\n",
              "378837    male  ...  [male, 47, BusinessServices, Leo]\n",
              "465064  female  ...       [female, 23, Law, Capricorn]\n",
              "\n",
              "[5 rows x 6 columns]"
            ]
          },
          "metadata": {
            "tags": []
          },
          "execution_count": 27
        }
      ]
    },
    {
      "cell_type": "code",
      "metadata": {
        "id": "SIfaFIbs3-I3"
      },
      "source": [
        "df.drop(columns=['gender','age','topic','sign'], axis=1, inplace=True)"
      ],
      "execution_count": 28,
      "outputs": []
    },
    {
      "cell_type": "code",
      "metadata": {
        "colab": {
          "base_uri": "https://localhost:8080/",
          "height": 205
        },
        "id": "h3sI6W7k4FL2",
        "outputId": "c520afe6-3c41-481f-9605-4e21ff3ab71c"
      },
      "source": [
        "df.head()"
      ],
      "execution_count": 29,
      "outputs": [
        {
          "output_type": "execute_result",
          "data": {
            "text/html": [
              "<div>\n",
              "<style scoped>\n",
              "    .dataframe tbody tr th:only-of-type {\n",
              "        vertical-align: middle;\n",
              "    }\n",
              "\n",
              "    .dataframe tbody tr th {\n",
              "        vertical-align: top;\n",
              "    }\n",
              "\n",
              "    .dataframe thead th {\n",
              "        text-align: right;\n",
              "    }\n",
              "</style>\n",
              "<table border=\"1\" class=\"dataframe\">\n",
              "  <thead>\n",
              "    <tr style=\"text-align: right;\">\n",
              "      <th></th>\n",
              "      <th>text</th>\n",
              "      <th>labels</th>\n",
              "    </tr>\n",
              "  </thead>\n",
              "  <tbody>\n",
              "    <tr>\n",
              "      <th>142238</th>\n",
              "      <td>found andother blog think quite good good idea...</td>\n",
              "      <td>[male, 16, indUnk, Scorpio]</td>\n",
              "    </tr>\n",
              "    <tr>\n",
              "      <th>218859</th>\n",
              "      <td>urllink friday five 1 planning spend summer li...</td>\n",
              "      <td>[female, 38, indUnk, Virgo]</td>\n",
              "    </tr>\n",
              "    <tr>\n",
              "      <th>8999</th>\n",
              "      <td>seems like everyone days turning religion time...</td>\n",
              "      <td>[male, 15, Student, Virgo]</td>\n",
              "    </tr>\n",
              "    <tr>\n",
              "      <th>378837</th>\n",
              "      <td>really liked article link written journalist a...</td>\n",
              "      <td>[male, 47, BusinessServices, Leo]</td>\n",
              "    </tr>\n",
              "    <tr>\n",
              "      <th>465064</th>\n",
              "      <td>never want see justin timberlake dryhumping ja...</td>\n",
              "      <td>[female, 23, Law, Capricorn]</td>\n",
              "    </tr>\n",
              "  </tbody>\n",
              "</table>\n",
              "</div>"
            ],
            "text/plain": [
              "                                                     text                             labels\n",
              "142238  found andother blog think quite good good idea...        [male, 16, indUnk, Scorpio]\n",
              "218859  urllink friday five 1 planning spend summer li...        [female, 38, indUnk, Virgo]\n",
              "8999    seems like everyone days turning religion time...         [male, 15, Student, Virgo]\n",
              "378837  really liked article link written journalist a...  [male, 47, BusinessServices, Leo]\n",
              "465064  never want see justin timberlake dryhumping ja...       [female, 23, Law, Capricorn]"
            ]
          },
          "metadata": {
            "tags": []
          },
          "execution_count": 29
        }
      ]
    },
    {
      "cell_type": "code",
      "metadata": {
        "id": "QZ6rDesY4KMc"
      },
      "source": [
        "import copy\n",
        "X= df.text.copy(deep = True)\n",
        "y = df.labels.copy(deep=True)"
      ],
      "execution_count": 30,
      "outputs": []
    },
    {
      "cell_type": "code",
      "metadata": {
        "id": "6oFVDXpd4emf"
      },
      "source": [
        "X_train, X_test, y_train, y_test = train_test_split(X,y, random_state=2,test_size = 0.2)"
      ],
      "execution_count": 31,
      "outputs": []
    },
    {
      "cell_type": "code",
      "metadata": {
        "colab": {
          "base_uri": "https://localhost:8080/"
        },
        "id": "Gwf-NI5l4kTx",
        "outputId": "e412a7cd-dccc-455a-b52e-f48d4d2ca311"
      },
      "source": [
        "print(X_train.shape), print(y_train.shape)\n",
        "print(X_test.shape), print(y_test.shape)"
      ],
      "execution_count": 32,
      "outputs": [
        {
          "output_type": "stream",
          "text": [
            "(80000,)\n",
            "(80000,)\n",
            "(20000,)\n",
            "(20000,)\n"
          ],
          "name": "stdout"
        },
        {
          "output_type": "execute_result",
          "data": {
            "text/plain": [
              "(None, None)"
            ]
          },
          "metadata": {
            "tags": []
          },
          "execution_count": 32
        }
      ]
    },
    {
      "cell_type": "code",
      "metadata": {
        "colab": {
          "base_uri": "https://localhost:8080/"
        },
        "id": "WDZMtnm645Ol",
        "outputId": "43d5fa13-9107-42a4-aad6-d829b355c66a"
      },
      "source": [
        "X_test.head()"
      ],
      "execution_count": 33,
      "outputs": [
        {
          "output_type": "execute_result",
          "data": {
            "text/plain": [
              "76586     whatever tuesday night nbsp update blogs new o...\n",
              "520698    almost new year totally buzzinrightoff alcohol...\n",
              "531643    sleepy man heavy lunch cassandra new harbour c...\n",
              "274917    travis company planned another lan party frida...\n",
              "493217    im w c williams poetics readings im gonna real...\n",
              "Name: text, dtype: object"
            ]
          },
          "metadata": {
            "tags": []
          },
          "execution_count": 33
        }
      ]
    },
    {
      "cell_type": "markdown",
      "metadata": {
        "id": "HQAQLbYq5Lhn"
      },
      "source": [
        "**Vectorize the features**  \n",
        "a. Create a Bag of Words using count vectorizer\n",
        "\n",
        "i. Use ngram_range=(1, 2)\n",
        "\n",
        "ii. Vectorize training and testing features\n",
        "\n",
        "b. Print the term-document matrix"
      ]
    },
    {
      "cell_type": "code",
      "metadata": {
        "id": "4TEHChyt5FD5"
      },
      "source": [
        "cvect = CountVectorizer(ngram_range=(1,2))"
      ],
      "execution_count": 34,
      "outputs": []
    },
    {
      "cell_type": "code",
      "metadata": {
        "colab": {
          "base_uri": "https://localhost:8080/"
        },
        "id": "8pmXZs0y5V_n",
        "outputId": "934bae68-6908-4a64-aca8-daf974b369ae"
      },
      "source": [
        "cvect.fit(X_train)\n",
        "\n",
        "#Check the vocablury size\n",
        "\n",
        "len(cvect.vocabulary_)"
      ],
      "execution_count": 35,
      "outputs": [
        {
          "output_type": "execute_result",
          "data": {
            "text/plain": [
              "4748937"
            ]
          },
          "metadata": {
            "tags": []
          },
          "execution_count": 35
        }
      ]
    },
    {
      "cell_type": "code",
      "metadata": {
        "colab": {
          "base_uri": "https://localhost:8080/"
        },
        "id": "hJXPRiGh5eEH",
        "outputId": "71906e4e-3410-46c8-899c-6652912975ec"
      },
      "source": [
        "cvect.get_feature_names()"
      ],
      "execution_count": 36,
      "outputs": [
        {
          "output_type": "execute_result",
          "data": {
            "text/plain": [
              "['00',\n",
              " '00 11',\n",
              " '00 also',\n",
              " '00 back',\n",
              " '00 became',\n",
              " '00 croatia',\n",
              " '00 duke',\n",
              " '00 iraqis',\n",
              " '00 know',\n",
              " '00 less',\n",
              " '00 lil',\n",
              " '00 match',\n",
              " '00 morning',\n",
              " '00 oh',\n",
              " '00 people',\n",
              " '00 power',\n",
              " '00 say',\n",
              " '00 switzerland',\n",
              " '00 trip',\n",
              " '00 uppercase_75_100',\n",
              " '00 went',\n",
              " '000',\n",
              " '000 000',\n",
              " '000 abortions',\n",
              " '000 barbarella',\n",
              " '000 came',\n",
              " '000 categories',\n",
              " '000 day',\n",
              " '000 dollar',\n",
              " '000 dong',\n",
              " '000 era',\n",
              " '000 festival',\n",
              " '000 first',\n",
              " '000 ibos',\n",
              " '000 imams',\n",
              " '000 jobs',\n",
              " '000 medical',\n",
              " '000 might',\n",
              " '000 motherfuckers',\n",
              " '000 peeps',\n",
              " '000 people',\n",
              " '000 pounds',\n",
              " '000 riding',\n",
              " '000 rupees',\n",
              " '000 times',\n",
              " '000 tip',\n",
              " '000 unique',\n",
              " '000 visit',\n",
              " '000 visitor',\n",
              " '000 words',\n",
              " '000 years',\n",
              " '0000',\n",
              " '0000 0605',\n",
              " '0000 dege59',\n",
              " '0000 oclockand',\n",
              " '0000 tragedy',\n",
              " '00000',\n",
              " '00000 sound',\n",
              " '000000',\n",
              " '000000 colour',\n",
              " '000000 fontsize',\n",
              " '0000000',\n",
              " '0000000 0000000',\n",
              " '000000000',\n",
              " '000000000 write',\n",
              " '0000000000',\n",
              " '0000000000 项就以没为',\n",
              " '00000000000',\n",
              " '00000000000 write',\n",
              " '0000000000001',\n",
              " '0000000000001 mm',\n",
              " '0000000000008988',\n",
              " '0000000000008988 etc',\n",
              " '000000000002',\n",
              " '000000000002 grams',\n",
              " '000000flickryourcomment',\n",
              " '000000flickryourcomment flickrframe',\n",
              " '000000this',\n",
              " '000000this certifies',\n",
              " '000000½',\n",
              " '000000½ 0000000',\n",
              " '00000188',\n",
              " '00000188 nbspnbspnbspnbspnbspnbspnbspnbspnbspnbsp',\n",
              " '00001',\n",
              " '00001 cents',\n",
              " '000032',\n",
              " '000032 afootertitlelink',\n",
              " '000032 fontfamily',\n",
              " '000032 textdecoration',\n",
              " '00004',\n",
              " '00004 seconds',\n",
              " '00005',\n",
              " '00005 last',\n",
              " '000080',\n",
              " '000080 marginleft',\n",
              " '0001',\n",
              " '0001 year',\n",
              " '00025',\n",
              " '000342',\n",
              " '000342 better',\n",
              " '0006',\n",
              " '0006 bun',\n",
              " '0007',\n",
              " '0007 8aug04',\n",
              " '0008',\n",
              " '0008 ten',\n",
              " '000dbc',\n",
              " '000dbc base',\n",
              " '000dbc hexcisco',\n",
              " '000dbc958351',\n",
              " '000dbc958351 dynamic',\n",
              " '000nbsp',\n",
              " '000nbsp list',\n",
              " '000s',\n",
              " '000s times',\n",
              " '001',\n",
              " '001 050',\n",
              " '001 24bit',\n",
              " '001 490',\n",
              " '001 chance',\n",
              " '001 first',\n",
              " '001 invest',\n",
              " '001 name',\n",
              " '001 pain',\n",
              " '001 percentage',\n",
              " '001 seconds',\n",
              " '001 store',\n",
              " '001 time',\n",
              " '0010',\n",
              " '0010 fell',\n",
              " '00110001',\n",
              " '00110001 much',\n",
              " '00110010',\n",
              " '00110010 00110011',\n",
              " '00110011',\n",
              " '00110011 00111000',\n",
              " '00111000',\n",
              " '00111000 00110001',\n",
              " '0015',\n",
              " '0015 got',\n",
              " '0015 tomorrow',\n",
              " '001jpg',\n",
              " '001jpg vet',\n",
              " '002',\n",
              " '002 253',\n",
              " '002 election',\n",
              " '002 middle',\n",
              " '002 name',\n",
              " '002 nicknames',\n",
              " '002 spell',\n",
              " '002024',\n",
              " '002024 pst',\n",
              " '0022',\n",
              " '0022 right',\n",
              " '0028hrs',\n",
              " '002919',\n",
              " '002919 inferno0777',\n",
              " '0029215218',\n",
              " '0029215218 pp',\n",
              " '002984',\n",
              " '002984 take',\n",
              " '003',\n",
              " '003 could',\n",
              " '003 date',\n",
              " '003 last',\n",
              " '003 microns',\n",
              " '003 sex',\n",
              " '003 wasnt',\n",
              " '0030',\n",
              " '0030 hrs',\n",
              " '0030 morning',\n",
              " '0030 tasked',\n",
              " '0030 west',\n",
              " '003001',\n",
              " '003001 dude',\n",
              " '003012',\n",
              " '003012 tath',\n",
              " '003031',\n",
              " '003031 steven',\n",
              " '003130',\n",
              " '003130 steven',\n",
              " '003131',\n",
              " '003131 steven',\n",
              " '003212',\n",
              " '003212 wait',\n",
              " '003227',\n",
              " '003227 steven',\n",
              " '003230',\n",
              " '003230 steven',\n",
              " '003231',\n",
              " '003231 heycan',\n",
              " '003231 steven',\n",
              " '003234',\n",
              " '003234 steven',\n",
              " '0033',\n",
              " '0033 fuck',\n",
              " '003301',\n",
              " '003301 wouldnt',\n",
              " '003314',\n",
              " '003314 steven',\n",
              " '003319',\n",
              " '003319 steven',\n",
              " '003407',\n",
              " '003407 yeah',\n",
              " '003412',\n",
              " '003412 wouldnt',\n",
              " '003418',\n",
              " '003418 steven',\n",
              " '003425',\n",
              " '003425 steven',\n",
              " '003426',\n",
              " '003426 steven',\n",
              " '003430',\n",
              " '003430 lol',\n",
              " '003456',\n",
              " '003456 um',\n",
              " '0035',\n",
              " '0035 us',\n",
              " '003503',\n",
              " '003503 talking',\n",
              " '003504',\n",
              " '003504 lol',\n",
              " '003516',\n",
              " '003516 im',\n",
              " '003527',\n",
              " '003527 im',\n",
              " '003532',\n",
              " '003532 steven',\n",
              " '003534',\n",
              " '003534 yet',\n",
              " '003538',\n",
              " '003538 agreeing',\n",
              " '003538 steven',\n",
              " '003548',\n",
              " '003548 steven',\n",
              " '003553',\n",
              " '003553 communiction',\n",
              " '003554',\n",
              " '003554 lol',\n",
              " '003557',\n",
              " '003557 000342',\n",
              " '003557 steven',\n",
              " '003608',\n",
              " '003608 erk',\n",
              " '003755',\n",
              " '003755 check',\n",
              " '003810',\n",
              " '003810 steven',\n",
              " '003910',\n",
              " '003910 thats',\n",
              " '003919',\n",
              " '003919 steven',\n",
              " '004',\n",
              " '004 birthday',\n",
              " '004 male',\n",
              " '004 nicknames',\n",
              " '004 sex',\n",
              " '004 took',\n",
              " '004 zodiac',\n",
              " '004040',\n",
              " '004040 thefirebreathes7',\n",
              " '004043',\n",
              " '004043 thefirebreathes7',\n",
              " '004046',\n",
              " '004046 thefirebreathes7',\n",
              " '004050',\n",
              " '004050 sarah',\n",
              " '004057',\n",
              " '004057 thefirebreathes7',\n",
              " '004107',\n",
              " '004107 sarah',\n",
              " '004113',\n",
              " '004113 thefirebreathes7',\n",
              " '004151',\n",
              " '004151 autoresponse',\n",
              " '004151 sarah',\n",
              " '00447773665192',\n",
              " '00447773665192 keep',\n",
              " '0044hrs',\n",
              " '0044hrs right',\n",
              " '0045hrs',\n",
              " '0045hrs wasnt',\n",
              " '0047',\n",
              " '0047 47',\n",
              " '004732',\n",
              " '004732 thefirebreathes7',\n",
              " '004738',\n",
              " '004738 thefirebreathes7',\n",
              " '004739',\n",
              " '004739 thefirebreathes7',\n",
              " '004743',\n",
              " '004743 sarah',\n",
              " '004747',\n",
              " '004747 thefirebreathes7',\n",
              " '005',\n",
              " '005 9th',\n",
              " '005 age',\n",
              " '005 astrological',\n",
              " '005 costed',\n",
              " '005 gender',\n",
              " '005 height',\n",
              " '005 shoe',\n",
              " '005 still',\n",
              " '0050',\n",
              " '0050 0050',\n",
              " '0050 show',\n",
              " '006',\n",
              " '006 age',\n",
              " '006 eye',\n",
              " '006 food',\n",
              " '006 height',\n",
              " '006 nicknames',\n",
              " '006 star',\n",
              " '0060161922',\n",
              " '0060161922 pp',\n",
              " '0060521996',\n",
              " '0060930535',\n",
              " '0060930535 kingsolver',\n",
              " '0060935464',\n",
              " '0060935464 classic',\n",
              " '007',\n",
              " '007 anywho',\n",
              " '007 birthday',\n",
              " '007 etc',\n",
              " '007 everything',\n",
              " '007 eyes',\n",
              " '007 film',\n",
              " '007 find',\n",
              " '007 get',\n",
              " '007 gets',\n",
              " '007 go',\n",
              " '007 listed',\n",
              " '007 nemesis',\n",
              " '007 nightfire',\n",
              " '007 occupation',\n",
              " '007 place',\n",
              " '007 tell',\n",
              " '007 terrorist',\n",
              " '007 tomorrow',\n",
              " '007 whole',\n",
              " '007james',\n",
              " '007james bond',\n",
              " '007s',\n",
              " '007s nemesis',\n",
              " '008',\n",
              " '008 australian',\n",
              " '008 current',\n",
              " '008 height',\n",
              " '008 jim',\n",
              " '008 lane',\n",
              " '008 location',\n",
              " '008 pets',\n",
              " '008 think',\n",
              " '009',\n",
              " '009 born',\n",
              " '009 hair',\n",
              " '009 issue',\n",
              " '009 siblings',\n",
              " '009 weight',\n",
              " '009kbs',\n",
              " '009kbs damn',\n",
              " '00a53c',\n",
              " '00a53c colours',\n",
              " '00e018',\n",
              " '00e018 base',\n",
              " '00e018 hexasustek',\n",
              " '00e018709c0b',\n",
              " '00e018709c0b dynamic',\n",
              " '00e018709cb6',\n",
              " '00e018709cb6 dynamic',\n",
              " '00ff00',\n",
              " '00ff00 00a53c',\n",
              " '00note__',\n",
              " '00note__ notes',\n",
              " '00s',\n",
              " '00s 10min',\n",
              " '00s 3min',\n",
              " '00s anything',\n",
              " '00s rest',\n",
              " '00s round',\n",
              " '00s thought',\n",
              " '00salam',\n",
              " '00salam see',\n",
              " '00withoutactivedirectoryexe',\n",
              " '00withoutactivedirectoryexe hck',\n",
              " '01',\n",
              " '01 02',\n",
              " '01 04',\n",
              " '01 101102',\n",
              " '01 163',\n",
              " '01 1964',\n",
              " '01 1972',\n",
              " '01 2001',\n",
              " '01 2004',\n",
              " '01 2004wimbledon',\n",
              " '01 23',\n",
              " '01 aaaaaaaaaaaaaaaaaaahhhhhhhhhhhhh',\n",
              " '01 aaaaaaaaaah',\n",
              " '01 advocate',\n",
              " '01 american',\n",
              " '01 annoying',\n",
              " '01 answering',\n",
              " '01 april',\n",
              " '01 asian',\n",
              " '01 assuming',\n",
              " '01 away',\n",
              " '01 baby',\n",
              " '01 beastie',\n",
              " '01 bitter',\n",
              " '01 blow',\n",
              " '01 boulevard',\n",
              " '01 boys',\n",
              " '01 brad',\n",
              " '01 bright',\n",
              " '01 britney',\n",
              " '01 businessweek',\n",
              " '01 came',\n",
              " '01 candy',\n",
              " '01 cat',\n",
              " '01 cell',\n",
              " '01 certain',\n",
              " '01 chocolate',\n",
              " '01 church',\n",
              " '01 coincidence',\n",
              " '01 color',\n",
              " '01 computer',\n",
              " '01 congratulations',\n",
              " '01 cranked',\n",
              " '01 dad',\n",
              " '01 damn',\n",
              " '01 dashbaord',\n",
              " '01 dashboard',\n",
              " '01 decided',\n",
              " '01 doesnt',\n",
              " '01 downtime',\n",
              " '01 dude',\n",
              " '01 eleventaking',\n",
              " '01 england',\n",
              " '01 enter',\n",
              " '01 erotica_writings',\n",
              " '01 even',\n",
              " '01 ever',\n",
              " '01 every',\n",
              " '01 face',\n",
              " '01 feb',\n",
              " '01 feeling',\n",
              " '01 felt',\n",
              " '01 finding',\n",
              " '01 first',\n",
              " '01 flac',\n",
              " '01 flat',\n",
              " '01 force',\n",
              " '01 forgot',\n",
              " '01 forgotten',\n",
              " '01 former',\n",
              " '01 free',\n",
              " '01 friend',\n",
              " '01 friends',\n",
              " '01 fucking',\n",
              " '01 fun',\n",
              " '01 funny',\n",
              " '01 gas',\n",
              " '01 get',\n",
              " '01 go',\n",
              " '01 god',\n",
              " '01 goodnesszor',\n",
              " '01 greece',\n",
              " '01 haha',\n",
              " '01 hahahahahahaha',\n",
              " '01 hate',\n",
              " '01 havent',\n",
              " '01 hey',\n",
              " '01 himmmmmmmmmm',\n",
              " '01 hm',\n",
              " '01 holy',\n",
              " '01 huh',\n",
              " '01 im',\n",
              " '01 jessica',\n",
              " '01 jon',\n",
              " '01 july',\n",
              " '01 kasim',\n",
              " '01 kevin',\n",
              " '01 keyboard',\n",
              " '01 kid',\n",
              " '01 kiddie',\n",
              " '01 kirsten',\n",
              " '01 lame',\n",
              " '01 leen',\n",
              " '01 let',\n",
              " '01 lets',\n",
              " '01 lil',\n",
              " '01 live',\n",
              " '01 living',\n",
              " '01 long',\n",
              " '01 maledorito',\n",
              " '01 mallory',\n",
              " '01 mar',\n",
              " '01 march',\n",
              " '01 meh',\n",
              " '01 michael',\n",
              " '01 mighty',\n",
              " '01 miserable',\n",
              " '01 miss',\n",
              " '01 name',\n",
              " '01 never',\n",
              " '01 new',\n",
              " '01 oc',\n",
              " '01 oh',\n",
              " '01 omnibus',\n",
              " '01 one',\n",
              " '01 oscar',\n",
              " '01 paaaaaaaaaain',\n",
              " '01 pant',\n",
              " '01 part',\n",
              " '01 pbs',\n",
              " '01 people',\n",
              " '01 percent',\n",
              " '01 perfect',\n",
              " '01 perfectly',\n",
              " '01 play',\n",
              " '01 played',\n",
              " '01 power',\n",
              " '01 ppm',\n",
              " '01 pretty',\n",
              " '01 problems',\n",
              " '01 pulls',\n",
              " '01 push',\n",
              " '01 question',\n",
              " '01 rachael',\n",
              " '01 read',\n",
              " '01 realized',\n",
              " '01 reformat',\n",
              " '01 sad',\n",
              " '01 say',\n",
              " '01 scrubs',\n",
              " '01 sean',\n",
              " '01 see',\n",
              " '01 serena',\n",
              " '01 sexbomb',\n",
              " '01 shirt',\n",
              " '01 shit',\n",
              " '01 sho',\n",
              " '01 short',\n",
              " '01 single',\n",
              " '01 smelling',\n",
              " '01 soo',\n",
              " '01 spiders',\n",
              " '01 spidey',\n",
              " '01 sumner',\n",
              " '01 swirl',\n",
              " '01 take',\n",
              " '01 talked',\n",
              " '01 tan',\n",
              " '01 tangna',\n",
              " '01 tell',\n",
              " '01 thats',\n",
              " '01 thecurehalo',\n",
              " '01 time',\n",
              " '01 titanic',\n",
              " '01 todays',\n",
              " '01 told',\n",
              " '01 tom',\n",
              " '01 trainspotting',\n",
              " '01 turned',\n",
              " '01 twosided',\n",
              " '01 unfortunately',\n",
              " '01 unknown',\n",
              " '01 urllink',\n",
              " '01 wasting',\n",
              " '01 wave',\n",
              " '01 well',\n",
              " '01 wheres',\n",
              " '01 would',\n",
              " '01 wouldja',\n",
              " '01 wow',\n",
              " '01 wraths',\n",
              " '01 yeah',\n",
              " '01 years',\n",
              " '01 yep',\n",
              " '01 younger',\n",
              " '01 youre',\n",
              " '010',\n",
              " '010 10',\n",
              " '010 big',\n",
              " '010 ever',\n",
              " '010 eye',\n",
              " '010 hair',\n",
              " '010 months',\n",
              " '010 wear',\n",
              " '0100',\n",
              " '0100 get',\n",
              " '0100 hahaha',\n",
              " '0100 hrs',\n",
              " '0100 supply',\n",
              " '010000',\n",
              " '010000 hey',\n",
              " '010027',\n",
              " '010027 pmnbsp',\n",
              " '01003',\n",
              " '01003 vibrating',\n",
              " '0100pm',\n",
              " '0100pm back',\n",
              " '0102',\n",
              " '0102 phi',\n",
              " '01027',\n",
              " '01027 greetings',\n",
              " '01027 july',\n",
              " '0103',\n",
              " '0103 grams',\n",
              " '010443',\n",
              " '010443 raise',\n",
              " '010446',\n",
              " '010446 raise',\n",
              " '01052001',\n",
              " '01052001 31052001',\n",
              " '010604',\n",
              " '010604 urllink',\n",
              " '01062001',\n",
              " '01062001 31062001',\n",
              " '01062k4',\n",
              " '01062k4 hard',\n",
              " '01072001',\n",
              " '01072001 current',\n",
              " '010804',\n",
              " '010804 bit',\n",
              " '0109',\n",
              " '0109 urllink',\n",
              " '010haa',\n",
              " '010haa haa',\n",
              " '011',\n",
              " '011 braces',\n",
              " '011 brother',\n",
              " '011 dunkin',\n",
              " '011 ethnicity',\n",
              " '011 eye',\n",
              " '011 grade',\n",
              " '011 hair',\n",
              " '011 height',\n",
              " '011 race',\n",
              " '0110',\n",
              " '0110 digital',\n",
              " '0112',\n",
              " '0112 pm',\n",
              " '011213',\n",
              " '011213 30',\n",
              " '011377',\n",
              " '011377 current',\n",
              " '01142004',\n",
              " '01142004 country',\n",
              " '0115',\n",
              " '0115 comments',\n",
              " '0115 finally',\n",
              " '011607',\n",
              " '011607 think',\n",
              " '011µ',\n",
              " '011µ chip',\n",
              " '012',\n",
              " '012 born',\n",
              " '012 crush',\n",
              " '012 hair',\n",
              " '012 wear',\n",
              " '012 writing',\n",
              " '0122',\n",
              " '0122 pm',\n",
              " '0122928688',\n",
              " '0122928688 home',\n",
              " '012356781601235678sub',\n",
              " '012356781601235678sub process_check',\n",
              " '01252004',\n",
              " '01252004 english',\n",
              " '01299',\n",
              " '01299 402114',\n",
              " '01299 403816',\n",
              " '013',\n",
              " '013 bfgf',\n",
              " '013 bite',\n",
              " '013 born',\n",
              " '013 braces',\n",
              " '013 ever',\n",
              " '013 gifted',\n",
              " '013 gluc26',\n",
              " '013 reside',\n",
              " '0130',\n",
              " '0130 0200',\n",
              " '0130 bhuffi',\n",
              " '0130 everything',\n",
              " '0130 watch',\n",
              " '0130 watched',\n",
              " '013054',\n",
              " '013054 0000',\n",
              " '0130am',\n",
              " '0130am clearly',\n",
              " '0131',\n",
              " '0131 554',\n",
              " '013101',\n",
              " '013101 last',\n",
              " '013227',\n",
              " '013227 gmt',\n",
              " '0137',\n",
              " '0137 pm',\n",
              " '0138',\n",
              " '0138 pm',\n",
              " '013µ',\n",
              " '013µ micron',\n",
              " '014',\n",
              " '014 books',\n",
              " '014 current',\n",
              " '014 good',\n",
              " '014 hair',\n",
              " '014 middle',\n",
              " '014 name',\n",
              " '014 roll',\n",
              " '014016930x',\n",
              " '014016930x book',\n",
              " '0140hrs',\n",
              " '0140hrs im',\n",
              " '014155',\n",
              " '014155 pmnbsp',\n",
              " '0143',\n",
              " '0143 pm',\n",
              " '01483',\n",
              " '01483 773683',\n",
              " '015',\n",
              " '015 born',\n",
              " '015 course',\n",
              " '015 legal',\n",
              " '015 long',\n",
              " '015 per',\n",
              " '015 screen',\n",
              " '015 start',\n",
              " '015 zodiac',\n",
              " '015041',\n",
              " '015041 pmnbsp',\n",
              " '01562',\n",
              " '01562 66270',\n",
              " '01562 67148',\n",
              " '01562 820041',\n",
              " '01562nbspnbspnbspnbspnbspnbspnbspnbspnbspnbspnbspnbspnbspnbsp',\n",
              " '01562nbspnbspnbspnbspnbspnbspnbspnbspnbspnbspnbspnbspnbspnbsp pop',\n",
              " '015719',\n",
              " '015719 pmnbsp',\n",
              " '0159',\n",
              " '0159 0300',\n",
              " '015g',\n",
              " '015g omega3',\n",
              " '016',\n",
              " '016 current',\n",
              " '016 email',\n",
              " '016 hate',\n",
              " '016 many',\n",
              " '016 raise',\n",
              " '016 wearing',\n",
              " '016 year',\n",
              " '0165436628',\n",
              " '0165436628 message',\n",
              " '017',\n",
              " '017 blow',\n",
              " '017 language',\n",
              " '017 screen',\n",
              " '017 would',\n",
              " '017 zodiac',\n",
              " '0171',\n",
              " '0171 nbspnbspnbspnbspnbspnbspnbspnbsp',\n",
              " '018',\n",
              " '018 bad',\n",
              " '018 blow',\n",
              " '018 blue',\n",
              " '018 ever',\n",
              " '018 lj',\n",
              " '018 many',\n",
              " '0189',\n",
              " '0189 a189',\n",
              " '019',\n",
              " '019 blurty',\n",
              " '019 cross',\n",
              " '019 jul',\n",
              " '019 nationality',\n",
              " '019 nicknames',\n",
              " '019 piercing',\n",
              " '019 virgin',\n",
              " '01900',\n",
              " '01900 httpneweggcomappviewproductdescaspdescription26105148depa0',\n",
              " '0194447132',\n",
              " '0194447132 birthday',\n",
              " '01995',\n",
              " '01995 httpneweggcomappviewproductdescaspdescription11126133depa1',\n",
              " '01db',\n",
              " '01db spent',\n",
              " '01dec2004',\n",
              " '01dec2004 cell',\n",
              " '01emma',\n",
              " '01emma 02kae',\n",
              " '01intro以前before',\n",
              " '01intro以前before 02臨時演員',\n",
              " '01大風吹',\n",
              " '01大風吹 02我要為你輕輕唱歌',\n",
              " '02',\n",
              " '02 1151am',\n",
              " '02 1964',\n",
              " '02 2003',\n",
              " '02 2004',\n",
              " '02 35814',\n",
              " '02 added',\n",
              " '02 american',\n",
              " '02 anything',\n",
              " '02 april',\n",
              " '02 aug',\n",
              " '02 away',\n",
              " '02 beatles',\n",
              " '02 bodyacne',\n",
              " '02 bra',\n",
              " '02 brown',\n",
              " '02 cbsnewscom',\n",
              " '02 certain',\n",
              " '02 challenge',\n",
              " '02 check',\n",
              " '02 circulation',\n",
              " '02 color',\n",
              " '02 consideration',\n",
              " '02 cool',\n",
              " '02 count',\n",
              " '02 counting',\n",
              " '02 course',\n",
              " '02 cream',\n",
              " '02 damn',\n",
              " '02 darkness',\n",
              " '02 decided',\n",
              " '02 denying',\n",
              " '02 dining',\n",
              " '02 dip',\n",
              " '02 donald',\n",
              " '02 dont',\n",
              " '02 door',\n",
              " '02 dumbo',\n",
              " '02 empathetic',\n",
              " '02 en',\n",
              " '02 epr',\n",
              " '02 ever',\n",
              " '02 family',\n",
              " '02 followup',\n",
              " '02 force',\n",
              " '02 forgetting',\n",
              " '02 franzferdinandtakemeout',\n",
              " '02 george',\n",
              " '02 getting',\n",
              " '02 goin',\n",
              " '02 happy',\n",
              " '02 heels',\n",
              " '02 heterosexual',\n",
              " '02 hits',\n",
              " '02 hobbies',\n",
              " '02 im',\n",
              " '02 incubus',\n",
              " '02 jeans',\n",
              " '02 jonathan',\n",
              " '02 jump',\n",
              " '02 kiss',\n",
              " '02 letters',\n",
              " '02 like',\n",
              " '02 lilo',\n",
              " '02 listening',\n",
              " '02 little',\n",
              " '02 lives',\n",
              " '02 lonliness',\n",
              " '02 love',\n",
              " '02 madi',\n",
              " '02 manga',\n",
              " '02 martial',\n",
              " '02 material',\n",
              " '02 matt',\n",
              " '02 maybe',\n",
              " '02 middle',\n",
              " '02 modest',\n",
              " '02 mom',\n",
              " '02 mouse',\n",
              " '02 nba',\n",
              " '02 new',\n",
              " '02 omnibus',\n",
              " '02 original',\n",
              " '02 orlando',\n",
              " '02 oscarwinning',\n",
              " '02 overwhelming',\n",
              " '02 peak',\n",
              " '02 people',\n",
              " '02 percent',\n",
              " '02 pineapple',\n",
              " '02 play',\n",
              " '02 played',\n",
              " '02 politicos',\n",
              " '02 postage',\n",
              " '02 push',\n",
              " '02 recent',\n",
              " '02 red',\n",
              " '02 released',\n",
              " '02 right',\n",
              " '02 room',\n",
              " '02 rupert',\n",
              " '02 seconds',\n",
              " '02 see',\n",
              " '02 sensor',\n",
              " '02 shine',\n",
              " '02 shrek',\n",
              " '02 simpsons',\n",
              " '02 singing',\n",
              " '02 sleep',\n",
              " '02 smile',\n",
              " '02 spain',\n",
              " '02 starts',\n",
              " '02 talk',\n",
              " '02 taste',\n",
              " '02 travel',\n",
              " '02 try',\n",
              " '02 twister',\n",
              " '02 urllink',\n",
              " '02 vette',\n",
              " '02 voodoo',\n",
              " '02 waste',\n",
              " '02 weakest',\n",
              " '02 weezer',\n",
              " '02 weve',\n",
              " '02 yeah',\n",
              " '02 yes',\n",
              " '02 yesterday',\n",
              " '020',\n",
              " '020 bad',\n",
              " '020 colored',\n",
              " '020 gives',\n",
              " '020 loop',\n",
              " '020 petsoreo',\n",
              " '020 piercing',\n",
              " '020 play',\n",
              " '020 smoke',\n",
              " '0200',\n",
              " '0200 book',\n",
              " '0200 gross',\n",
              " '0200 morning',\n",
              " '0200 next',\n",
              " '0200 reluctance',\n",
              " '0200 watching',\n",
              " '020031',\n",
              " '020031 pm',\n",
              " '0203',\n",
              " '0203 friends',\n",
              " '020312',\n",
              " '020312 pmnbsp',\n",
              " '020651',\n",
              " '020651 talking',\n",
              " '0207',\n",
              " '0207 73',\n",
              " '02089493556',\n",
              " '02089493556 doesnt',\n",
              " '02092004',\n",
              " '02092004 225439',\n",
              " '021',\n",
              " '021 drink',\n",
              " '021 night',\n",
              " '021 number',\n",
              " '021 piercings',\n",
              " '021 tattoos',\n",
              " '021 totally',\n",
              " '02100',\n",
              " '02100 httpneweggcomappviewproductdescaspdescription27134007depa1',\n",
              " '021104',\n",
              " '021104 responded',\n",
              " '02115',\n",
              " '02118',\n",
              " '02118 gmodestpartnersorg',\n",
              " '0212',\n",
              " '0212 tears',\n",
              " '021204',\n",
              " '021204 springs',\n",
              " '0213',\n",
              " '0213 60423',\n",
              " '0214',\n",
              " '0214 anxiety',\n",
              " '0215',\n",
              " '0215 gmt',\n",
              " '0215 pulled',\n",
              " '0215 surprised',\n",
              " '0216',\n",
              " '0216 well',\n",
              " '02182004',\n",
              " '02182004 special',\n",
              " '0219',\n",
              " '0219 well',\n",
              " '022',\n",
              " '022 decided',\n",
              " '022 ghetto',\n",
              " '022 piercings',\n",
              " '022 released',\n",
              " '022 ticklish',\n",
              " '022 µu',\n",
              " '0220',\n",
              " '0220 think',\n",
              " '02212k3',\n",
              " '02212k3 maybe',\n",
              " '022304',\n",
              " '022304 breezy',\n",
              " '02232004',\n",
              " '0224',\n",
              " ...]"
            ]
          },
          "metadata": {
            "tags": []
          },
          "execution_count": 36
        }
      ]
    },
    {
      "cell_type": "code",
      "metadata": {
        "id": "LiDViquT7ORx"
      },
      "source": [
        "X_train_ct = cvect.transform(X_train)"
      ],
      "execution_count": 37,
      "outputs": []
    },
    {
      "cell_type": "code",
      "metadata": {
        "colab": {
          "base_uri": "https://localhost:8080/"
        },
        "id": "bL9Hm8O54ouv",
        "outputId": "8adcb95b-7890-44d8-954e-b8ad608ea457"
      },
      "source": [
        "X_train_ct"
      ],
      "execution_count": 39,
      "outputs": [
        {
          "output_type": "execute_result",
          "data": {
            "text/plain": [
              "<80000x4748937 sparse matrix of type '<class 'numpy.int64'>'\n",
              "\twith 14287104 stored elements in Compressed Sparse Row format>"
            ]
          },
          "metadata": {
            "tags": []
          },
          "execution_count": 39
        }
      ]
    },
    {
      "cell_type": "code",
      "metadata": {
        "id": "L_v_jtcC8tw9"
      },
      "source": [
        "X_test_ct = cvect.transform(X_test)"
      ],
      "execution_count": 38,
      "outputs": []
    },
    {
      "cell_type": "code",
      "metadata": {
        "colab": {
          "base_uri": "https://localhost:8080/"
        },
        "id": "nKpl9jvZ9KgD",
        "outputId": "c1ddf324-a05a-41d3-a941-dada4cb43dd8"
      },
      "source": [
        "print(X_train_ct)"
      ],
      "execution_count": 40,
      "outputs": [
        {
          "output_type": "stream",
          "text": [
            "  (0, 32523)\t1\n",
            "  (0, 32524)\t1\n",
            "  (0, 35165)\t1\n",
            "  (0, 35619)\t1\n",
            "  (0, 57209)\t1\n",
            "  (0, 97716)\t1\n",
            "  (0, 97719)\t1\n",
            "  (0, 138992)\t1\n",
            "  (0, 138995)\t1\n",
            "  (0, 427679)\t1\n",
            "  (0, 427682)\t1\n",
            "  (0, 471817)\t1\n",
            "  (0, 471833)\t1\n",
            "  (0, 563824)\t1\n",
            "  (0, 563943)\t1\n",
            "  (0, 932809)\t1\n",
            "  (0, 932848)\t1\n",
            "  (0, 992009)\t1\n",
            "  (0, 992086)\t1\n",
            "  (0, 1193122)\t1\n",
            "  (0, 1193126)\t1\n",
            "  (0, 1234754)\t1\n",
            "  (0, 1234794)\t1\n",
            "  (0, 1463419)\t1\n",
            "  (0, 1464152)\t1\n",
            "  :\t:\n",
            "  (79999, 4192966)\t2\n",
            "  (79999, 4195543)\t1\n",
            "  (79999, 4198670)\t1\n",
            "  (79999, 4214896)\t1\n",
            "  (79999, 4214900)\t1\n",
            "  (79999, 4239328)\t1\n",
            "  (79999, 4240800)\t1\n",
            "  (79999, 4284605)\t1\n",
            "  (79999, 4316023)\t1\n",
            "  (79999, 4316881)\t1\n",
            "  (79999, 4320432)\t1\n",
            "  (79999, 4321529)\t1\n",
            "  (79999, 4373619)\t1\n",
            "  (79999, 4373853)\t1\n",
            "  (79999, 4463762)\t1\n",
            "  (79999, 4463846)\t1\n",
            "  (79999, 4484430)\t1\n",
            "  (79999, 4486609)\t1\n",
            "  (79999, 4538222)\t1\n",
            "  (79999, 4538518)\t1\n",
            "  (79999, 4659684)\t3\n",
            "  (79999, 4659978)\t1\n",
            "  (79999, 4663422)\t2\n",
            "  (79999, 4704217)\t1\n",
            "  (79999, 4704781)\t1\n"
          ],
          "name": "stdout"
        }
      ]
    },
    {
      "cell_type": "markdown",
      "metadata": {
        "id": "X8wIducE-71O"
      },
      "source": [
        "Create a dictionary to get the count of every label i.e. the key will be label name and value will be the total count of the label. Check below image for reference"
      ]
    },
    {
      "cell_type": "code",
      "metadata": {
        "id": "tW_ABkPC-vgM"
      },
      "source": [
        "label_counts=dict()\n",
        "\n",
        "for labels in df.labels.values:\n",
        "    for label in labels:\n",
        "        if label in label_counts:\n",
        "            label_counts[str(label)]+=1\n",
        "        else:\n",
        "            label_counts[str(label)]=1"
      ],
      "execution_count": 41,
      "outputs": []
    },
    {
      "cell_type": "code",
      "metadata": {
        "colab": {
          "base_uri": "https://localhost:8080/"
        },
        "id": "1zHjWX3B_WNO",
        "outputId": "7f50ff06-5ecd-43f7-ca6f-8d36c0d81d76"
      },
      "source": [
        "label_counts"
      ],
      "execution_count": 42,
      "outputs": [
        {
          "output_type": "execute_result",
          "data": {
            "text/plain": [
              "{'13': 1,\n",
              " '14': 1,\n",
              " '15': 1,\n",
              " '16': 1,\n",
              " '17': 1,\n",
              " '23': 1,\n",
              " '24': 1,\n",
              " '25': 1,\n",
              " '26': 1,\n",
              " '27': 1,\n",
              " '33': 1,\n",
              " '34': 1,\n",
              " '35': 1,\n",
              " '36': 1,\n",
              " '37': 1,\n",
              " '38': 1,\n",
              " '39': 1,\n",
              " '40': 1,\n",
              " '41': 1,\n",
              " '42': 1,\n",
              " '43': 1,\n",
              " '44': 1,\n",
              " '45': 1,\n",
              " '46': 1,\n",
              " '47': 1,\n",
              " '48': 1,\n",
              " 'Accounting': 553,\n",
              " 'Advertising': 677,\n",
              " 'Agriculture': 204,\n",
              " 'Aquarius': 7130,\n",
              " 'Architecture': 255,\n",
              " 'Aries': 9600,\n",
              " 'Arts': 4872,\n",
              " 'Automotive': 201,\n",
              " 'Banking': 581,\n",
              " 'Biotech': 330,\n",
              " 'BusinessServices': 659,\n",
              " 'Cancer': 9491,\n",
              " 'Capricorn': 7307,\n",
              " 'Chemicals': 555,\n",
              " 'Communications-Media': 2976,\n",
              " 'Construction': 157,\n",
              " 'Consulting': 866,\n",
              " 'Education': 4324,\n",
              " 'Engineering': 1733,\n",
              " 'Environment': 84,\n",
              " 'Fashion': 735,\n",
              " 'Gemini': 7612,\n",
              " 'Government': 1032,\n",
              " 'HumanResources': 440,\n",
              " 'Internet': 2349,\n",
              " 'InvestmentBanking': 193,\n",
              " 'Law': 1293,\n",
              " 'LawEnforcement-Security': 299,\n",
              " 'Leo': 7757,\n",
              " 'Libra': 9174,\n",
              " 'Manufacturing': 330,\n",
              " 'Maritime': 29,\n",
              " 'Marketing': 726,\n",
              " 'Military': 455,\n",
              " 'Museums-Libraries': 460,\n",
              " 'Non-Profit': 2142,\n",
              " 'Pisces': 7922,\n",
              " 'Publishing': 1148,\n",
              " 'RealEstate': 385,\n",
              " 'Religion': 780,\n",
              " 'Sagittarius': 7324,\n",
              " 'Science': 1062,\n",
              " 'Scorpio': 8489,\n",
              " 'Sports-Recreation': 417,\n",
              " 'Student': 22361,\n",
              " 'Taurus': 9214,\n",
              " 'Technology': 6199,\n",
              " 'Telecommunications': 600,\n",
              " 'Tourism': 290,\n",
              " 'Transportation': 312,\n",
              " 'Virgo': 8980,\n",
              " 'female': 49430,\n",
              " 'indUnk': 36936,\n",
              " 'male': 50570}"
            ]
          },
          "metadata": {
            "tags": []
          },
          "execution_count": 42
        }
      ]
    },
    {
      "cell_type": "markdown",
      "metadata": {
        "id": "wjKzAZ27_m5W"
      },
      "source": [
        "**Transform the labels**   \n",
        "As we have noticed before, in this task each example can have multiple tags. To deal with such kind of prediction, we need to transform labels in a binary form and the prediction will be a mask of 0s and 1s. For this purpose, it is convenient to use MultiLabelBinarizer from sklearn    \n",
        "a. Convert your train and test labels using MultiLabelBinarizer"
      ]
    },
    {
      "cell_type": "code",
      "metadata": {
        "id": "O7gWZXiI_gLJ"
      },
      "source": [
        "from sklearn.preprocessing import MultiLabelBinarizer\n",
        "binarizer=MultiLabelBinarizer(classes=sorted(label_counts.keys()))"
      ],
      "execution_count": 43,
      "outputs": []
    },
    {
      "cell_type": "code",
      "metadata": {
        "id": "8ooCxek0_7tf"
      },
      "source": [
        "y_train = binarizer.fit_transform(y_train)"
      ],
      "execution_count": 44,
      "outputs": []
    },
    {
      "cell_type": "code",
      "metadata": {
        "id": "9_6_UxVdABF8"
      },
      "source": [
        "y_test = binarizer.transform(y_test)"
      ],
      "execution_count": 45,
      "outputs": []
    },
    {
      "cell_type": "code",
      "metadata": {
        "colab": {
          "base_uri": "https://localhost:8080/"
        },
        "id": "bf6uKlQYAEAV",
        "outputId": "f340e902-d6ed-4491-aad0-6ff6deba3631"
      },
      "source": [
        "y_test"
      ],
      "execution_count": 46,
      "outputs": [
        {
          "output_type": "execute_result",
          "data": {
            "text/plain": [
              "array([[0, 0, 0, ..., 1, 1, 0],\n",
              "       [0, 0, 0, ..., 0, 1, 1],\n",
              "       [0, 0, 0, ..., 1, 0, 0],\n",
              "       ...,\n",
              "       [0, 0, 0, ..., 1, 1, 0],\n",
              "       [0, 0, 0, ..., 0, 0, 1],\n",
              "       [0, 0, 0, ..., 1, 1, 0]])"
            ]
          },
          "metadata": {
            "tags": []
          },
          "execution_count": 46
        }
      ]
    },
    {
      "cell_type": "code",
      "metadata": {
        "colab": {
          "base_uri": "https://localhost:8080/"
        },
        "id": "nOVGafojANLO",
        "outputId": "65f6b791-49f8-4cd0-a431-0790a774821f"
      },
      "source": [
        "y_train"
      ],
      "execution_count": 47,
      "outputs": [
        {
          "output_type": "execute_result",
          "data": {
            "text/plain": [
              "array([[0, 0, 0, ..., 0, 1, 1],\n",
              "       [0, 0, 0, ..., 0, 0, 1],\n",
              "       [0, 0, 0, ..., 1, 0, 0],\n",
              "       ...,\n",
              "       [0, 0, 0, ..., 1, 1, 0],\n",
              "       [0, 0, 0, ..., 0, 0, 1],\n",
              "       [0, 0, 0, ..., 0, 0, 1]])"
            ]
          },
          "metadata": {
            "tags": []
          },
          "execution_count": 47
        }
      ]
    },
    {
      "cell_type": "markdown",
      "metadata": {
        "id": "g3pPN16KBXMU"
      },
      "source": [
        "**Choose a classifier**\n",
        "In this task,the One-vs-Rest approach is used, which is implemented in OneVsRestClassifier class. In this approach k classifiers (= number of tags) are trained. As a basic classifier, LogisticRegression is used. It is one of the simplest methods, but often it performs good enough in text classification tasks. It might take some time because the number of classifiers to train is large."
      ]
    },
    {
      "cell_type": "markdown",
      "metadata": {
        "id": "iE4CZlVVAi7g"
      },
      "source": [
        "**Fit the classifier, make predictions and get the accuracy**   \n",
        "Print the following     \n",
        "i. Accuracy score ii. F1 score iii. Average precision score iv. Average recall score"
      ]
    },
    {
      "cell_type": "code",
      "metadata": {
        "id": "X3r6MY6DAhBF"
      },
      "source": [
        "from sklearn.multiclass import OneVsRestClassifier\n",
        "from sklearn.linear_model import LogisticRegression"
      ],
      "execution_count": 48,
      "outputs": []
    },
    {
      "cell_type": "code",
      "metadata": {
        "id": "aq9Ory8GBIGj",
        "outputId": "b91542e7-23e0-49ee-c5d1-e5dea967e02c",
        "colab": {
          "base_uri": "https://localhost:8080/"
        }
      },
      "source": [
        "model=LogisticRegression(solver='lbfgs', max_iter=100)\n",
        "model=OneVsRestClassifier(model)\n",
        "model.fit(X_train_ct,y_train)"
      ],
      "execution_count": 49,
      "outputs": [
        {
          "output_type": "execute_result",
          "data": {
            "text/plain": [
              "OneVsRestClassifier(estimator=LogisticRegression(C=1.0, class_weight=None,\n",
              "                                                 dual=False, fit_intercept=True,\n",
              "                                                 intercept_scaling=1,\n",
              "                                                 l1_ratio=None, max_iter=100,\n",
              "                                                 multi_class='auto',\n",
              "                                                 n_jobs=None, penalty='l2',\n",
              "                                                 random_state=None,\n",
              "                                                 solver='lbfgs', tol=0.0001,\n",
              "                                                 verbose=0, warm_start=False),\n",
              "                    n_jobs=None)"
            ]
          },
          "metadata": {
            "tags": []
          },
          "execution_count": 49
        }
      ]
    },
    {
      "cell_type": "code",
      "metadata": {
        "id": "kSIkW8PXzj12"
      },
      "source": [
        "Ypred=model.predict(X_test_ct)"
      ],
      "execution_count": 54,
      "outputs": []
    },
    {
      "cell_type": "code",
      "metadata": {
        "id": "KScS_mmTBQt4"
      },
      "source": [
        "from sklearn.metrics import accuracy_score\n",
        "from sklearn.metrics import f1_score\n",
        "from sklearn.metrics import average_precision_score\n",
        "from sklearn.metrics import recall_score\n"
      ],
      "execution_count": 50,
      "outputs": []
    },
    {
      "cell_type": "code",
      "metadata": {
        "id": "Wizs8nkmAQc-"
      },
      "source": [
        "def display_metrics_micro(Ytest, Ypred):\n",
        "    print('Accuracy score: ', accuracy_score(Ytest, Ypred))\n",
        "    print('F1 score: Micro', f1_score(Ytest, Ypred, average='micro'))\n",
        "    print('Average precision score: Micro', average_precision_score(Ytest, Ypred, average='micro'))\n",
        "    print('Average recall score: Micro', recall_score(Ytest, Ypred, average='micro'))\n",
        "\n",
        "def display_metrics_macro(Ytest, Ypred):\n",
        "    print('Accuracy score: ', accuracy_score(Ytest, Ypred))\n",
        "    print('F1 score: Macro', f1_score(Ytest, Ypred, average='macro'))\n",
        "    print('Average recall score: MAcro', recall_score(Ytest, Ypred, average='macro'))\n",
        "    \n",
        "def display_metrics_weighted(Ytest, Ypred):\n",
        "    print('Accuracy score: ', accuracy_score(Ytest, Ypred))\n",
        "    print('F1 score: weighted', f1_score(Ytest, Ypred, average='weighted'))\n",
        "    print('Average precision score: weighted', average_precision_score(Ytest, Ypred, average='weighted'))\n",
        "    print('Average recall score: weighted', recall_score(Ytest, Ypred, average='weighted'))"
      ],
      "execution_count": 51,
      "outputs": []
    },
    {
      "cell_type": "code",
      "metadata": {
        "id": "_zPjUH9GsCsw",
        "outputId": "65422deb-9f51-4777-da89-82fe18443ee0",
        "colab": {
          "base_uri": "https://localhost:8080/"
        }
      },
      "source": [
        "display_metrics_micro(y_test,Ypred)"
      ],
      "execution_count": 55,
      "outputs": [
        {
          "output_type": "stream",
          "text": [
            "Accuracy score:  0.01705\n",
            "F1 score: Micro 0.34057962209125703\n",
            "Average precision score: Micro 0.17555458333333332\n",
            "Average recall score: Micro 0.23356666666666667\n"
          ],
          "name": "stdout"
        }
      ]
    },
    {
      "cell_type": "code",
      "metadata": {
        "id": "mO7kPjWusGr3",
        "outputId": "6d25cfff-0cc2-40d7-aeba-92970f2bf3bd",
        "colab": {
          "base_uri": "https://localhost:8080/"
        }
      },
      "source": [
        "display_metrics_macro(y_test,Ypred)"
      ],
      "execution_count": 56,
      "outputs": [
        {
          "output_type": "stream",
          "text": [
            "Accuracy score:  0.01705\n",
            "F1 score: Macro 0.046692508059742996\n",
            "Average recall score: MAcro 0.031948141882554626\n"
          ],
          "name": "stdout"
        }
      ]
    },
    {
      "cell_type": "code",
      "metadata": {
        "id": "C6M09hmcsJUx",
        "outputId": "58ffe6fe-ffa5-444a-b0c1-dfe4500f63cb",
        "colab": {
          "base_uri": "https://localhost:8080/"
        }
      },
      "source": [
        "display_metrics_weighted(y_test,Ypred)"
      ],
      "execution_count": 57,
      "outputs": [
        {
          "output_type": "stream",
          "text": [
            "Accuracy score:  0.01705\n",
            "F1 score: weighted 0.2848297882825551\n",
            "Average precision score: weighted 0.30901362599297244\n",
            "Average recall score: weighted 0.23356666666666667\n"
          ],
          "name": "stdout"
        }
      ]
    },
    {
      "cell_type": "markdown",
      "metadata": {
        "id": "0syH_Ko4sTXd"
      },
      "source": [
        "**Print true label and predicted label for any five examples**"
      ]
    },
    {
      "cell_type": "code",
      "metadata": {
        "id": "9RZ54oFPsXAE"
      },
      "source": [
        "preds = Ypred[:15]\n",
        "actuals = y_test[:15]"
      ],
      "execution_count": 58,
      "outputs": []
    },
    {
      "cell_type": "code",
      "metadata": {
        "id": "Oy3kMBuMsbXf",
        "outputId": "26de6c09-36de-4a5d-97b0-10f76ed4cde9",
        "colab": {
          "base_uri": "https://localhost:8080/"
        }
      },
      "source": [
        "five_actual = binarizer.inverse_transform(actuals)\n",
        "five_actual"
      ],
      "execution_count": 59,
      "outputs": [
        {
          "output_type": "execute_result",
          "data": {
            "text/plain": [
              "[('Taurus', 'female', 'indUnk'),\n",
              " ('Gemini', 'indUnk', 'male'),\n",
              " ('Aries', 'Communications-Media', 'female'),\n",
              " ('Communications-Media', 'Leo', 'male'),\n",
              " ('Arts', 'Libra', 'female'),\n",
              " ('Taurus', 'indUnk', 'male'),\n",
              " ('Aries', 'Student', 'male'),\n",
              " ('Scorpio', 'indUnk', 'male'),\n",
              " ('Capricorn', 'Communications-Media', 'female'),\n",
              " ('Taurus', 'indUnk', 'male'),\n",
              " ('Aries', 'female', 'indUnk'),\n",
              " ('Libra', 'female', 'indUnk'),\n",
              " ('Aquarius', 'female', 'indUnk'),\n",
              " ('Internet', 'Pisces', 'male'),\n",
              " ('Non-Profit', 'Virgo', 'female')]"
            ]
          },
          "metadata": {
            "tags": []
          },
          "execution_count": 59
        }
      ]
    },
    {
      "cell_type": "code",
      "metadata": {
        "id": "iDe-H4lAsdZ9",
        "outputId": "0f435df5-c224-4f61-e8e6-1ae462fd8f6d",
        "colab": {
          "base_uri": "https://localhost:8080/"
        }
      },
      "source": [
        "five_pred = binarizer.inverse_transform(preds)\n",
        "five_pred"
      ],
      "execution_count": 60,
      "outputs": [
        {
          "output_type": "execute_result",
          "data": {
            "text/plain": [
              "[('female',),\n",
              " ('female',),\n",
              " ('female',),\n",
              " ('male',),\n",
              " ('male',),\n",
              " ('Student',),\n",
              " ('male',),\n",
              " ('male',),\n",
              " ('male',),\n",
              " (),\n",
              " ('female',),\n",
              " ('female',),\n",
              " ('female',),\n",
              " ('indUnk',),\n",
              " ()]"
            ]
          },
          "metadata": {
            "tags": []
          },
          "execution_count": 60
        }
      ]
    },
    {
      "cell_type": "code",
      "metadata": {
        "id": "Ud8DSGFTsg4X",
        "outputId": "58abbd4b-d9aa-4fbe-8241-77313aa0482f",
        "colab": {
          "base_uri": "https://localhost:8080/"
        }
      },
      "source": [
        "print(binarizer.inverse_transform(Ypred)[877])\n",
        "print(binarizer.inverse_transform(y_test)[877])"
      ],
      "execution_count": 61,
      "outputs": [
        {
          "output_type": "stream",
          "text": [
            "('male',)\n",
            "('Military', 'Scorpio', 'female')\n"
          ],
          "name": "stdout"
        }
      ]
    },
    {
      "cell_type": "code",
      "metadata": {
        "id": "KRqLhVmcszqu",
        "outputId": "8fcffc22-b163-4538-9bdf-71fac49e60fe",
        "colab": {
          "base_uri": "https://localhost:8080/"
        }
      },
      "source": [
        "print(binarizer.inverse_transform(Ypred)[514])\n",
        "print(binarizer.inverse_transform(y_test)[514])"
      ],
      "execution_count": 62,
      "outputs": [
        {
          "output_type": "stream",
          "text": [
            "('female',)\n",
            "('Student', 'Virgo', 'male')\n"
          ],
          "name": "stdout"
        }
      ]
    },
    {
      "cell_type": "code",
      "metadata": {
        "id": "EztOMdr-sN-F",
        "outputId": "9122962c-cec5-40dd-db05-e00be1825f65",
        "colab": {
          "base_uri": "https://localhost:8080/"
        }
      },
      "source": [
        "print(binarizer.inverse_transform(Ypred)[99])\n",
        "print(binarizer.inverse_transform(y_test)[99])"
      ],
      "execution_count": 63,
      "outputs": [
        {
          "output_type": "stream",
          "text": [
            "('male',)\n",
            "('Aquarius', 'Communications-Media', 'male')\n"
          ],
          "name": "stdout"
        }
      ]
    },
    {
      "cell_type": "code",
      "metadata": {
        "id": "9N5s3BEJs6-f",
        "outputId": "fb3dbaa1-b0e0-402b-fba6-92f994520c4c",
        "colab": {
          "base_uri": "https://localhost:8080/"
        }
      },
      "source": [
        "print(binarizer.inverse_transform(Ypred)[499])\n",
        "print(binarizer.inverse_transform(y_test)[499])"
      ],
      "execution_count": 64,
      "outputs": [
        {
          "output_type": "stream",
          "text": [
            "('male',)\n",
            "('Leo', 'indUnk', 'male')\n"
          ],
          "name": "stdout"
        }
      ]
    },
    {
      "cell_type": "code",
      "metadata": {
        "id": "yXkb3xeas-xx",
        "outputId": "710f74de-708c-4eae-a108-b6529d553da7",
        "colab": {
          "base_uri": "https://localhost:8080/"
        }
      },
      "source": [
        "print(binarizer.inverse_transform(Ypred)[699])\n",
        "print(binarizer.inverse_transform(y_test)[699])"
      ],
      "execution_count": 65,
      "outputs": [
        {
          "output_type": "stream",
          "text": [
            "('male',)\n",
            "('Gemini', 'indUnk', 'male')\n"
          ],
          "name": "stdout"
        }
      ]
    },
    {
      "cell_type": "markdown",
      "metadata": {
        "id": "B2M3DmI3uVSl"
      },
      "source": [
        "**Print true label and predicted label for any five examples**"
      ]
    },
    {
      "cell_type": "code",
      "metadata": {
        "id": "PTK9Eg2PuT2a",
        "outputId": "87955fa7-e881-46c6-9313-1ca258fc7ad1",
        "colab": {
          "base_uri": "https://localhost:8080/"
        }
      },
      "source": [
        "import random\n",
        "j=[]\n",
        "for i in range(5):\n",
        "    j.append(random.randint(300,len(Ypred)))\n",
        "   \n",
        "print(j)\n",
        "\n",
        "for k in j:    \n",
        "    print(binarizer.inverse_transform(Ypred)[k])\n",
        "    print(binarizer.inverse_transform(y_test)[k])"
      ],
      "execution_count": 66,
      "outputs": [
        {
          "output_type": "stream",
          "text": [
            "[8873, 3081, 16886, 11618, 13793]\n",
            "('female', 'indUnk')\n",
            "('Religion', 'Virgo', 'female')\n",
            "('male',)\n",
            "('Gemini', 'Technology', 'male')\n",
            "('female', 'indUnk')\n",
            "('Capricorn', 'female', 'indUnk')\n",
            "('male',)\n",
            "('Gemini', 'female', 'indUnk')\n",
            "('indUnk', 'male')\n",
            "('Internet', 'Leo', 'male')\n"
          ],
          "name": "stdout"
        }
      ]
    },
    {
      "cell_type": "markdown",
      "metadata": {
        "id": "zNGhq98wuuZm"
      },
      "source": [
        "**Use a linear classifier (LinearSVC is used in the following) of your choice, wrap it up in OneVsRestClassifier to train it on every label**"
      ]
    },
    {
      "cell_type": "code",
      "metadata": {
        "id": "YzI3g7sOuw4p"
      },
      "source": [
        "\n",
        "from sklearn.linear_model import LogisticRegression\n",
        "from sklearn.discriminant_analysis import LinearDiscriminantAnalysis\n",
        "from sklearn.svm import LinearSVC\n",
        "from sklearn.naive_bayes import MultinomialNB\n",
        "\n",
        "def build_model_train(X_train, y_train, X_valid=None, y_valid=None, C=1.0, model='lr'):\n",
        "    if model=='lr':\n",
        "        model = LogisticRegression(C=C, penalty='l1', dual=False, solver='liblinear')\n",
        "        model = OneVsRestClassifier(model)\n",
        "        model.fit(X_train, y_train)\n",
        "    \n",
        "    elif model=='svm':\n",
        "        model = LinearSVC(C=C, penalty='l1', dual=False, loss='squared_hinge')\n",
        "        model = OneVsRestClassifier(model)\n",
        "        model.fit(X_train, y_train)\n",
        "    \n",
        "    elif model=='nbayes':\n",
        "        model = MultinomialNB(alpha=1.0)\n",
        "        model = OneVsRestClassifier(model)\n",
        "        model.fit(X_train, y_train)\n",
        "        \n",
        "    elif model=='lda':\n",
        "        model = LinearDiscriminantAnalysis(solver='svd')\n",
        "        model = OneVsRestClassifier(model)\n",
        "        model.fit(X_train, y_train)\n",
        "\n",
        "    return model"
      ],
      "execution_count": 67,
      "outputs": []
    },
    {
      "cell_type": "code",
      "metadata": {
        "id": "K7PjtKXzwRxH",
        "outputId": "2ee263bb-972c-45f5-8527-8d8b28f13986",
        "colab": {
          "base_uri": "https://localhost:8080/"
        }
      },
      "source": [
        "models = ['lr','svm','nbayes']\n",
        "for model in models:\n",
        "    model = build_model_train(X_train_ct,y_train,model=model)\n",
        "    model.fit(X_train_ct,y_train)\n",
        "    Ypred=model.predict(X_test_ct)\n",
        "    print(\"\\n\")\n",
        "    print(f\"**displaying  metrics for the mode {model}\\n\")\n",
        "    display_metrics_micro(y_test,Ypred)\n",
        "    print(\"\\n\")\n",
        "    print(\"\\n\")\n",
        "    display_metrics_macro(y_test,Ypred)\n",
        "    print(\"\\n\")\n",
        "    print(\"\\n\")\n",
        "    display_metrics_weighted(y_test,Ypred)\n",
        "    print(\"\\n\")\n",
        "    print(\"\\n\")"
      ],
      "execution_count": null,
      "outputs": [
        {
          "output_type": "stream",
          "text": [
            "\n",
            "\n",
            "**displaying  metrics for the mode OneVsRestClassifier(estimator=LogisticRegression(C=1.0, class_weight=None,\n",
            "                                                 dual=False, fit_intercept=True,\n",
            "                                                 intercept_scaling=1,\n",
            "                                                 l1_ratio=None, max_iter=100,\n",
            "                                                 multi_class='auto',\n",
            "                                                 n_jobs=None, penalty='l1',\n",
            "                                                 random_state=None,\n",
            "                                                 solver='liblinear', tol=0.0001,\n",
            "                                                 verbose=0, warm_start=False),\n",
            "                    n_jobs=None)\n",
            "\n",
            "Accuracy score:  0.0316\n",
            "F1 score: Micro 0.34673764642443294\n",
            "Average precision score: Micro 0.16817216525993153\n",
            "Average recall score: Micro 0.25185\n",
            "\n",
            "\n",
            "\n",
            "\n",
            "Accuracy score:  0.0316\n",
            "F1 score: Macro 0.08492649077038514\n",
            "Average recall score: MAcro 0.05755427425583163\n",
            "\n",
            "\n",
            "\n",
            "\n",
            "Accuracy score:  0.0316\n",
            "F1 score: weighted 0.3133998567515064\n",
            "Average precision score: weighted 0.30907434843538817\n",
            "Average recall score: weighted 0.25185\n",
            "\n",
            "\n",
            "\n",
            "\n",
            "\n",
            "\n",
            "**displaying  metrics for the mode OneVsRestClassifier(estimator=LinearSVC(C=1.0, class_weight=None, dual=False,\n",
            "                                        fit_intercept=True, intercept_scaling=1,\n",
            "                                        loss='squared_hinge', max_iter=1000,\n",
            "                                        multi_class='ovr', penalty='l1',\n",
            "                                        random_state=None, tol=0.0001,\n",
            "                                        verbose=0),\n",
            "                    n_jobs=None)\n",
            "\n",
            "Accuracy score:  0.0273\n",
            "F1 score: Micro 0.3149054278775408\n",
            "Average precision score: Micro 0.15166659741064992\n",
            "Average recall score: Micro 0.21935\n",
            "\n",
            "\n",
            "\n",
            "\n",
            "Accuracy score:  0.0273\n",
            "F1 score: Macro 0.0808452571347907\n",
            "Average recall score: MAcro 0.051685005769876315\n",
            "\n",
            "\n",
            "\n",
            "\n",
            "Accuracy score:  0.0273\n",
            "F1 score: weighted 0.2879680959335509\n",
            "Average precision score: weighted 0.3034477466403971\n",
            "Average recall score: weighted 0.21935\n",
            "\n",
            "\n",
            "\n",
            "\n"
          ],
          "name": "stdout"
        }
      ]
    },
    {
      "cell_type": "code",
      "metadata": {
        "id": "-4NlAyvvucGO"
      },
      "source": [
        ""
      ],
      "execution_count": null,
      "outputs": []
    },
    {
      "cell_type": "code",
      "metadata": {
        "id": "ZN9FNX6utB1y"
      },
      "source": [
        ""
      ],
      "execution_count": null,
      "outputs": []
    }
  ]
}