{
  "nbformat": 4,
  "nbformat_minor": 0,
  "metadata": {
    "colab": {
      "name": "NLP Classifier.ipynb",
      "provenance": [],
      "authorship_tag": "ABX9TyN7/l2KIUEQ+Qs7M9L2Ec3j",
      "include_colab_link": true
    },
    "kernelspec": {
      "name": "python3",
      "display_name": "Python 3"
    },
    "language_info": {
      "name": "python"
    }
  },
  "cells": [
    {
      "cell_type": "markdown",
      "metadata": {
        "id": "view-in-github",
        "colab_type": "text"
      },
      "source": [
        "<a href=\"https://colab.research.google.com/github/varunkr24/Natural-Language-Processing/blob/Python/NLP_Classifier.ipynb\" target=\"_parent\"><img src=\"https://colab.research.google.com/assets/colab-badge.svg\" alt=\"Open In Colab\"/></a>"
      ]
    },
    {
      "cell_type": "markdown",
      "metadata": {
        "id": "PNKVY95Os5Ji"
      },
      "source": [
        "Blog Authorship Corpus\n",
        "Classification is probably the most popular task that you would deal with in real life. Text in the form of blogs, posts, articles, etc. is written every second. It is a challenge to predict the information about the writer without knowing about him/her. We are going to create a classifier that predicts multiple features of the author of a given text. We have designed it as a Multilabel classification problem. Dataset Blog Authorship Corpus\n",
        "\n",
        "Over 600,000 posts from more than 19 thousand bloggers The Blog Authorship Corpus consists of the collected posts of 19,320 bloggers gathered from blogger.com in August 2004. The corpus incorporates a total of 681,288 posts and over 140 million words - or approximately 35 posts and 7250 words per person. Each blog is presented as a separate file, the name of which indicates a blogger id# and the blogger’s self-provided gender, age, industry, and astrological sign. (All are labeled for gender and age but for many, industry and/or sign is marked as unknown.)\n",
        "\n",
        "All bloggers included in the corpus fall into one of three age groups: 8240 \"10s\" blogs (ages 13-17), 8086 \"20s\" blogs(ages 23-27) 2994 \"30s\" blogs (ages 33-47)\n",
        "\n",
        "For each age group, there is an equal number of male and female bloggers. Each blog in the corpus includes at least 200 occurrences of common English words. All formatting has been stripped with two exceptions. Individual posts within a single blogger are separated by the date of the following post and links within a post are denoted by the label urllink"
      ]
    },
    {
      "cell_type": "markdown",
      "metadata": {
        "id": "WT_T_bEGtKiN"
      },
      "source": [
        "Link to dataset: https://www.kaggle.com/rtatman/blog-authorship-corpus"
      ]
    },
    {
      "cell_type": "markdown",
      "metadata": {
        "id": "7cm2hVHitR0y"
      },
      "source": [
        "OBJECTIVE: The need is to build a NLP classifier which can use input text parameters to determine the label/s of the blog."
      ]
    },
    {
      "cell_type": "markdown",
      "metadata": {
        "id": "V7adm3UYeXdk"
      },
      "source": [
        "STEPS:    \n",
        "1.Import and analyse the data set.   \n",
        "2.Perform data pre-processing on the data:   \n",
        "•Data cleansing by removing unwanted characters, spaces, stop words etc. Convert text to lowercase.   \n",
        "•Target/label merger and transformation   \n",
        "•Train and test split   \n",
        "•Vectorisation, etc.   \n",
        "3.Design, train, tune and test the best text classifier.   \n",
        "4.Display and explain detail the classification report   \n",
        "5.Print the true vs predicted labels for any 5 entries from the dataset."
      ]
    },
    {
      "cell_type": "code",
      "metadata": {
        "id": "Az7kNC1-sdY5"
      },
      "source": [
        "import pandas as pd\n",
        "import numpy as np \n",
        "import re\n",
        "from nltk.corpus import stopwords\n",
        "from sklearn.feature_extraction.text import CountVectorizer\n",
        "from sklearn.model_selection import train_test_split\n",
        "from nltk.stem.snowball import SnowballStemmer\n",
        "import warnings\n",
        "warnings.filterwarnings('ignore')\n",
        "import pandas_profiling as pp\n",
        "import seaborn as sns\n",
        "import matplotlib as plt\n",
        "%matplotlib inline"
      ],
      "execution_count": 2,
      "outputs": []
    },
    {
      "cell_type": "code",
      "metadata": {
        "colab": {
          "base_uri": "https://localhost:8080/"
        },
        "id": "hXREFx5t6ir7",
        "outputId": "efa964bf-5220-4a9a-a973-8cd05a39914f"
      },
      "source": [
        "from google.colab import drive\n",
        "drive.mount('/content/drive')"
      ],
      "execution_count": 3,
      "outputs": [
        {
          "output_type": "stream",
          "text": [
            "Drive already mounted at /content/drive; to attempt to forcibly remount, call drive.mount(\"/content/drive\", force_remount=True).\n"
          ],
          "name": "stdout"
        }
      ]
    },
    {
      "cell_type": "markdown",
      "metadata": {
        "id": "BdfM1cyowbCq"
      },
      "source": [
        "https://www.kaggle.com/durgaprasadk10/blog-authorship-corpus-solution"
      ]
    },
    {
      "cell_type": "code",
      "metadata": {
        "id": "2dnUoNrkgddr"
      },
      "source": [
        "df = pd.read_csv('/content/drive/My Drive/AIML/Projects/blogtext.csv')"
      ],
      "execution_count": 4,
      "outputs": []
    },
    {
      "cell_type": "code",
      "metadata": {
        "colab": {
          "base_uri": "https://localhost:8080/",
          "height": 205
        },
        "id": "79DWHFQ-fE-P",
        "outputId": "93d2eabc-297f-4dcb-da97-2bff3a3253fa"
      },
      "source": [
        "df.head()"
      ],
      "execution_count": 5,
      "outputs": [
        {
          "output_type": "execute_result",
          "data": {
            "text/html": [
              "<div>\n",
              "<style scoped>\n",
              "    .dataframe tbody tr th:only-of-type {\n",
              "        vertical-align: middle;\n",
              "    }\n",
              "\n",
              "    .dataframe tbody tr th {\n",
              "        vertical-align: top;\n",
              "    }\n",
              "\n",
              "    .dataframe thead th {\n",
              "        text-align: right;\n",
              "    }\n",
              "</style>\n",
              "<table border=\"1\" class=\"dataframe\">\n",
              "  <thead>\n",
              "    <tr style=\"text-align: right;\">\n",
              "      <th></th>\n",
              "      <th>id</th>\n",
              "      <th>gender</th>\n",
              "      <th>age</th>\n",
              "      <th>topic</th>\n",
              "      <th>sign</th>\n",
              "      <th>date</th>\n",
              "      <th>text</th>\n",
              "    </tr>\n",
              "  </thead>\n",
              "  <tbody>\n",
              "    <tr>\n",
              "      <th>0</th>\n",
              "      <td>2059027</td>\n",
              "      <td>male</td>\n",
              "      <td>15</td>\n",
              "      <td>Student</td>\n",
              "      <td>Leo</td>\n",
              "      <td>14,May,2004</td>\n",
              "      <td>Info has been found (+/- 100 pages,...</td>\n",
              "    </tr>\n",
              "    <tr>\n",
              "      <th>1</th>\n",
              "      <td>2059027</td>\n",
              "      <td>male</td>\n",
              "      <td>15</td>\n",
              "      <td>Student</td>\n",
              "      <td>Leo</td>\n",
              "      <td>13,May,2004</td>\n",
              "      <td>These are the team members:   Drewe...</td>\n",
              "    </tr>\n",
              "    <tr>\n",
              "      <th>2</th>\n",
              "      <td>2059027</td>\n",
              "      <td>male</td>\n",
              "      <td>15</td>\n",
              "      <td>Student</td>\n",
              "      <td>Leo</td>\n",
              "      <td>12,May,2004</td>\n",
              "      <td>In het kader van kernfusie op aarde...</td>\n",
              "    </tr>\n",
              "    <tr>\n",
              "      <th>3</th>\n",
              "      <td>2059027</td>\n",
              "      <td>male</td>\n",
              "      <td>15</td>\n",
              "      <td>Student</td>\n",
              "      <td>Leo</td>\n",
              "      <td>12,May,2004</td>\n",
              "      <td>testing!!!  testing!!!</td>\n",
              "    </tr>\n",
              "    <tr>\n",
              "      <th>4</th>\n",
              "      <td>3581210</td>\n",
              "      <td>male</td>\n",
              "      <td>33</td>\n",
              "      <td>InvestmentBanking</td>\n",
              "      <td>Aquarius</td>\n",
              "      <td>11,June,2004</td>\n",
              "      <td>Thanks to Yahoo!'s Toolbar I can ...</td>\n",
              "    </tr>\n",
              "  </tbody>\n",
              "</table>\n",
              "</div>"
            ],
            "text/plain": [
              "        id  ...                                               text\n",
              "0  2059027  ...             Info has been found (+/- 100 pages,...\n",
              "1  2059027  ...             These are the team members:   Drewe...\n",
              "2  2059027  ...             In het kader van kernfusie op aarde...\n",
              "3  2059027  ...                   testing!!!  testing!!!          \n",
              "4  3581210  ...               Thanks to Yahoo!'s Toolbar I can ...\n",
              "\n",
              "[5 rows x 7 columns]"
            ]
          },
          "metadata": {
            "tags": []
          },
          "execution_count": 5
        }
      ]
    },
    {
      "cell_type": "code",
      "metadata": {
        "colab": {
          "base_uri": "https://localhost:8080/"
        },
        "id": "NFzfaV7OqXHL",
        "outputId": "f482b8ea-4f37-43fb-94a7-a4856a568c28"
      },
      "source": [
        "df.shape"
      ],
      "execution_count": 6,
      "outputs": [
        {
          "output_type": "execute_result",
          "data": {
            "text/plain": [
              "(681284, 7)"
            ]
          },
          "metadata": {
            "tags": []
          },
          "execution_count": 6
        }
      ]
    },
    {
      "cell_type": "code",
      "metadata": {
        "colab": {
          "base_uri": "https://localhost:8080/",
          "height": 205
        },
        "id": "c_7zGmJIqqhz",
        "outputId": "2349dcc4-ce20-44c2-ceb6-1bd89644dfec"
      },
      "source": [
        "df.sample(5)"
      ],
      "execution_count": 7,
      "outputs": [
        {
          "output_type": "execute_result",
          "data": {
            "text/html": [
              "<div>\n",
              "<style scoped>\n",
              "    .dataframe tbody tr th:only-of-type {\n",
              "        vertical-align: middle;\n",
              "    }\n",
              "\n",
              "    .dataframe tbody tr th {\n",
              "        vertical-align: top;\n",
              "    }\n",
              "\n",
              "    .dataframe thead th {\n",
              "        text-align: right;\n",
              "    }\n",
              "</style>\n",
              "<table border=\"1\" class=\"dataframe\">\n",
              "  <thead>\n",
              "    <tr style=\"text-align: right;\">\n",
              "      <th></th>\n",
              "      <th>id</th>\n",
              "      <th>gender</th>\n",
              "      <th>age</th>\n",
              "      <th>topic</th>\n",
              "      <th>sign</th>\n",
              "      <th>date</th>\n",
              "      <th>text</th>\n",
              "    </tr>\n",
              "  </thead>\n",
              "  <tbody>\n",
              "    <tr>\n",
              "      <th>573835</th>\n",
              "      <td>1878430</td>\n",
              "      <td>male</td>\n",
              "      <td>36</td>\n",
              "      <td>indUnk</td>\n",
              "      <td>Aquarius</td>\n",
              "      <td>05,April,2004</td>\n",
              "      <td>Be warned, the link is not for the fain...</td>\n",
              "    </tr>\n",
              "    <tr>\n",
              "      <th>658993</th>\n",
              "      <td>1337805</td>\n",
              "      <td>female</td>\n",
              "      <td>17</td>\n",
              "      <td>Student</td>\n",
              "      <td>Aquarius</td>\n",
              "      <td>01,August,2004</td>\n",
              "      <td>yum!  Saw Return of the King last night...</td>\n",
              "    </tr>\n",
              "    <tr>\n",
              "      <th>620460</th>\n",
              "      <td>239860</td>\n",
              "      <td>male</td>\n",
              "      <td>25</td>\n",
              "      <td>indUnk</td>\n",
              "      <td>Leo</td>\n",
              "      <td>05,October,2001</td>\n",
              "      <td>urlLink You are Princess Leia  *big laugh*...</td>\n",
              "    </tr>\n",
              "    <tr>\n",
              "      <th>477478</th>\n",
              "      <td>4300645</td>\n",
              "      <td>male</td>\n",
              "      <td>15</td>\n",
              "      <td>Education</td>\n",
              "      <td>Leo</td>\n",
              "      <td>21,August,2004</td>\n",
              "      <td>I n the second round of the NEC...</td>\n",
              "    </tr>\n",
              "    <tr>\n",
              "      <th>670919</th>\n",
              "      <td>2303699</td>\n",
              "      <td>female</td>\n",
              "      <td>23</td>\n",
              "      <td>Science</td>\n",
              "      <td>Aquarius</td>\n",
              "      <td>09,March,2004</td>\n",
              "      <td>I can't wait to have some bre...</td>\n",
              "    </tr>\n",
              "  </tbody>\n",
              "</table>\n",
              "</div>"
            ],
            "text/plain": [
              "             id  ...                                               text\n",
              "573835  1878430  ...         Be warned, the link is not for the fain...\n",
              "658993  1337805  ...         yum!  Saw Return of the King last night...\n",
              "620460   239860  ...      urlLink You are Princess Leia  *big laugh*...\n",
              "477478  4300645  ...                 I n the second round of the NEC...\n",
              "670919  2303699  ...                   I can't wait to have some bre...\n",
              "\n",
              "[5 rows x 7 columns]"
            ]
          },
          "metadata": {
            "tags": []
          },
          "execution_count": 7
        }
      ]
    },
    {
      "cell_type": "code",
      "metadata": {
        "colab": {
          "base_uri": "https://localhost:8080/"
        },
        "id": "YZUjJxTBxcMu",
        "outputId": "6f9ba49f-b412-4249-8fb8-a94c00e6f6d0"
      },
      "source": [
        "df.info()"
      ],
      "execution_count": 8,
      "outputs": [
        {
          "output_type": "stream",
          "text": [
            "<class 'pandas.core.frame.DataFrame'>\n",
            "RangeIndex: 681284 entries, 0 to 681283\n",
            "Data columns (total 7 columns):\n",
            " #   Column  Non-Null Count   Dtype \n",
            "---  ------  --------------   ----- \n",
            " 0   id      681284 non-null  int64 \n",
            " 1   gender  681284 non-null  object\n",
            " 2   age     681284 non-null  int64 \n",
            " 3   topic   681284 non-null  object\n",
            " 4   sign    681284 non-null  object\n",
            " 5   date    681284 non-null  object\n",
            " 6   text    681284 non-null  object\n",
            "dtypes: int64(2), object(5)\n",
            "memory usage: 36.4+ MB\n"
          ],
          "name": "stdout"
        }
      ]
    },
    {
      "cell_type": "code",
      "metadata": {
        "colab": {
          "base_uri": "https://localhost:8080/"
        },
        "id": "eiMyWnb_yvpC",
        "outputId": "5df8dfe7-33ef-4cac-95c1-f1d19747aaa0"
      },
      "source": [
        "df.gender.value_counts()"
      ],
      "execution_count": 9,
      "outputs": [
        {
          "output_type": "execute_result",
          "data": {
            "text/plain": [
              "male      345193\n",
              "female    336091\n",
              "Name: gender, dtype: int64"
            ]
          },
          "metadata": {
            "tags": []
          },
          "execution_count": 9
        }
      ]
    },
    {
      "cell_type": "code",
      "metadata": {
        "colab": {
          "base_uri": "https://localhost:8080/"
        },
        "id": "0Qfx0n7czGYj",
        "outputId": "2ad3a2ea-4448-4acb-8e19-e90f42e93d3f"
      },
      "source": [
        "df.isna().sum()"
      ],
      "execution_count": 10,
      "outputs": [
        {
          "output_type": "execute_result",
          "data": {
            "text/plain": [
              "id        0\n",
              "gender    0\n",
              "age       0\n",
              "topic     0\n",
              "sign      0\n",
              "date      0\n",
              "text      0\n",
              "dtype: int64"
            ]
          },
          "metadata": {
            "tags": []
          },
          "execution_count": 10
        }
      ]
    },
    {
      "cell_type": "code",
      "metadata": {
        "colab": {
          "base_uri": "https://localhost:8080/",
          "height": 296
        },
        "id": "_NaY194vzlBP",
        "outputId": "e3ec7827-67db-4c84-a3e3-1b57c70690f8"
      },
      "source": [
        "sns.countplot(x='sign',data=df)"
      ],
      "execution_count": 11,
      "outputs": [
        {
          "output_type": "execute_result",
          "data": {
            "text/plain": [
              "<matplotlib.axes._subplots.AxesSubplot at 0x7f49d0fcc3d0>"
            ]
          },
          "metadata": {
            "tags": []
          },
          "execution_count": 11
        },
        {
          "output_type": "display_data",
          "data": {
            "image/png": "[encoded data removed]",
            "text/plain": [
              "<Figure size 432x288 with 1 Axes>"
            ]
          },
          "metadata": {
            "tags": [],
            "needs_background": "light"
          }
        }
      ]
    },
    {
      "cell_type": "markdown",
      "metadata": {
        "id": "gHFoYsN4CmYk"
      },
      "source": [
        "As the dataset is large and it is unable run on machine so limiting the data and using fewer rows."
      ]
    },
    {
      "cell_type": "code",
      "metadata": {
        "id": "aQrE9KEICidI"
      },
      "source": [
        "  df = df.sample(100000)"
      ],
      "execution_count": 12,
      "outputs": []
    },
    {
      "cell_type": "code",
      "metadata": {
        "id": "V61lLBcgDWQf",
        "outputId": "d1bd4271-282a-4e99-e0d0-bacd02f054db",
        "colab": {
          "base_uri": "https://localhost:8080/"
        }
      },
      "source": [
        "df.gender.value_counts()"
      ],
      "execution_count": 14,
      "outputs": [
        {
          "output_type": "execute_result",
          "data": {
            "text/plain": [
              "male      50718\n",
              "female    49282\n",
              "Name: gender, dtype: int64"
            ]
          },
          "metadata": {
            "tags": []
          },
          "execution_count": 14
        }
      ]
    },
    {
      "cell_type": "code",
      "metadata": {
        "id": "Nuof8bsMDNCC",
        "outputId": "1e9a5017-2aec-46ab-fcda-976d8903da8e",
        "colab": {
          "base_uri": "https://localhost:8080/",
          "height": 205
        }
      },
      "source": [
        "df.head(5)"
      ],
      "execution_count": 13,
      "outputs": [
        {
          "output_type": "execute_result",
          "data": {
            "text/html": [
              "<div>\n",
              "<style scoped>\n",
              "    .dataframe tbody tr th:only-of-type {\n",
              "        vertical-align: middle;\n",
              "    }\n",
              "\n",
              "    .dataframe tbody tr th {\n",
              "        vertical-align: top;\n",
              "    }\n",
              "\n",
              "    .dataframe thead th {\n",
              "        text-align: right;\n",
              "    }\n",
              "</style>\n",
              "<table border=\"1\" class=\"dataframe\">\n",
              "  <thead>\n",
              "    <tr style=\"text-align: right;\">\n",
              "      <th></th>\n",
              "      <th>id</th>\n",
              "      <th>gender</th>\n",
              "      <th>age</th>\n",
              "      <th>topic</th>\n",
              "      <th>sign</th>\n",
              "      <th>date</th>\n",
              "      <th>text</th>\n",
              "    </tr>\n",
              "  </thead>\n",
              "  <tbody>\n",
              "    <tr>\n",
              "      <th>284493</th>\n",
              "      <td>692449</td>\n",
              "      <td>male</td>\n",
              "      <td>24</td>\n",
              "      <td>Technology</td>\n",
              "      <td>Scorpio</td>\n",
              "      <td>01,August,2004</td>\n",
              "      <td>SAN FRANCISCO, Bay Area - Political pri...</td>\n",
              "    </tr>\n",
              "    <tr>\n",
              "      <th>208689</th>\n",
              "      <td>3389978</td>\n",
              "      <td>male</td>\n",
              "      <td>23</td>\n",
              "      <td>Engineering</td>\n",
              "      <td>Libra</td>\n",
              "      <td>24,May,2004</td>\n",
              "      <td>I am ready for some changes i...</td>\n",
              "    </tr>\n",
              "    <tr>\n",
              "      <th>1957</th>\n",
              "      <td>589736</td>\n",
              "      <td>male</td>\n",
              "      <td>35</td>\n",
              "      <td>Technology</td>\n",
              "      <td>Aries</td>\n",
              "      <td>05,August,2004</td>\n",
              "      <td>the new 'state-of-the-arf' shelter ...</td>\n",
              "    </tr>\n",
              "    <tr>\n",
              "      <th>39661</th>\n",
              "      <td>580228</td>\n",
              "      <td>male</td>\n",
              "      <td>17</td>\n",
              "      <td>Communications-Media</td>\n",
              "      <td>Libra</td>\n",
              "      <td>20,April,2004</td>\n",
              "      <td>Kick and Scream Gucci Little Piggy!  [...</td>\n",
              "    </tr>\n",
              "    <tr>\n",
              "      <th>84073</th>\n",
              "      <td>3306739</td>\n",
              "      <td>male</td>\n",
              "      <td>41</td>\n",
              "      <td>indUnk</td>\n",
              "      <td>Gemini</td>\n",
              "      <td>27,July,2004</td>\n",
              "      <td>Now that S. is closer to bein...</td>\n",
              "    </tr>\n",
              "  </tbody>\n",
              "</table>\n",
              "</div>"
            ],
            "text/plain": [
              "             id  ...                                               text\n",
              "284493   692449  ...         SAN FRANCISCO, Bay Area - Political pri...\n",
              "208689  3389978  ...                   I am ready for some changes i...\n",
              "1957     589736  ...             the new 'state-of-the-arf' shelter ...\n",
              "39661    580228  ...          Kick and Scream Gucci Little Piggy!  [...\n",
              "84073   3306739  ...                   Now that S. is closer to bein...\n",
              "\n",
              "[5 rows x 7 columns]"
            ]
          },
          "metadata": {
            "tags": []
          },
          "execution_count": 13
        }
      ]
    },
    {
      "cell_type": "markdown",
      "metadata": {
        "id": "fU0elf6Kz3U_"
      },
      "source": [
        "**Preprocess rows of the “text” column**  \n",
        "a. Remove unwanted characters\n",
        "\n",
        "b. Convert text to lowercase\n",
        "\n",
        "c. Remove unwanted spaces\n",
        "\n",
        "d. Remove stopwords"
      ]
    },
    {
      "cell_type": "code",
      "metadata": {
        "id": "tOiTDwimzvcH"
      },
      "source": [
        "pattern = \"[^\\w ]\"\n",
        "df.text = df.text.apply(lambda s : re.sub(pattern,\"\",s))"
      ],
      "execution_count": 15,
      "outputs": []
    },
    {
      "cell_type": "code",
      "metadata": {
        "colab": {
          "base_uri": "https://localhost:8080/",
          "height": 205
        },
        "id": "prnb1Peq0L4y",
        "outputId": "873b98b2-78b4-40fe-c1a9-a5e2113fd899"
      },
      "source": [
        "df.head()"
      ],
      "execution_count": 16,
      "outputs": [
        {
          "output_type": "execute_result",
          "data": {
            "text/html": [
              "<div>\n",
              "<style scoped>\n",
              "    .dataframe tbody tr th:only-of-type {\n",
              "        vertical-align: middle;\n",
              "    }\n",
              "\n",
              "    .dataframe tbody tr th {\n",
              "        vertical-align: top;\n",
              "    }\n",
              "\n",
              "    .dataframe thead th {\n",
              "        text-align: right;\n",
              "    }\n",
              "</style>\n",
              "<table border=\"1\" class=\"dataframe\">\n",
              "  <thead>\n",
              "    <tr style=\"text-align: right;\">\n",
              "      <th></th>\n",
              "      <th>id</th>\n",
              "      <th>gender</th>\n",
              "      <th>age</th>\n",
              "      <th>topic</th>\n",
              "      <th>sign</th>\n",
              "      <th>date</th>\n",
              "      <th>text</th>\n",
              "    </tr>\n",
              "  </thead>\n",
              "  <tbody>\n",
              "    <tr>\n",
              "      <th>284493</th>\n",
              "      <td>692449</td>\n",
              "      <td>male</td>\n",
              "      <td>24</td>\n",
              "      <td>Technology</td>\n",
              "      <td>Scorpio</td>\n",
              "      <td>01,August,2004</td>\n",
              "      <td>SAN FRANCISCO Bay Area  Political priso...</td>\n",
              "    </tr>\n",
              "    <tr>\n",
              "      <th>208689</th>\n",
              "      <td>3389978</td>\n",
              "      <td>male</td>\n",
              "      <td>23</td>\n",
              "      <td>Engineering</td>\n",
              "      <td>Libra</td>\n",
              "      <td>24,May,2004</td>\n",
              "      <td>I am ready for some changes i...</td>\n",
              "    </tr>\n",
              "    <tr>\n",
              "      <th>1957</th>\n",
              "      <td>589736</td>\n",
              "      <td>male</td>\n",
              "      <td>35</td>\n",
              "      <td>Technology</td>\n",
              "      <td>Aries</td>\n",
              "      <td>05,August,2004</td>\n",
              "      <td>the new stateofthearf shelter  this...</td>\n",
              "    </tr>\n",
              "    <tr>\n",
              "      <th>39661</th>\n",
              "      <td>580228</td>\n",
              "      <td>male</td>\n",
              "      <td>17</td>\n",
              "      <td>Communications-Media</td>\n",
              "      <td>Libra</td>\n",
              "      <td>20,April,2004</td>\n",
              "      <td>Kick and Scream Gucci Little Piggy  Ra...</td>\n",
              "    </tr>\n",
              "    <tr>\n",
              "      <th>84073</th>\n",
              "      <td>3306739</td>\n",
              "      <td>male</td>\n",
              "      <td>41</td>\n",
              "      <td>indUnk</td>\n",
              "      <td>Gemini</td>\n",
              "      <td>27,July,2004</td>\n",
              "      <td>Now that S is closer to being...</td>\n",
              "    </tr>\n",
              "  </tbody>\n",
              "</table>\n",
              "</div>"
            ],
            "text/plain": [
              "             id  ...                                               text\n",
              "284493   692449  ...         SAN FRANCISCO Bay Area  Political priso...\n",
              "208689  3389978  ...                   I am ready for some changes i...\n",
              "1957     589736  ...             the new stateofthearf shelter  this...\n",
              "39661    580228  ...          Kick and Scream Gucci Little Piggy  Ra...\n",
              "84073   3306739  ...                   Now that S is closer to being...\n",
              "\n",
              "[5 rows x 7 columns]"
            ]
          },
          "metadata": {
            "tags": []
          },
          "execution_count": 16
        }
      ]
    },
    {
      "cell_type": "markdown",
      "metadata": {
        "id": "m_kCFMjZDkfa"
      },
      "source": [
        "**Convert text to lower case**"
      ]
    },
    {
      "cell_type": "code",
      "metadata": {
        "id": "yFRv5Upm0y8O"
      },
      "source": [
        "df.text = df.text.apply(lambda s: s.lower())  "
      ],
      "execution_count": 17,
      "outputs": []
    },
    {
      "cell_type": "markdown",
      "metadata": {
        "id": "cxCxWsYuDu9J"
      },
      "source": [
        "**Remove unwanted spaces**"
      ]
    },
    {
      "cell_type": "code",
      "metadata": {
        "id": "KgfpJ3Ca0_tz"
      },
      "source": [
        "df.text = df.text.apply(lambda s: s.strip())"
      ],
      "execution_count": 18,
      "outputs": []
    },
    {
      "cell_type": "markdown",
      "metadata": {
        "id": "RuwxYDpFD6zu"
      },
      "source": [
        "**Remove stopwords**"
      ]
    },
    {
      "cell_type": "code",
      "metadata": {
        "colab": {
          "base_uri": "https://localhost:8080/"
        },
        "id": "KY8MXifp1KAI",
        "outputId": "0bf2c33f-915a-4582-ac28-57c64af18772"
      },
      "source": [
        "import nltk\n",
        "nltk.download('stopwords')"
      ],
      "execution_count": 19,
      "outputs": [
        {
          "output_type": "stream",
          "text": [
            "[nltk_data] Downloading package stopwords to /root/nltk_data...\n",
            "[nltk_data]   Package stopwords is already up-to-date!\n"
          ],
          "name": "stdout"
        },
        {
          "output_type": "execute_result",
          "data": {
            "text/plain": [
              "True"
            ]
          },
          "metadata": {
            "tags": []
          },
          "execution_count": 19
        }
      ]
    },
    {
      "cell_type": "code",
      "metadata": {
        "id": "9pHU5rnf1v8s"
      },
      "source": [
        "stopwords= set(stopwords.words('english'))"
      ],
      "execution_count": 20,
      "outputs": []
    },
    {
      "cell_type": "code",
      "metadata": {
        "id": "C0W3fWw_d1ic"
      },
      "source": [
        "df.text = df.text.apply(lambda t: ' '.join([words for words in t.split() if words not in stopwords]) )"
      ],
      "execution_count": 21,
      "outputs": []
    },
    {
      "cell_type": "code",
      "metadata": {
        "colab": {
          "base_uri": "https://localhost:8080/",
          "height": 205
        },
        "id": "AOMK3aklixXR",
        "outputId": "9478e81a-1a61-48c8-cf41-9a77cdc10b0e"
      },
      "source": [
        "df.head()"
      ],
      "execution_count": 22,
      "outputs": [
        {
          "output_type": "execute_result",
          "data": {
            "text/html": [
              "<div>\n",
              "<style scoped>\n",
              "    .dataframe tbody tr th:only-of-type {\n",
              "        vertical-align: middle;\n",
              "    }\n",
              "\n",
              "    .dataframe tbody tr th {\n",
              "        vertical-align: top;\n",
              "    }\n",
              "\n",
              "    .dataframe thead th {\n",
              "        text-align: right;\n",
              "    }\n",
              "</style>\n",
              "<table border=\"1\" class=\"dataframe\">\n",
              "  <thead>\n",
              "    <tr style=\"text-align: right;\">\n",
              "      <th></th>\n",
              "      <th>id</th>\n",
              "      <th>gender</th>\n",
              "      <th>age</th>\n",
              "      <th>topic</th>\n",
              "      <th>sign</th>\n",
              "      <th>date</th>\n",
              "      <th>text</th>\n",
              "    </tr>\n",
              "  </thead>\n",
              "  <tbody>\n",
              "    <tr>\n",
              "      <th>284493</th>\n",
              "      <td>692449</td>\n",
              "      <td>male</td>\n",
              "      <td>24</td>\n",
              "      <td>Technology</td>\n",
              "      <td>Scorpio</td>\n",
              "      <td>01,August,2004</td>\n",
              "      <td>san francisco bay area political prisoner urll...</td>\n",
              "    </tr>\n",
              "    <tr>\n",
              "      <th>208689</th>\n",
              "      <td>3389978</td>\n",
              "      <td>male</td>\n",
              "      <td>23</td>\n",
              "      <td>Engineering</td>\n",
              "      <td>Libra</td>\n",
              "      <td>24,May,2004</td>\n",
              "      <td>ready changes life know god change mold let go...</td>\n",
              "    </tr>\n",
              "    <tr>\n",
              "      <th>1957</th>\n",
              "      <td>589736</td>\n",
              "      <td>male</td>\n",
              "      <td>35</td>\n",
              "      <td>Technology</td>\n",
              "      <td>Aries</td>\n",
              "      <td>05,August,2004</td>\n",
              "      <td>new stateofthearf shelter makes proud richmond...</td>\n",
              "    </tr>\n",
              "    <tr>\n",
              "      <th>39661</th>\n",
              "      <td>580228</td>\n",
              "      <td>male</td>\n",
              "      <td>17</td>\n",
              "      <td>Communications-Media</td>\n",
              "      <td>Libra</td>\n",
              "      <td>20,April,2004</td>\n",
              "      <td>kick scream gucci little piggy radioheadparano...</td>\n",
              "    </tr>\n",
              "    <tr>\n",
              "      <th>84073</th>\n",
              "      <td>3306739</td>\n",
              "      <td>male</td>\n",
              "      <td>41</td>\n",
              "      <td>indUnk</td>\n",
              "      <td>Gemini</td>\n",
              "      <td>27,July,2004</td>\n",
              "      <td>closer 5 years old 4nbspshe partnbspget dresse...</td>\n",
              "    </tr>\n",
              "  </tbody>\n",
              "</table>\n",
              "</div>"
            ],
            "text/plain": [
              "             id  ...                                               text\n",
              "284493   692449  ...  san francisco bay area political prisoner urll...\n",
              "208689  3389978  ...  ready changes life know god change mold let go...\n",
              "1957     589736  ...  new stateofthearf shelter makes proud richmond...\n",
              "39661    580228  ...  kick scream gucci little piggy radioheadparano...\n",
              "84073   3306739  ...  closer 5 years old 4nbspshe partnbspget dresse...\n",
              "\n",
              "[5 rows x 7 columns]"
            ]
          },
          "metadata": {
            "tags": []
          },
          "execution_count": 22
        }
      ]
    },
    {
      "cell_type": "markdown",
      "metadata": {
        "id": "oCGYkKv6EQGM"
      },
      "source": [
        "**Drop id and date columns**"
      ]
    },
    {
      "cell_type": "code",
      "metadata": {
        "id": "V_B_txTIi7SI"
      },
      "source": [
        "df.drop(labels=['id','date'], axis=1, inplace = True)"
      ],
      "execution_count": 23,
      "outputs": []
    },
    {
      "cell_type": "markdown",
      "metadata": {
        "id": "hzPcpWZY3Xh-"
      },
      "source": [
        "As we want to make this into a multi-label classification problem, you are required to merge all the label columns together, so that we have all the labels together for a particular sentence"
      ]
    },
    {
      "cell_type": "code",
      "metadata": {
        "id": "6QH8_-6N3P8O"
      },
      "source": [
        "df['labels'] = df.apply(lambda col : [col['gender'],col['age'],col['topic'],col['sign']], axis=1)"
      ],
      "execution_count": 24,
      "outputs": []
    },
    {
      "cell_type": "code",
      "metadata": {
        "id": "RdQ2kbsG3rA7",
        "outputId": "c94b4920-0684-43a1-ddac-7867475f6f7f",
        "colab": {
          "base_uri": "https://localhost:8080/",
          "height": 205
        }
      },
      "source": [
        "df.head()\n"
      ],
      "execution_count": 25,
      "outputs": [
        {
          "output_type": "execute_result",
          "data": {
            "text/html": [
              "<div>\n",
              "<style scoped>\n",
              "    .dataframe tbody tr th:only-of-type {\n",
              "        vertical-align: middle;\n",
              "    }\n",
              "\n",
              "    .dataframe tbody tr th {\n",
              "        vertical-align: top;\n",
              "    }\n",
              "\n",
              "    .dataframe thead th {\n",
              "        text-align: right;\n",
              "    }\n",
              "</style>\n",
              "<table border=\"1\" class=\"dataframe\">\n",
              "  <thead>\n",
              "    <tr style=\"text-align: right;\">\n",
              "      <th></th>\n",
              "      <th>gender</th>\n",
              "      <th>age</th>\n",
              "      <th>topic</th>\n",
              "      <th>sign</th>\n",
              "      <th>text</th>\n",
              "      <th>labels</th>\n",
              "    </tr>\n",
              "  </thead>\n",
              "  <tbody>\n",
              "    <tr>\n",
              "      <th>284493</th>\n",
              "      <td>male</td>\n",
              "      <td>24</td>\n",
              "      <td>Technology</td>\n",
              "      <td>Scorpio</td>\n",
              "      <td>san francisco bay area political prisoner urll...</td>\n",
              "      <td>[male, 24, Technology, Scorpio]</td>\n",
              "    </tr>\n",
              "    <tr>\n",
              "      <th>208689</th>\n",
              "      <td>male</td>\n",
              "      <td>23</td>\n",
              "      <td>Engineering</td>\n",
              "      <td>Libra</td>\n",
              "      <td>ready changes life know god change mold let go...</td>\n",
              "      <td>[male, 23, Engineering, Libra]</td>\n",
              "    </tr>\n",
              "    <tr>\n",
              "      <th>1957</th>\n",
              "      <td>male</td>\n",
              "      <td>35</td>\n",
              "      <td>Technology</td>\n",
              "      <td>Aries</td>\n",
              "      <td>new stateofthearf shelter makes proud richmond...</td>\n",
              "      <td>[male, 35, Technology, Aries]</td>\n",
              "    </tr>\n",
              "    <tr>\n",
              "      <th>39661</th>\n",
              "      <td>male</td>\n",
              "      <td>17</td>\n",
              "      <td>Communications-Media</td>\n",
              "      <td>Libra</td>\n",
              "      <td>kick scream gucci little piggy radioheadparano...</td>\n",
              "      <td>[male, 17, Communications-Media, Libra]</td>\n",
              "    </tr>\n",
              "    <tr>\n",
              "      <th>84073</th>\n",
              "      <td>male</td>\n",
              "      <td>41</td>\n",
              "      <td>indUnk</td>\n",
              "      <td>Gemini</td>\n",
              "      <td>closer 5 years old 4nbspshe partnbspget dresse...</td>\n",
              "      <td>[male, 41, indUnk, Gemini]</td>\n",
              "    </tr>\n",
              "  </tbody>\n",
              "</table>\n",
              "</div>"
            ],
            "text/plain": [
              "       gender  ...                                   labels\n",
              "284493   male  ...          [male, 24, Technology, Scorpio]\n",
              "208689   male  ...           [male, 23, Engineering, Libra]\n",
              "1957     male  ...            [male, 35, Technology, Aries]\n",
              "39661    male  ...  [male, 17, Communications-Media, Libra]\n",
              "84073    male  ...               [male, 41, indUnk, Gemini]\n",
              "\n",
              "[5 rows x 6 columns]"
            ]
          },
          "metadata": {
            "tags": []
          },
          "execution_count": 25
        }
      ]
    },
    {
      "cell_type": "code",
      "metadata": {
        "id": "SIfaFIbs3-I3"
      },
      "source": [
        "df.drop(columns=['gender','age','topic','sign'], axis=1, inplace=True)"
      ],
      "execution_count": 26,
      "outputs": []
    },
    {
      "cell_type": "code",
      "metadata": {
        "id": "h3sI6W7k4FL2",
        "outputId": "a4f324f0-3a44-48a0-e51a-480b0d00b97e",
        "colab": {
          "base_uri": "https://localhost:8080/",
          "height": 205
        }
      },
      "source": [
        "df.head()"
      ],
      "execution_count": 27,
      "outputs": [
        {
          "output_type": "execute_result",
          "data": {
            "text/html": [
              "<div>\n",
              "<style scoped>\n",
              "    .dataframe tbody tr th:only-of-type {\n",
              "        vertical-align: middle;\n",
              "    }\n",
              "\n",
              "    .dataframe tbody tr th {\n",
              "        vertical-align: top;\n",
              "    }\n",
              "\n",
              "    .dataframe thead th {\n",
              "        text-align: right;\n",
              "    }\n",
              "</style>\n",
              "<table border=\"1\" class=\"dataframe\">\n",
              "  <thead>\n",
              "    <tr style=\"text-align: right;\">\n",
              "      <th></th>\n",
              "      <th>text</th>\n",
              "      <th>labels</th>\n",
              "    </tr>\n",
              "  </thead>\n",
              "  <tbody>\n",
              "    <tr>\n",
              "      <th>284493</th>\n",
              "      <td>san francisco bay area political prisoner urll...</td>\n",
              "      <td>[male, 24, Technology, Scorpio]</td>\n",
              "    </tr>\n",
              "    <tr>\n",
              "      <th>208689</th>\n",
              "      <td>ready changes life know god change mold let go...</td>\n",
              "      <td>[male, 23, Engineering, Libra]</td>\n",
              "    </tr>\n",
              "    <tr>\n",
              "      <th>1957</th>\n",
              "      <td>new stateofthearf shelter makes proud richmond...</td>\n",
              "      <td>[male, 35, Technology, Aries]</td>\n",
              "    </tr>\n",
              "    <tr>\n",
              "      <th>39661</th>\n",
              "      <td>kick scream gucci little piggy radioheadparano...</td>\n",
              "      <td>[male, 17, Communications-Media, Libra]</td>\n",
              "    </tr>\n",
              "    <tr>\n",
              "      <th>84073</th>\n",
              "      <td>closer 5 years old 4nbspshe partnbspget dresse...</td>\n",
              "      <td>[male, 41, indUnk, Gemini]</td>\n",
              "    </tr>\n",
              "  </tbody>\n",
              "</table>\n",
              "</div>"
            ],
            "text/plain": [
              "                                                     text                                   labels\n",
              "284493  san francisco bay area political prisoner urll...          [male, 24, Technology, Scorpio]\n",
              "208689  ready changes life know god change mold let go...           [male, 23, Engineering, Libra]\n",
              "1957    new stateofthearf shelter makes proud richmond...            [male, 35, Technology, Aries]\n",
              "39661   kick scream gucci little piggy radioheadparano...  [male, 17, Communications-Media, Libra]\n",
              "84073   closer 5 years old 4nbspshe partnbspget dresse...               [male, 41, indUnk, Gemini]"
            ]
          },
          "metadata": {
            "tags": []
          },
          "execution_count": 27
        }
      ]
    },
    {
      "cell_type": "code",
      "metadata": {
        "id": "QZ6rDesY4KMc"
      },
      "source": [
        "import copy\n",
        "X= df.text.copy(deep = True)\n",
        "y = df.labels.copy(deep=True)"
      ],
      "execution_count": 28,
      "outputs": []
    },
    {
      "cell_type": "code",
      "metadata": {
        "id": "6oFVDXpd4emf"
      },
      "source": [
        "X_train, X_test, y_train, y_test = train_test_split(X,y, random_state=2,test_size = 0.2)"
      ],
      "execution_count": 29,
      "outputs": []
    },
    {
      "cell_type": "code",
      "metadata": {
        "id": "Gwf-NI5l4kTx",
        "outputId": "0a9c6c30-d447-4a4d-ce9c-df7ec25d50a7",
        "colab": {
          "base_uri": "https://localhost:8080/"
        }
      },
      "source": [
        "print(X_train.shape), print(y_train.shape)\n",
        "print(X_test.shape), print(y_test.shape)"
      ],
      "execution_count": 30,
      "outputs": [
        {
          "output_type": "stream",
          "text": [
            "(80000,)\n",
            "(80000,)\n",
            "(20000,)\n",
            "(20000,)\n"
          ],
          "name": "stdout"
        },
        {
          "output_type": "execute_result",
          "data": {
            "text/plain": [
              "(None, None)"
            ]
          },
          "metadata": {
            "tags": []
          },
          "execution_count": 30
        }
      ]
    },
    {
      "cell_type": "code",
      "metadata": {
        "id": "WDZMtnm645Ol",
        "outputId": "d5e2c244-1ab1-4c10-da24-5cefcc029fa0",
        "colab": {
          "base_uri": "https://localhost:8080/"
        }
      },
      "source": [
        "X_test.head()"
      ],
      "execution_count": 31,
      "outputs": [
        {
          "output_type": "execute_result",
          "data": {
            "text/plain": [
              "680349    soundtrack drewies accordes anonymous elizabet...\n",
              "429828    due schedule conflict paul dennis wound going ...\n",
              "254666    recent golive serenity urllink website reminde...\n",
              "633134                                 urllink safety first\n",
              "213936    hurrah received aor today brilliant expecting ...\n",
              "Name: text, dtype: object"
            ]
          },
          "metadata": {
            "tags": []
          },
          "execution_count": 31
        }
      ]
    },
    {
      "cell_type": "markdown",
      "metadata": {
        "id": "HQAQLbYq5Lhn"
      },
      "source": [
        "**Vectorize the features**  \n",
        "a. Create a Bag of Words using count vectorizer\n",
        "\n",
        "i. Use ngram_range=(1, 2)\n",
        "\n",
        "ii. Vectorize training and testing features\n",
        "\n",
        "b. Print the term-document matrix"
      ]
    },
    {
      "cell_type": "code",
      "metadata": {
        "id": "4TEHChyt5FD5"
      },
      "source": [
        "cvect = CountVectorizer(ngram_range=(1,2))"
      ],
      "execution_count": 32,
      "outputs": []
    },
    {
      "cell_type": "code",
      "metadata": {
        "id": "8pmXZs0y5V_n",
        "outputId": "1a49b8c4-96e2-4e4d-9d1f-e08900aa408b",
        "colab": {
          "base_uri": "https://localhost:8080/"
        }
      },
      "source": [
        "cvect.fit(X_train)\n",
        "\n",
        "#Check the vocablury size\n",
        "\n",
        "len(cvect.vocabulary_)"
      ],
      "execution_count": 32,
      "outputs": [
        {
          "output_type": "execute_result",
          "data": {
            "text/plain": [
              "21008840"
            ]
          },
          "metadata": {
            "tags": []
          },
          "execution_count": 32
        }
      ]
    },
    {
      "cell_type": "code",
      "metadata": {
        "id": "hJXPRiGh5eEH",
        "outputId": "37cb97e4-b0c4-48c6-ae43-e8296a83243d",
        "colab": {
          "base_uri": "https://localhost:8080/"
        }
      },
      "source": [
        "cvect.get_feature_names()"
      ],
      "execution_count": 42,
      "outputs": [
        {
          "output_type": "execute_result",
          "data": {
            "text/plain": [
              "['00',\n",
              " '00 00',\n",
              " '00 000',\n",
              " '00 001111',\n",
              " '00 00k',\n",
              " '00 01',\n",
              " '00 02',\n",
              " '00 023',\n",
              " '00 04',\n",
              " '00 0b',\n",
              " '00 10',\n",
              " '00 11',\n",
              " '00 1992',\n",
              " '00 20',\n",
              " '00 2b10',\n",
              " '00 41',\n",
              " '00 45',\n",
              " '00 46',\n",
              " '00 48',\n",
              " '00 77',\n",
              " '00 7f',\n",
              " '00 84',\n",
              " '00 88v',\n",
              " '00 a0',\n",
              " '00 also',\n",
              " '00 armor',\n",
              " '00 back',\n",
              " '00 bayern',\n",
              " '00 became',\n",
              " '00 c0',\n",
              " '00 case',\n",
              " '00 categories',\n",
              " '00 chance',\n",
              " '00 college',\n",
              " '00 commonality',\n",
              " '00 congratulations',\n",
              " '00 conservatives',\n",
              " '00 create',\n",
              " '00 credits',\n",
              " '00 croatia',\n",
              " '00 crowd',\n",
              " '00 crushed',\n",
              " '00 culture',\n",
              " '00 d0',\n",
              " '00 dad',\n",
              " '00 damarcus',\n",
              " '00 date',\n",
              " '00 den',\n",
              " '00 denmark',\n",
              " '00 dodge',\n",
              " '00 doesnt',\n",
              " '00 dont',\n",
              " '00 draw',\n",
              " '00 duke',\n",
              " '00 everton',\n",
              " '00 extra',\n",
              " '00 face',\n",
              " '00 faerieblue',\n",
              " '00 far',\n",
              " '00 fax',\n",
              " '00 fleming',\n",
              " '00 floor',\n",
              " '00 flowto_serverestablishedclasstypeattemptedadmin',\n",
              " '00 following',\n",
              " '00 ford',\n",
              " '00 freezing',\n",
              " '00 game',\n",
              " '00 games',\n",
              " '00 germany',\n",
              " '00 good',\n",
              " '00 greece',\n",
              " '00 green',\n",
              " '00 hahaztml',\n",
              " '00 halftime',\n",
              " '00 headed',\n",
              " '00 hell',\n",
              " '00 hmmi',\n",
              " '00 holland',\n",
              " '00 horny',\n",
              " '00 hours',\n",
              " '00 hyped',\n",
              " '00 innings',\n",
              " '00 key',\n",
              " '00 know',\n",
              " '00 laughed',\n",
              " '00 less',\n",
              " '00 likely',\n",
              " '00 lil',\n",
              " '00 lon9',\n",
              " '00 lost',\n",
              " '00 map',\n",
              " '00 mark',\n",
              " '00 match',\n",
              " '00 met',\n",
              " '00 meters',\n",
              " '00 michael',\n",
              " '00 minutes',\n",
              " '00 mom',\n",
              " '00 muhahahaha',\n",
              " '00 nbspnbspu',\n",
              " '00 new',\n",
              " '00 number',\n",
              " '00 oh',\n",
              " '00 one',\n",
              " '00 oran',\n",
              " '00 peace',\n",
              " '00 penalties',\n",
              " '00 people',\n",
              " '00 pissed',\n",
              " '00 pitch',\n",
              " '00 pm',\n",
              " '00 porta',\n",
              " '00 power',\n",
              " '00 rating',\n",
              " '00 real',\n",
              " '00 really',\n",
              " '00 records',\n",
              " '00 refused',\n",
              " '00 sad',\n",
              " '00 say',\n",
              " '00 second',\n",
              " '00 seconds',\n",
              " '00 shaketha3shivers',\n",
              " '00 siam',\n",
              " '00 sigh',\n",
              " '00 silver',\n",
              " '00 since',\n",
              " '00 sitting',\n",
              " '00 sixth',\n",
              " '00 someone',\n",
              " '00 sometimes',\n",
              " '00 sooo',\n",
              " '00 soooooo',\n",
              " '00 sq',\n",
              " '00 steph',\n",
              " '00 sun',\n",
              " '00 sweden',\n",
              " '00 switzerland',\n",
              " '00 tcr1',\n",
              " '00 tenth',\n",
              " '00 texashtgametable',\n",
              " '00 theres',\n",
              " '00 third',\n",
              " '00 tie',\n",
              " '00 time',\n",
              " '00 times',\n",
              " '00 tired',\n",
              " '00 titled',\n",
              " '00 type',\n",
              " '00 ugesa',\n",
              " '00 uppercase_75_100',\n",
              " '00 wami',\n",
              " '00 well',\n",
              " '00 went',\n",
              " '00 werent',\n",
              " '00 whatever',\n",
              " '00 wont',\n",
              " '00 wouldnt',\n",
              " '00 write',\n",
              " '00 yr',\n",
              " '00 同时指定几个范围',\n",
              " '000',\n",
              " '000 00',\n",
              " '000 000',\n",
              " '000 001',\n",
              " '000 0100',\n",
              " '000 023',\n",
              " '000 027',\n",
              " '000 10am',\n",
              " '000 11',\n",
              " '000 1996',\n",
              " '000 30',\n",
              " '000 50',\n",
              " '000 60',\n",
              " '000 abortions',\n",
              " '000 according',\n",
              " '000 active',\n",
              " '000 address',\n",
              " '000 aika',\n",
              " '000 already',\n",
              " '000 anbspweek',\n",
              " '000 announced',\n",
              " '000 annual',\n",
              " '000 ants',\n",
              " '000 apply',\n",
              " '000 attend',\n",
              " '000 available',\n",
              " '000 barbarella',\n",
              " '000 bc',\n",
              " '000 best',\n",
              " '000 bipolar',\n",
              " '000 bug',\n",
              " '000 buy',\n",
              " '000 calories',\n",
              " '000 came',\n",
              " '000 cannons',\n",
              " '000 categories',\n",
              " '000 cheaper',\n",
              " '000 cheers',\n",
              " '000 chunk',\n",
              " '000 civil',\n",
              " '000 compares',\n",
              " '000 computer',\n",
              " '000 conversion',\n",
              " '000 copies',\n",
              " '000 could',\n",
              " '000 crore',\n",
              " '000 day',\n",
              " '000 dead',\n",
              " '000 debt',\n",
              " '000 deg',\n",
              " '000 dollar',\n",
              " '000 dollars',\n",
              " '000 dong',\n",
              " '000 dont',\n",
              " '000 duration',\n",
              " '000 electron',\n",
              " '000 end',\n",
              " '000 era',\n",
              " '000 estimate',\n",
              " '000 etc',\n",
              " '000 euro',\n",
              " '000 excited',\n",
              " '000 feel',\n",
              " '000 feet',\n",
              " '000 festival',\n",
              " '000 fine',\n",
              " '000 fire',\n",
              " '000 first',\n",
              " '000 fold',\n",
              " '000 forces',\n",
              " '000 ft',\n",
              " '000 fulltime',\n",
              " '000 get',\n",
              " '000 gimme',\n",
              " '000 good',\n",
              " '000 grand',\n",
              " '000 heh',\n",
              " '000 hits',\n",
              " '000 hopefully',\n",
              " '000 huling',\n",
              " '000 hurriedly',\n",
              " '000 hyde',\n",
              " '000 ibos',\n",
              " '000 ie',\n",
              " '000 im',\n",
              " '000 imams',\n",
              " '000 inches',\n",
              " '000 including',\n",
              " '000 internally',\n",
              " '000 investment',\n",
              " '000 iraqi',\n",
              " '000 iraqis',\n",
              " '000 jobs',\n",
              " '000 keep',\n",
              " '000 kitchen',\n",
              " '000 km',\n",
              " '000 know',\n",
              " '000 last',\n",
              " '000 lbs',\n",
              " '000 leaving',\n",
              " '000 letters',\n",
              " '000 looking',\n",
              " '000 makes',\n",
              " '000 managed',\n",
              " '000 maniacs',\n",
              " '000 mark',\n",
              " '000 math10108',\n",
              " '000 maxaperturevalue',\n",
              " '000 may',\n",
              " '000 meant',\n",
              " '000 medical',\n",
              " '000 might',\n",
              " '000 military',\n",
              " '000 milton',\n",
              " '000 moi',\n",
              " '000 month',\n",
              " '000 months',\n",
              " '000 motherfuckers',\n",
              " '000 nanaman',\n",
              " '000 newborns',\n",
              " '000 next',\n",
              " '000 normal',\n",
              " '000 nothing',\n",
              " '000 odd',\n",
              " '000 pages',\n",
              " '000 part',\n",
              " '000 peeps',\n",
              " '000 people',\n",
              " '000 peoplenah',\n",
              " '000 per',\n",
              " '000 personnel',\n",
              " '000 petition',\n",
              " '000 players',\n",
              " '000 please',\n",
              " '000 plus',\n",
              " '000 points',\n",
              " '000 pound',\n",
              " '000 pounds',\n",
              " '000 power',\n",
              " '000 probably',\n",
              " '000 promised',\n",
              " '000 psychology',\n",
              " '000 question',\n",
              " '000 raise',\n",
              " '000 rawr',\n",
              " '000 really',\n",
              " '000 redundancies',\n",
              " '000 refugee',\n",
              " '000 riding',\n",
              " '000 ringgit',\n",
              " '000 rubber',\n",
              " '000 rupees',\n",
              " '000 said',\n",
              " '000 seats',\n",
              " '000 sec',\n",
              " '000 second',\n",
              " '000 security',\n",
              " '000 seems',\n",
              " '000 shipping',\n",
              " '000 situps',\n",
              " '000 somalis',\n",
              " '000 someone',\n",
              " '000 something',\n",
              " '000 songs',\n",
              " '000 spots',\n",
              " '000 square',\n",
              " '000 still',\n",
              " '000 straight',\n",
              " '000 student',\n",
              " '000 subject',\n",
              " '000 taxes',\n",
              " '000 thats',\n",
              " '000 things',\n",
              " '000 thinkers',\n",
              " '000 third',\n",
              " '000 times',\n",
              " '000 tip',\n",
              " '000 took',\n",
              " '000 total',\n",
              " '000 trip',\n",
              " '000 trying',\n",
              " '000 two',\n",
              " '000 understand',\n",
              " '000 unique',\n",
              " '000 urgently',\n",
              " '000 users',\n",
              " '000 usps',\n",
              " '000 varios',\n",
              " '000 viewers',\n",
              " '000 visit',\n",
              " '000 visitor',\n",
              " '000 visitors',\n",
              " '000 walk',\n",
              " '000 waterfront',\n",
              " '000 weeds',\n",
              " '000 word',\n",
              " '000 words',\n",
              " '000 working',\n",
              " '000 worth',\n",
              " '000 write',\n",
              " '000 year',\n",
              " '000 years',\n",
              " '000 yen',\n",
              " '000 zero',\n",
              " '0000',\n",
              " '0000 0605',\n",
              " '0000 1000',\n",
              " '0000 3847',\n",
              " '0000 animals',\n",
              " '0000 appeared',\n",
              " '0000 arent',\n",
              " '0000 dege59',\n",
              " '0000 eooh',\n",
              " '0000 est',\n",
              " '0000 every',\n",
              " '0000 fools',\n",
              " '0000 gt',\n",
              " '0000 heard',\n",
              " '0000 hopefully',\n",
              " '0000 hrs',\n",
              " '0000 ignore',\n",
              " '0000 interesting',\n",
              " '0000 josephson',\n",
              " '0000 lbonaffiniworldnetattnet',\n",
              " '0000 mask',\n",
              " '0000 mirage',\n",
              " '0000 new',\n",
              " '0000 next',\n",
              " '0000 oclockand',\n",
              " '0000 okay',\n",
              " '0000 pay',\n",
              " '0000 percentage',\n",
              " '0000 showed',\n",
              " '0000 still',\n",
              " '0000 tomdee59',\n",
              " '0000 tragedy',\n",
              " '0000 well',\n",
              " '0000 wont',\n",
              " '00000',\n",
              " '00000 00',\n",
              " '00000 forged',\n",
              " '00000 googling',\n",
              " '000000',\n",
              " '000000 0000000',\n",
              " '000000 001500',\n",
              " '000000 1337',\n",
              " '000000 backgroundrepeat',\n",
              " '000000 colour',\n",
              " '000000 even',\n",
              " '000000 flickrframe',\n",
              " '000000 fontfamily',\n",
              " '000000 fontsize',\n",
              " '000000 margin2px',\n",
              " '000000 scrollbarhighlightcolor',\n",
              " '000000 urllink',\n",
              " '000000 zero',\n",
              " '0000000',\n",
              " '0000000 0000000',\n",
              " '00000000',\n",
              " '00000000 eight',\n",
              " '00000000 kept',\n",
              " '000000000',\n",
              " '000000000 write',\n",
              " '0000000000',\n",
              " '0000000000 final',\n",
              " '0000000000 项就以没为',\n",
              " '00000000000',\n",
              " '00000000000 write',\n",
              " '000000000000000',\n",
              " '000000000000000 police',\n",
              " '000000000000000000000',\n",
              " '000000000000000000000000',\n",
              " '000000000000000000000000 469',\n",
              " '000000000000000000000000000000000000000000000000000000',\n",
              " '000000000000000000000000000000000000000000000000000000 000000000000000000000000000000000000000000000000000000',\n",
              " '000000000000000000000000000000000000000000000000000000 000000000000000000000011111one11',\n",
              " '00000000000000000000000000000000000000000000as',\n",
              " '00000000000000000000000000000000000000000000as youve',\n",
              " '0000000000000000000000000000000001',\n",
              " '0000000000000000000000000000000001 seconds',\n",
              " '000000000000000000000000167',\n",
              " '000000000000000000000000167 grams',\n",
              " '000000000000000000000011111one11',\n",
              " '000000000000000000000011111one11 gots',\n",
              " '000000000000000000000section',\n",
              " '000000000000000000000section c09er',\n",
              " '000000000000000001',\n",
              " '000000000000000001 decibels',\n",
              " '000000000000000001 eventually',\n",
              " '0000000000000000add',\n",
              " '0000000000000000add zeroes1',\n",
              " '0000000000000001',\n",
              " '0000000000000001 people',\n",
              " '0000000000000001000000001110000000000111000000000000011',\n",
              " '0000000000000001000000001110000000000111000000000000011 0101010000000000100000000001110000000000101100000000010',\n",
              " '0000000000000003',\n",
              " '0000000000000003 less',\n",
              " '0000000000001',\n",
              " '0000000000001 mm',\n",
              " '0000000000008988',\n",
              " '0000000000008988 etc',\n",
              " '000000000002',\n",
              " '000000000002 grams',\n",
              " '00000000001',\n",
              " '00000000001 chance',\n",
              " '00000000001 something',\n",
              " '000000001',\n",
              " '000000001 population',\n",
              " '000000001 second',\n",
              " '00000000345',\n",
              " '00000000345 secs',\n",
              " '0000000101010010111000000000000000000000110000000010000',\n",
              " '0000000101010010111000000000000000000000110000000010000 1100000000000101110000000010111100000000110111100000001',\n",
              " '00000003',\n",
              " '00000003 cents',\n",
              " '00000004',\n",
              " '00000004 percent',\n",
              " '0000001',\n",
              " '0000001 cm',\n",
              " '0000001 indians',\n",
              " '0000001 zbaras',\n",
              " '0000001000000001000001000000000100000100000000000001000',\n",
              " '0000001000000001000001000000000100000100000000000001000 0000001000011010010101010100101010100000001010100101000',\n",
              " '0000001000011010010101010100101010100000001010100101000',\n",
              " '0000001000011010010101010100101010100000001010100101000 1001010010010010000010100010100101010010100101010010101',\n",
              " '000000flickrframe',\n",
              " '000000flickrframe float',\n",
              " '000000flickryourcomment',\n",
              " '000000flickryourcomment flickrframe',\n",
              " '000000this',\n",
              " '000000this certifies',\n",
              " '000000½',\n",
              " '000000½ 0000000',\n",
              " '000001',\n",
              " '000001 maybe',\n",
              " '000001 sec',\n",
              " '000001 waste',\n",
              " '0000010000010000000000100000000000000000000100000000100',\n",
              " '0000010000010000000000100000000000000000000100000000100 0000001000000001000001000000000100000100000000000001000',\n",
              " '0000011000100110100101101110011000010111001001111001',\n",
              " '0000011000100110100101101110011000010111001001111001 0011111100100000011000110110111101101101011011010110',\n",
              " '0000011110100110111101101111000011010000101001000101011101100110010',\n",
              " '0000011110100110111101101111000011010000101001000101011101100110010 1011100100111100100100000011001000110000101111001001000000111100101',\n",
              " '00000188',\n",
              " '00000188 nbspnbspnbspnbspnbspnbspnbspnbspnbspnbsp',\n",
              " '000004',\n",
              " '000004 seconds',\n",
              " '00000400',\n",
              " '00000400 12001600',\n",
              " '00000648',\n",
              " '00000648 mass',\n",
              " '00000800',\n",
              " '00000800 thats',\n",
              " '00000s',\n",
              " '00000s im',\n",
              " '00000½',\n",
              " '00000½ 0000000',\n",
              " '00001',\n",
              " '00001 cents',\n",
              " '00001 cuz',\n",
              " '00001 kilowatt',\n",
              " '00001 zthe',\n",
              " '0000100000101000101001000101001000000000010000001000010',\n",
              " '0000100000101000101001000101001000000000010000001000010 1010000100000000000000000000000000000100000000000000000',\n",
              " '0000100111011100110010000001100001011011000110110000100000011101010',\n",
              " '0000100111011100110010000001100001011011000110110000100000011101010 1110000001000000111010001101111001000000111100101101111011101010000',\n",
              " '00001010',\n",
              " '00001010 00001101',\n",
              " '00001010 01000001',\n",
              " '00001101',\n",
              " '00001101 00001010',\n",
              " '00001102',\n",
              " '00001102 boron13003007',\n",
              " '0000111000000000000000001010101010000000000000001010001',\n",
              " '0000111000000000000000001010101010000000000000001010001 0000100000101000101001000101001000000000010000001000010',\n",
              " '00003',\n",
              " '00003 personality',\n",
              " '000032',\n",
              " '000032 afootertitlelink',\n",
              " '000032 fontfamily',\n",
              " '000032 textdecoration',\n",
              " '0000352',\n",
              " '0000352 second',\n",
              " '000037',\n",
              " '000037 pocahontas',\n",
              " '000043',\n",
              " '000043 point',\n",
              " '00005',\n",
              " '00005 air',\n",
              " '00005 fortune',\n",
              " '00005 last',\n",
              " '00005 secs',\n",
              " '000050',\n",
              " '000050 sys5restart',\n",
              " '00006',\n",
              " '00006 world',\n",
              " '000066',\n",
              " '000066 one',\n",
              " '000066 urllink',\n",
              " '000080',\n",
              " '000080 marginleft',\n",
              " '0000968',\n",
              " '0000968 second',\n",
              " '0000cd',\n",
              " '0000cd blue',\n",
              " '0000ff',\n",
              " '0000ff click',\n",
              " '0000ff fontsize',\n",
              " '0000h',\n",
              " '0000h 2cd',\n",
              " '0000h one',\n",
              " '0000h solely',\n",
              " '0000hr',\n",
              " '0000hr like',\n",
              " '0000nbsp1000',\n",
              " '0000nbsp1000 namemeaning',\n",
              " '0000s',\n",
              " '0000s 00214',\n",
              " '0001',\n",
              " '0001 30day',\n",
              " '0001 8203',\n",
              " '0001 cant',\n",
              " '0001 chances',\n",
              " '0001 existing',\n",
              " '0001 hours',\n",
              " '0001 miles',\n",
              " '0001 model',\n",
              " '0001 nice',\n",
              " '0001 percent',\n",
              " '0001 sec',\n",
              " '0001 to100000',\n",
              " '0001 year',\n",
              " '0001 yes',\n",
              " '000100',\n",
              " '000100 jsl27chicago',\n",
              " '0001000000110001001100101001000000110001001100101011101000111010001',\n",
              " '0001000000110001001100101001000000110001001100101011101000111010001 1001010111001000100000011101000110100001100001011011100010000001111',\n",
              " '000101',\n",
              " '000101 0800',\n",
              " '000102',\n",
              " '000102 total',\n",
              " '00011000101',\n",
              " '00011000101 benji',\n",
              " '000124',\n",
              " '000124 lineproto5updown',\n",
              " '00013',\n",
              " '00013 nbsp',\n",
              " '000132',\n",
              " '000132 astronomical',\n",
              " '0001488',\n",
              " '0001488 foot',\n",
              " '00015',\n",
              " '00015 better',\n",
              " '000154',\n",
              " '000154 sys5config_i',\n",
              " '00017',\n",
              " '00017 seconds',\n",
              " '00017hz',\n",
              " '00017hz 10',\n",
              " '00017hz would',\n",
              " '0002',\n",
              " '0002 cases',\n",
              " '0002 cents',\n",
              " '0002 close',\n",
              " '0002 gg',\n",
              " '0002 inches',\n",
              " '0002 way',\n",
              " '000214',\n",
              " '000214 link3updown',\n",
              " '000215',\n",
              " '000215 lineproto5updown',\n",
              " '00025',\n",
              " '000254',\n",
              " '000254 seconds',\n",
              " '000254 take',\n",
              " '000264',\n",
              " '000264 31058',\n",
              " '0002hrs',\n",
              " '0002hrs last',\n",
              " '00030hrs',\n",
              " '00030hrs say',\n",
              " '000320',\n",
              " '000320 sys5config_i',\n",
              " '000342',\n",
              " '000342 better',\n",
              " '0003472',\n",
              " '0003472 yer',\n",
              " '0004',\n",
              " '0004 logging',\n",
              " '0004 men',\n",
              " '0004 zz',\n",
              " '00040',\n",
              " '00040 ariccia',\n",
              " '0005',\n",
              " '0005 among',\n",
              " '0005 arrived',\n",
              " '0005 mango',\n",
              " '0005 phoenix',\n",
              " '0005 saturday',\n",
              " '0005 trying',\n",
              " '000507',\n",
              " '000507 2004',\n",
              " '0005kmhr',\n",
              " '0005kmhr hence',\n",
              " '0006',\n",
              " '0006 average',\n",
              " '0006 bun',\n",
              " '000604',\n",
              " '000604 boyfriend',\n",
              " '000604 get',\n",
              " '000689476',\n",
              " '000689476 inch',\n",
              " '0006999955555558006922269800999699c68787cccbc878787777777778c8787ccb8cba911111111944445a1115',\n",
              " '0006999955555558006922269800999699c68787cccbc878787777777778c8787ccb8cba911111111944445a1115 song',\n",
              " '0007',\n",
              " '0007 8aug04',\n",
              " '000700',\n",
              " '000700 ibm',\n",
              " '0007154038',\n",
              " '0007154038 urllink',\n",
              " '0008',\n",
              " '0008 gg',\n",
              " '0008 okay',\n",
              " '0008 sec',\n",
              " '0008 ten',\n",
              " '000830',\n",
              " '000830 2004',\n",
              " '0009',\n",
              " '0009 men',\n",
              " '00090',\n",
              " '00090 however',\n",
              " '000918mi',\n",
              " '000918mi average',\n",
              " '000alep9721txt',\n",
              " '000alep9721txt prime',\n",
              " '000dbc',\n",
              " '000dbc base',\n",
              " '000dbc hexcisco',\n",
              " '000dbc958351',\n",
              " '000dbc958351 dynamic',\n",
              " '000men',\n",
              " '000men 50',\n",
              " '000month',\n",
              " '000month divorce',\n",
              " '000nbsp',\n",
              " '000nbsp list',\n",
              " '000nbsp per',\n",
              " '000odd',\n",
              " '000odd civillians',\n",
              " '000oooh',\n",
              " '000oooh yes',\n",
              " '000people',\n",
              " '000people mostly',\n",
              " '000s',\n",
              " '000s times',\n",
              " '000selling',\n",
              " '000selling urllink',\n",
              " '000the',\n",
              " '000the second',\n",
              " '000yr',\n",
              " '000yr job',\n",
              " '001',\n",
              " '001 002',\n",
              " '001 050',\n",
              " '001 24bit',\n",
              " '001 490',\n",
              " '001 au',\n",
              " '001 away',\n",
              " '001 bank',\n",
              " '001 books',\n",
              " '001 bought',\n",
              " '001 brutal',\n",
              " '001 catalogue',\n",
              " '001 chance',\n",
              " '001 close',\n",
              " '001 clothing',\n",
              " '001 club',\n",
              " '001 cost',\n",
              " '001 dated',\n",
              " '001 de',\n",
              " '001 death',\n",
              " '001 done',\n",
              " '001 dont',\n",
              " '001 duped',\n",
              " '001 eat',\n",
              " '001 ebay',\n",
              " '001 embarrassing',\n",
              " '001 entering',\n",
              " '001 first',\n",
              " '001 focus',\n",
              " '001 full',\n",
              " '001 get',\n",
              " '001 gnawonkitties',\n",
              " '001 hair',\n",
              " '001 hates',\n",
              " '001 instead',\n",
              " '001 invest',\n",
              " '001 javaioioexception',\n",
              " '001 kg',\n",
              " '001 kill',\n",
              " '001 level',\n",
              " '001 listen',\n",
              " '001 macaroni',\n",
              " '001 meg',\n",
              " '001 middle',\n",
              " '001 miles',\n",
              " '001 months',\n",
              " '001 name',\n",
              " '001 okay',\n",
              " '001 originally',\n",
              " '001 per',\n",
              " '001 percentage',\n",
              " '001 phone',\n",
              " '001 piano',\n",
              " '001 pile',\n",
              " '001 play',\n",
              " '001 politics',\n",
              " '001 population',\n",
              " '001 prices',\n",
              " '001 recorded',\n",
              " '001 repeated',\n",
              " '001 response',\n",
              " '001 seconds',\n",
              " '001 shera',\n",
              " '001 shy',\n",
              " '001 sick',\n",
              " '001 sister',\n",
              " '001 spell',\n",
              " '001 steven',\n",
              " '001 store',\n",
              " '001 time',\n",
              " '001 title',\n",
              " '001 touched',\n",
              " '001 traffic',\n",
              " '001 transactions',\n",
              " '001 travel',\n",
              " '001 urllink',\n",
              " '001 vegetarian',\n",
              " '001 vm',\n",
              " '001 water',\n",
              " '001 weaner',\n",
              " '001 wearing',\n",
              " '001 µas',\n",
              " '0010',\n",
              " '0010 fell',\n",
              " '0010 hrs',\n",
              " '00100',\n",
              " '00100 16mm',\n",
              " '00100 finished',\n",
              " '00100000',\n",
              " '00100000 00001101',\n",
              " '00100000 00111010',\n",
              " '00100000 01000010',\n",
              " '00100000 01000011',\n",
              " '00100000 01000100',\n",
              " '00100000 01001000',\n",
              " '00100000 01001001',\n",
              " '00100000 01001010',\n",
              " '00100000 01001011',\n",
              " '00100000 01001101',\n",
              " '00100000 01001110',\n",
              " '00100000 01001111',\n",
              " '00100000 01010000',\n",
              " '00100000 01010100',\n",
              " '00100000 01010110',\n",
              " '00100000 01011001',\n",
              " '00100000 01100001',\n",
              " '00100000 01100010',\n",
              " '00100000 01100011',\n",
              " '00100000 01100101',\n",
              " '00100000 01100110',\n",
              " '00100000 01100111',\n",
              " '00100000 01101000',\n",
              " '00100000 01101001',\n",
              " '00100000 01101010',\n",
              " '00100000 01101011',\n",
              " '00100000 01101100',\n",
              " '00100000 01101101',\n",
              " '00100000 01101110',\n",
              " '00100000 01101111',\n",
              " '00100000 01110000',\n",
              " '00100000 01110010',\n",
              " '00100000 01110011',\n",
              " '00100000 01110100',\n",
              " '00100000 01110111',\n",
              " '00100000 01111001',\n",
              " '0010000001100001011011100110010000100000',\n",
              " '0010000001100001011011100110010000100000 0101011001101111011101000110010100100000',\n",
              " '0010000001100101011010010111010001101000',\n",
              " '0010000001100101011010010111010001101000 0110010101110010001000000110101101101110',\n",
              " '0010000001110010011001010110000101100100',\n",
              " '0010000001110010011001010110000101100100 0010000001110100011010000110100101110011',\n",
              " '0010000001110100011010000110100101110011',\n",
              " '0010000001110100011010000110100101110011 0010110000100000011110010110111101110101',\n",
              " '0010000010001010000010000101010000010010010010000101001',\n",
              " '0010000010001010000010000101010000010010010010000101001 dont',\n",
              " '00100001',\n",
              " '0010000100000011000100110010100100000011100110111011101101001011011',\n",
              " '0010000100000011000100110010100100000011100110111011101101001011011 1001100111011010010110111000100111001000000110111101101110001000000',\n",
              " '001001001001',\n",
              " '001001001001 compressing',\n",
              " '00100111',\n",
              " '00100111 01110100',\n",
              " '00101001',\n",
              " '00101100',\n",
              " '00101100 00100000',\n",
              " '00101100 01100101',\n",
              " '0010110000100000011110010110111101110101',\n",
              " '0010110000100000011110010110111101110101 0010000001100101011010010111010001101000',\n",
              " '0010110111101110101001000000110000101110010011001010000110100001010',\n",
              " '0010110111101110101001000000110000101110010011001010000110100001010 0101100101101111011101010010000001100011011011110111010101101100011',\n",
              " '00101110',\n",
              " '00101110 00100000',\n",
              " '00101110 00101110',\n",
              " '00101110 01010011',\n",
              " '00101110 chop',\n",
              " '0010111000100000001000000100010101101001',\n",
              " '0010111000100000001000000100010101101001 0111010001101000011001010111001000100000',\n",
              " '00101110010101101101001110100100101010001',\n",
              " '00101110010101101101001110100100101010001 exitexe',\n",
              " '0010111010101101001011101000110010100100000011000010010000001100110',\n",
              " '0010111010101101001011101000110010100100000011000010010000001100110 0110010101110111000011010000101001010011011011110010000001111001011',\n",
              " '00104',\n",
              " '00104 efficiency',\n",
              " '00104 jill',\n",
              " '00104 one',\n",
              " '001049',\n",
              " '001049 2000',\n",
              " '0011',\n",
              " '0011 betrothed',\n",
              " '00110001',\n",
              " '00110001 much',\n",
              " '00110010',\n",
              " '00110010 00110011',\n",
              " '00110011',\n",
              " '00110011 00111000',\n",
              " '001100la',\n",
              " '001100la november',\n",
              " '0011011010000010111000100000001011010111001101110000',\n",
              " '0011011010000010111000100000001011010111001101110000 01101111011100100110101101101111',\n",
              " '00111000',\n",
              " '00111000 00110001',\n",
              " '00111010',\n",
              " '00111010 00101001',\n",
              " '00111011',\n",
              " '00111011 00100000',\n",
              " '001111',\n",
              " '001111 cartwheel',\n",
              " '00111111',\n",
              " '00111111 00100000',\n",
              " '0011111100100000011000110110111101101101011011010110',\n",
              " '0011111100100000011000110110111101101101011011010110 0101011011100111010000100000011010010110011000100000',\n",
              " '0012',\n",
              " '0012 gmt',\n",
              " '001219',\n",
              " '001219 counting',\n",
              " '00125',\n",
              " '00125 sec',\n",
              " '0012505197199',\n",
              " '0012505197199 thats',\n",
              " '0013',\n",
              " '0013 real',\n",
              " '001300la',\n",
              " '001300la 20040101',\n",
              " '001341',\n",
              " '001341 0000',\n",
              " '001400',\n",
              " '001400 58283',\n",
              " '001435',\n",
              " '001435 edt',\n",
              " '00145',\n",
              " '00145 percent',\n",
              " '0014595857',\n",
              " '0014595857 hiro',\n",
              " '0015',\n",
              " '0015 15',\n",
              " '0015 got',\n",
              " '0015 ist',\n",
              " '0015 last',\n",
              " '0015 suppose',\n",
              " '0015 tomorrow',\n",
              " '001500',\n",
              " '001500 thumbs',\n",
              " '0015hrs',\n",
              " '0015hrs friday',\n",
              " '0015ish',\n",
              " '0015ish went',\n",
              " '0015nbspnbsp',\n",
              " '0015nbspnbsp ba0139',\n",
              " '001625',\n",
              " '001625 visitors',\n",
              " '001640448',\n",
              " '001640448 bug',\n",
              " '001640518',\n",
              " '001640518 ok',\n",
              " '001640544',\n",
              " '001640544 sure',\n",
              " '001640609',\n",
              " '001640609 ur',\n",
              " '001640713',\n",
              " '001640713 kno',\n",
              " '001640719',\n",
              " '001640719 blueberry1009040722',\n",
              " '001640847',\n",
              " '001640847 im',\n",
              " '001640858',\n",
              " '001640858 wats',\n",
              " '001640901',\n",
              " '001640901 bitch',\n",
              " '001640924',\n",
              " '001640924 cold',\n",
              " '001640941',\n",
              " '001640941 nigger',\n",
              " '001641012',\n",
              " '001641012 ok',\n",
              " '001641035',\n",
              " '001641035 sometimes',\n",
              " '001641057',\n",
              " '001641057 ya',\n",
              " '001641123',\n",
              " '001641123 summer',\n",
              " '0017602819855',\n",
              " '0017602819855 email',\n",
              " '001875',\n",
              " '001875 plugging',\n",
              " '0019',\n",
              " '0019 12242003',\n",
              " '0019 zz',\n",
              " '00196',\n",
              " '00196 im',\n",
              " '001jpg',\n",
              " '001jpg vet',\n",
              " '001s',\n",
              " '001s figure',\n",
              " '002',\n",
              " '002 003',\n",
              " '002 010',\n",
              " '002 07',\n",
              " '002 253',\n",
              " ...]"
            ]
          },
          "metadata": {
            "tags": []
          },
          "execution_count": 42
        }
      ]
    },
    {
      "cell_type": "code",
      "metadata": {
        "id": "LiDViquT7ORx"
      },
      "source": [
        "X_train_ct = cvect.transform(X_train)"
      ],
      "execution_count": 37,
      "outputs": []
    },
    {
      "cell_type": "code",
      "metadata": {
        "id": "bL9Hm8O54ouv",
        "outputId": "87884318-f094-44eb-956e-2dee57343fde",
        "colab": {
          "base_uri": "https://localhost:8080/"
        }
      },
      "source": [
        "X_train_ct"
      ],
      "execution_count": 38,
      "outputs": [
        {
          "output_type": "execute_result",
          "data": {
            "text/plain": [
              "<545027x21008840 sparse matrix of type '<class 'numpy.int64'>'\n",
              "\twith 97403258 stored elements in Compressed Sparse Row format>"
            ]
          },
          "metadata": {
            "tags": []
          },
          "execution_count": 38
        }
      ]
    },
    {
      "cell_type": "code",
      "metadata": {
        "id": "L_v_jtcC8tw9"
      },
      "source": [
        "X_test_ct = cvect.transform(X_test)"
      ],
      "execution_count": 39,
      "outputs": []
    },
    {
      "cell_type": "code",
      "metadata": {
        "id": "nKpl9jvZ9KgD",
        "outputId": "5a0b95f7-bee8-4e29-c5cb-346627610997",
        "colab": {
          "base_uri": "https://localhost:8080/"
        }
      },
      "source": [
        "print(X_train_ct)"
      ],
      "execution_count": 43,
      "outputs": [
        {
          "output_type": "stream",
          "text": [
            "  (0, 3012630)\t1\n",
            "  (0, 19445005)\t1\n",
            "  (0, 19453132)\t1\n",
            "  (1, 1032703)\t1\n",
            "  (1, 1033924)\t1\n",
            "  (1, 1490667)\t1\n",
            "  (1, 1495813)\t1\n",
            "  (1, 2829058)\t1\n",
            "  (1, 2829634)\t1\n",
            "  (1, 3085415)\t1\n",
            "  (1, 3284547)\t1\n",
            "  (1, 3284800)\t1\n",
            "  (1, 5356575)\t1\n",
            "  (1, 5364187)\t1\n",
            "  (1, 7178893)\t1\n",
            "  (1, 7189199)\t1\n",
            "  (1, 7333028)\t1\n",
            "  (1, 7333244)\t1\n",
            "  (1, 7883049)\t1\n",
            "  (1, 7883052)\t1\n",
            "  (1, 11019185)\t1\n",
            "  (1, 11022129)\t1\n",
            "  (1, 11919109)\t1\n",
            "  (1, 11919381)\t1\n",
            "  (1, 12166247)\t1\n",
            "  :\t:\n",
            "  (545026, 18389929)\t1\n",
            "  (545026, 18403209)\t1\n",
            "  (545026, 18461485)\t1\n",
            "  (545026, 18463472)\t1\n",
            "  (545026, 18603431)\t2\n",
            "  (545026, 18605386)\t1\n",
            "  (545026, 18606387)\t1\n",
            "  (545026, 18839513)\t1\n",
            "  (545026, 18839571)\t1\n",
            "  (545026, 19058203)\t1\n",
            "  (545026, 19064069)\t1\n",
            "  (545026, 19066829)\t1\n",
            "  (545026, 19068155)\t1\n",
            "  (545026, 20108232)\t1\n",
            "  (545026, 20108778)\t1\n",
            "  (545026, 20463261)\t1\n",
            "  (545026, 20466960)\t1\n",
            "  (545026, 20611974)\t2\n",
            "  (545026, 20620516)\t2\n",
            "  (545026, 20637319)\t1\n",
            "  (545026, 20640078)\t1\n",
            "  (545026, 20800318)\t1\n",
            "  (545026, 20804673)\t1\n",
            "  (545026, 20863049)\t1\n",
            "  (545026, 20863101)\t1\n"
          ],
          "name": "stdout"
        }
      ]
    },
    {
      "cell_type": "markdown",
      "metadata": {
        "id": "X8wIducE-71O"
      },
      "source": [
        "Create a dictionary to get the count of every label i.e. the key will be label name and value will be the total count of the label. Check below image for reference"
      ]
    },
    {
      "cell_type": "code",
      "metadata": {
        "id": "tW_ABkPC-vgM"
      },
      "source": [
        "label_counts=dict()\n",
        "\n",
        "for labels in df.labels.values:\n",
        "    for label in labels:\n",
        "        if label in label_counts:\n",
        "            label_counts[str(label)]+=1\n",
        "        else:\n",
        "            label_counts[str(label)]=1"
      ],
      "execution_count": 45,
      "outputs": []
    },
    {
      "cell_type": "code",
      "metadata": {
        "id": "1zHjWX3B_WNO",
        "outputId": "88d43094-5722-4910-8882-5870c29e011c",
        "colab": {
          "base_uri": "https://localhost:8080/"
        }
      },
      "source": [
        "label_counts"
      ],
      "execution_count": 46,
      "outputs": [
        {
          "output_type": "execute_result",
          "data": {
            "text/plain": [
              "{'13': 1,\n",
              " '14': 1,\n",
              " '15': 1,\n",
              " '16': 1,\n",
              " '17': 1,\n",
              " '23': 1,\n",
              " '24': 1,\n",
              " '25': 1,\n",
              " '26': 1,\n",
              " '27': 1,\n",
              " '33': 1,\n",
              " '34': 1,\n",
              " '35': 1,\n",
              " '36': 1,\n",
              " '37': 1,\n",
              " '38': 1,\n",
              " '39': 1,\n",
              " '40': 1,\n",
              " '41': 1,\n",
              " '42': 1,\n",
              " '43': 1,\n",
              " '44': 1,\n",
              " '45': 1,\n",
              " '46': 1,\n",
              " '47': 1,\n",
              " '48': 1,\n",
              " 'Accounting': 3832,\n",
              " 'Advertising': 4676,\n",
              " 'Agriculture': 1235,\n",
              " 'Aquarius': 49687,\n",
              " 'Architecture': 1638,\n",
              " 'Aries': 64979,\n",
              " 'Arts': 32449,\n",
              " 'Automotive': 1244,\n",
              " 'Banking': 4049,\n",
              " 'Biotech': 2234,\n",
              " 'BusinessServices': 4500,\n",
              " 'Cancer': 65048,\n",
              " 'Capricorn': 49201,\n",
              " 'Chemicals': 3928,\n",
              " 'Communications-Media': 20140,\n",
              " 'Construction': 1093,\n",
              " 'Consulting': 5862,\n",
              " 'Education': 29633,\n",
              " 'Engineering': 11653,\n",
              " 'Environment': 592,\n",
              " 'Fashion': 4851,\n",
              " 'Gemini': 51985,\n",
              " 'Government': 6907,\n",
              " 'HumanResources': 3010,\n",
              " 'Internet': 16006,\n",
              " 'InvestmentBanking': 1292,\n",
              " 'Law': 9040,\n",
              " 'LawEnforcement-Security': 1878,\n",
              " 'Leo': 53811,\n",
              " 'Libra': 62363,\n",
              " 'Manufacturing': 2272,\n",
              " 'Maritime': 280,\n",
              " 'Marketing': 4769,\n",
              " 'Military': 3128,\n",
              " 'Museums-Libraries': 3096,\n",
              " 'Non-Profit': 14700,\n",
              " 'Pisces': 54053,\n",
              " 'Publishing': 7753,\n",
              " 'RealEstate': 2870,\n",
              " 'Religion': 5235,\n",
              " 'Sagittarius': 50036,\n",
              " 'Science': 7269,\n",
              " 'Scorpio': 57161,\n",
              " 'Sports-Recreation': 3038,\n",
              " 'Student': 153903,\n",
              " 'Taurus': 62561,\n",
              " 'Technology': 42055,\n",
              " 'Telecommunications': 3891,\n",
              " 'Tourism': 1942,\n",
              " 'Transportation': 2326,\n",
              " 'Virgo': 60399,\n",
              " 'female': 336091,\n",
              " 'indUnk': 251015,\n",
              " 'male': 345193}"
            ]
          },
          "metadata": {
            "tags": []
          },
          "execution_count": 46
        }
      ]
    },
    {
      "cell_type": "markdown",
      "metadata": {
        "id": "wjKzAZ27_m5W"
      },
      "source": [
        "**Transform the labels**   \n",
        "As we have noticed before, in this task each example can have multiple tags. To deal with such kind of prediction, we need to transform labels in a binary form and the prediction will be a mask of 0s and 1s. For this purpose, it is convenient to use MultiLabelBinarizer from sklearn a. Convert your train and test labels using MultiLabelBinarizer"
      ]
    },
    {
      "cell_type": "code",
      "metadata": {
        "id": "O7gWZXiI_gLJ"
      },
      "source": [
        "from sklearn.preprocessing import MultiLabelBinarizer\n",
        "binarizer=MultiLabelBinarizer(classes=sorted(label_counts.keys()))"
      ],
      "execution_count": 47,
      "outputs": []
    },
    {
      "cell_type": "code",
      "metadata": {
        "id": "8ooCxek0_7tf"
      },
      "source": [
        "y_train = binarizer.fit_transform(y_train)"
      ],
      "execution_count": 48,
      "outputs": []
    },
    {
      "cell_type": "code",
      "metadata": {
        "id": "9_6_UxVdABF8"
      },
      "source": [
        "y_test = binarizer.transform(y_test)"
      ],
      "execution_count": 49,
      "outputs": []
    },
    {
      "cell_type": "code",
      "metadata": {
        "id": "bf6uKlQYAEAV",
        "outputId": "775bc07c-496d-4645-c006-bd9994fed391",
        "colab": {
          "base_uri": "https://localhost:8080/"
        }
      },
      "source": [
        "y_test"
      ],
      "execution_count": 50,
      "outputs": [
        {
          "output_type": "execute_result",
          "data": {
            "text/plain": [
              "array([[0, 0, 0, ..., 0, 0, 1],\n",
              "       [0, 0, 0, ..., 0, 0, 1],\n",
              "       [0, 0, 0, ..., 1, 1, 0],\n",
              "       ...,\n",
              "       [0, 0, 0, ..., 0, 0, 1],\n",
              "       [0, 0, 0, ..., 0, 0, 1],\n",
              "       [0, 0, 0, ..., 0, 1, 1]])"
            ]
          },
          "metadata": {
            "tags": []
          },
          "execution_count": 50
        }
      ]
    },
    {
      "cell_type": "code",
      "metadata": {
        "id": "nOVGafojANLO",
        "outputId": "345254d2-e2ee-4653-9246-dc36860e6a67",
        "colab": {
          "base_uri": "https://localhost:8080/"
        }
      },
      "source": [
        "y_train"
      ],
      "execution_count": 51,
      "outputs": [
        {
          "output_type": "execute_result",
          "data": {
            "text/plain": [
              "array([[0, 0, 0, ..., 1, 1, 0],\n",
              "       [0, 0, 0, ..., 1, 1, 0],\n",
              "       [0, 0, 0, ..., 1, 0, 0],\n",
              "       ...,\n",
              "       [0, 0, 0, ..., 0, 0, 1],\n",
              "       [0, 0, 0, ..., 1, 0, 0],\n",
              "       [0, 0, 0, ..., 1, 0, 0]])"
            ]
          },
          "metadata": {
            "tags": []
          },
          "execution_count": 51
        }
      ]
    },
    {
      "cell_type": "markdown",
      "metadata": {
        "id": "g3pPN16KBXMU"
      },
      "source": [
        "**Choose a classifier**\n",
        "In this task,the One-vs-Rest approach is used, which is implemented in OneVsRestClassifier class. In this approach k classifiers (= number of tags) are trained. As a basic classifier, LogisticRegression is used. It is one of the simplest methods, but often it performs good enough in text classification tasks. It might take some time because the number of classifiers to train is large."
      ]
    },
    {
      "cell_type": "markdown",
      "metadata": {
        "id": "iE4CZlVVAi7g"
      },
      "source": [
        "**Fit the classifier, make predictions and get the accuracy**   \n",
        "Print the following     \n",
        "i. Accuracy score ii. F1 score iii. Average precision score iv. Average recall score"
      ]
    },
    {
      "cell_type": "code",
      "metadata": {
        "id": "X3r6MY6DAhBF"
      },
      "source": [
        "  from sklearn.multiclass import OneVsRestClassifier\n",
        "from sklearn.linear_model import LogisticRegression"
      ],
      "execution_count": 1,
      "outputs": []
    },
    {
      "cell_type": "code",
      "metadata": {
        "id": "aq9Ory8GBIGj"
      },
      "source": [
        "model=LogisticRegression(solver='lbfgs', max_iter=100)\n",
        "model=OneVsRestClassifier(model)\n",
        "model.fit(X_train_ct,y_train)"
      ],
      "execution_count": null,
      "outputs": []
    },
    {
      "cell_type": "code",
      "metadata": {
        "id": "KScS_mmTBQt4"
      },
      "source": [
        ""
      ],
      "execution_count": null,
      "outputs": []
    },
    {
      "cell_type": "code",
      "metadata": {
        "id": "Wizs8nkmAQc-"
      },
      "source": [
        ""
      ],
      "execution_count": null,
      "outputs": []
    }
  ]
}